{
 "cells": [
  {
   "cell_type": "markdown",
   "metadata": {},
   "source": [
    "# Setup Libraries & Constant"
   ]
  },
  {
   "cell_type": "code",
   "execution_count": 2,
   "metadata": {},
   "outputs": [],
   "source": [
    "import sys\n",
    "import ast\n",
    "import pandas as pd\n",
    "import docplex.mp\n",
    "from collections import namedtuple\n",
    "from docplex.mp.model import Model\n",
    "from docplex.mp.environment import Environment\n",
    "import docplex.mp.conflict_refiner as cr\n",
    "import random"
   ]
  },
  {
   "cell_type": "markdown",
   "metadata": {},
   "source": [
    "# Define Constant"
   ]
  },
  {
   "cell_type": "markdown",
   "metadata": {},
   "source": [
    "## Country & Economics"
   ]
  },
  {
   "cell_type": "code",
   "execution_count": null,
   "metadata": {},
   "outputs": [],
   "source": [
    "int_cod = ('JPN',  'LKA',  'HKG',  'CHN',  'SGP',  'MYS',  'KOR',  'IND',  'OAS',  'PAK',  'IDN',  'PHL',  'BGD',  'THA',  'VNM',  'KHM',  'MMR')\n",
    "int_country = {'BD': 'BGD','CN': 'CHN','HK': 'HKG','IN': 'IND','ID': 'IDN', 'JP': 'JPN',\n",
    "  'KH': 'KHM','KR': 'KOR','MM': 'MMR', 'MY': 'MYS','PK': 'PAK','PH': 'PHL','SG': 'SGP',\n",
    "   'LK': 'LKA',  'TW': 'OAS',  'TH': 'THA',  'VN': 'VNM' }\n",
    "con_int = dict(zip(int_country.values(),int_country.keys()))\n",
    "\n",
    "assert len(int_cod),len(int_country)\n",
    "assert len([i for i in int_country.values() if i not in int_cod]) ==0\n",
    "regions_cod = ('AFR','EUR','ELT','WLT','MDE','NAM','OCE')\n",
    "economics = tuple(int_cod + regions_cod)"
   ]
  },
  {
   "cell_type": "markdown",
   "metadata": {},
   "source": [
    "## Vessel"
   ]
  },
  {
   "cell_type": "code",
   "execution_count": null,
   "metadata": {},
   "outputs": [
    {
     "data": {
      "text/plain": [
       "[vessel_type(type='Feeder', teu=3000, draft=8, length=170, quantity=1700, deploy_cost=146),\n",
       " vessel_type(type='Panamax', teu=8500, draft=11, length=275, quantity=1100, deploy_cost=220),\n",
       " vessel_type(type='Neo_Panamax', teu=14000, draft=13, length=335, quantity=600, deploy_cost=326),\n",
       " vessel_type(type='ULCV', teu=25000, draft=14, length=390, quantity=200, deploy_cost=506)]"
      ]
     },
     "execution_count": 3,
     "metadata": {},
     "output_type": "execute_result"
    }
   ],
   "source": [
    "VESSEL_TYPE = [\n",
    "    ('Feeder',      3000,   8,   170, 1700, 146 ),\n",
    "    ('Panamax',     8500,   11,  275, 1100, 220),\n",
    "    ('Neo_Panamax', 14000,  13,  335, 600,  326),\n",
    "    ('ULCV',        25000,  14,  390, 200,  506)\n",
    "]\n",
    "# 170 275 335 390\n",
    "Vessel_type = namedtuple('vessel_type',['type','teu','draft','length','quantity','deploy_cost'])\n",
    "# Cost in week base (k$)\n",
    "vtypes = [Vessel_type(*v) for v in VESSEL_TYPE]\n",
    "vtypes\n",
    "\n",
    "# Note. Don't forget to adjust ship building year\n",
    "# Vessel \t\t\t\tSize\t\t\tDWT(Med)\tDepth\t\tLength (Min,Med,Max,Mean)\n",
    "# Feeder \t\t\t\t(<3000 Teu)\t\t20k\t\t\t<=8\t\t\t78,170,247,168\n",
    "# Panamax  \t\t\t(3000-8500 Teu)\t\t65k\t\t\t<=11\t\t175,275,366,277\n",
    "# Post / Neo Panamax \t(8500-14000 Teu)120k\t\t<=13\t\t298,336,400,338\n",
    "# ULCV \t\t\t\t(>14000 Teu)\t\t190k\t\t<=14\t\t353,399,400,389"
   ]
  },
  {
   "cell_type": "code",
   "execution_count": null,
   "metadata": {},
   "outputs": [
    {
     "data": {
      "text/plain": [
       "25000"
      ]
     },
     "execution_count": 4,
     "metadata": {},
     "output_type": "execute_result"
    }
   ],
   "source": [
    "vtypes[3].teu\n"
   ]
  },
  {
   "cell_type": "markdown",
   "metadata": {},
   "source": [
    "# Import data"
   ]
  },
  {
   "cell_type": "markdown",
   "metadata": {},
   "source": [
    "## Demand"
   ]
  },
  {
   "cell_type": "code",
   "execution_count": null,
   "metadata": {},
   "outputs": [
    {
     "name": "stdout",
     "output_type": "stream",
     "text": [
      "Total Demand 552\n"
     ]
    },
    {
     "data": {
      "text/plain": [
       "(\"('JPN', 'LKA') : \", 180, \"tot_dem['JPN']\", 113678)"
      ]
     },
     "execution_count": 5,
     "metadata": {},
     "output_type": "execute_result"
    }
   ],
   "source": [
    "dem_matrix = pd.read_csv('load_matrix_2015.csv').iloc[:,1:]\n",
    "# Demand = namedtuple('Frm',['teu','draft','length','quantity','deploy_cost'])\n",
    "# OD = Origin Destination\n",
    "demands,tot_dem, = {},{}\n",
    "for f in economics:\n",
    "    tot_dem[f] = 0\n",
    "    for t in economics:\n",
    "        if f==t : continue\n",
    "        demands[f,t] = dem_matrix[(dem_matrix.From==f)&(dem_matrix.To==t)].TEU.sum()//50\n",
    "        tot_dem[f] += demands[f,t]\n",
    "assert len(demands) == len(economics) *(len(economics)-1)\n",
    "print(f\"Total Demand {len(demands)}\")    #552\n",
    "\"('JPN', 'LKA') : \",demands[('JPN', 'LKA')],\"tot_dem['JPN']\",tot_dem['JPN']"
   ]
  },
  {
   "cell_type": "code",
   "execution_count": null,
   "metadata": {},
   "outputs": [],
   "source": [
    "dem = dict(zip(pd.read_csv('TEU_2015.csv').Econ,pd.read_csv('TEU_2015.csv').TEU//50))"
   ]
  },
  {
   "cell_type": "code",
   "execution_count": null,
   "metadata": {},
   "outputs": [],
   "source": [
    "# for f in economics:\n",
    "#     for t in economics:\n",
    "#         if (f=='LKA' or t=='LKA' )and f!=t:\n",
    "#             print(f'{f},{t} :{demands[(f,t)]}')"
   ]
  },
  {
   "cell_type": "code",
   "execution_count": null,
   "metadata": {},
   "outputs": [],
   "source": []
  },
  {
   "cell_type": "markdown",
   "metadata": {},
   "source": [
    "## Port"
   ]
  },
  {
   "cell_type": "code",
   "execution_count": null,
   "metadata": {},
   "outputs": [
    {
     "data": {
      "text/plain": [
       "([('PKBQM', 0, 0, 670, 780, 24831, 65081, 122581, 122581, 51, 30),\n",
       "  ('PKKHI', 0, 0, 1675, 1560, 46012, 131762, 254262, 254262, 128, 0),\n",
       "  ('SGSIN', 1700, 1375, 0, 17160, 4018, 5768, 8268, 8268, 65, 42),\n",
       "  ('THSGZ', 510, 0, 0, 0, 5399, 15899, 30899, 30899, 47, 1),\n",
       "  ('THBKK', 2890, 0, 0, 0, 5399, 15899, 30899, 30899, 47, 1),\n",
       "  ('THLCH', 0, 0, 1675, 3120, 10793, 28293, 53293, 53293, 41, 32)],\n",
       " 67)"
      ]
     },
     "execution_count": 8,
     "metadata": {},
     "output_type": "execute_result"
    }
   ],
   "source": [
    "master_port = pd.read_csv('ports_master.csv').iloc[:,1:]\n",
    "# port = master_port[['LOCODE','draft0_r','draft1_r','draft2_r','draft3_r']].itertuples(index=False)\n",
    "PORTS = list(master_port[['LOCODE','draft0_r','draft1_r','draft2_r','draft3_r','due_0', 'due_1', 'due_2', 'due_3', 'thc/teu','tranship/teu']].itertuples(index=False, name=None))\n",
    "# Port = namedtuple('port',['LOCODE','draft0','draft1','draft2','draft3','due_0', 'due_1', 'due_2', 'due_3', 'thc/teu','tranship/teu'])\n",
    "# PORT[]\n",
    "PORTS [55:61],len(PORTS)\n"
   ]
  },
  {
   "cell_type": "code",
   "execution_count": null,
   "metadata": {},
   "outputs": [
    {
     "data": {
      "text/plain": [
       "74"
      ]
     },
     "execution_count": 9,
     "metadata": {},
     "output_type": "execute_result"
    }
   ],
   "source": [
    "# EX_PORT = , 0, 0, 0, 0, 23110, 35360, 52860, 52860, 0, 31)\n",
    "for reg in regions_cod:\n",
    "    sc = (reg, 20000, 20000, 20000, 20000, 0, 0, 0, 0, 0, 999)\n",
    "    PORTS.append(sc)\n",
    "# len(sc),len(ports[2]),sc\n",
    "len(PORTS) #75\n",
    "# High transhipment, Low THC, due ???, unlimited berth"
   ]
  },
  {
   "cell_type": "code",
   "execution_count": null,
   "metadata": {},
   "outputs": [
    {
     "data": {
      "text/plain": [
       "(('BDCGP', 'CNDCB', 'CNYTG'),\n",
       " ('MDE', 'NAM', 'OCE'),\n",
       " 43,\n",
       " ('MMRGN', 4760, 0, 0, 0, 36380, 104630, 202130, 202130, 52, 1))"
      ]
     },
     "execution_count": 10,
     "metadata": {},
     "output_type": "execute_result"
    }
   ],
   "source": [
    "interest_port = tuple(master_port.LOCODE.tolist())\n",
    "total_port = tuple(master_port.LOCODE.tolist() + list(regions_cod))\n",
    "total_port[:3],total_port[-3:],total_port.index('LKCMB'),PORTS[44]"
   ]
  },
  {
   "cell_type": "code",
   "execution_count": null,
   "metadata": {},
   "outputs": [
    {
     "data": {
      "text/plain": [
       "([ports_info(lOCODE='BDCGP', draft0_r=3060, draft1_r=0, draft2_r=0, draft3_r=0, due_0=36380, due_1=104630, due_2=202130, due_3=202130, thc=52, tranship=1),\n",
       "  ports_info(lOCODE='CNDCB', draft0_r=0, draft1_r=0, draft2_r=0, draft3_r=2340, due_0=15797, due_1=24547, due_2=37047, due_3=37047, thc=89, tranship=31)],\n",
       " 74)"
      ]
     },
     "execution_count": 11,
     "metadata": {},
     "output_type": "execute_result"
    }
   ],
   "source": [
    "Ports_info = namedtuple('ports_info',['lOCODE','draft0_r','draft1_r','draft2_r','draft3_r','due_0', 'due_1', 'due_2', 'due_3', 'thc','tranship'])\n",
    "ports = [Ports_info(*p) for p in PORTS]\n",
    "ports [:2],len(ports)"
   ]
  },
  {
   "cell_type": "code",
   "execution_count": null,
   "metadata": {},
   "outputs": [
    {
     "data": {
      "text/plain": [
       "52"
      ]
     },
     "execution_count": 12,
     "metadata": {},
     "output_type": "execute_result"
    }
   ],
   "source": [
    "ports[0].due_0 == ports[0][5]\n",
    "ports[9][8]\n",
    "ports[0][-2]\n",
    "# ([('BGD', 0, 'BDCGP'),\n",
    "#   ('CHN', 1, 'CNDCB'),\n",
    "#   ('CHN', 2, 'CNYTG'),"
   ]
  },
  {
   "cell_type": "code",
   "execution_count": null,
   "metadata": {},
   "outputs": [
    {
     "data": {
      "text/plain": [
       "(3, 'CHN', 23, 'OCE', 'OCE')"
      ]
     },
     "execution_count": 13,
     "metadata": {},
     "output_type": "execute_result"
    }
   ],
   "source": [
    "# port_country [_p] == _e\n",
    "port_country = {i:economics.index(int_country[p[:2]]) for i,p in enumerate(total_port) if len(p)==5}\n",
    "port_country.update({i:economics.index(p) for i,p in enumerate(total_port) if len(p)==3})\n",
    "# port_country += [(p,i,p) for i,p in enumerate(total_port) if len(p)==3]\n",
    "port_country[2],economics[3],port_country[73],total_port[73],economics[23]"
   ]
  },
  {
   "cell_type": "markdown",
   "metadata": {},
   "source": [
    "## Port Call"
   ]
  },
  {
   "cell_type": "code",
   "execution_count": null,
   "metadata": {},
   "outputs": [
    {
     "data": {
      "text/plain": [
       "Calls          [CNXMG, TWKHH, TWTXG, CNXMG, TWKHH, CNXMG]\n",
       "PC_Count                                                6\n",
       "Area_Calls                                            INT\n",
       "Area_Cover                                              3\n",
       "Turn_Around                                             7\n",
       "Week                                                    1\n",
       "Calls_Count                                             6\n",
       "Name: 102, dtype: object"
      ]
     },
     "execution_count": 14,
     "metadata": {},
     "output_type": "execute_result"
    }
   ],
   "source": [
    "port_call_df = pd.read_csv('Port_call_master.csv').iloc[:,1:]\n",
    "port_call_df = port_call_df[port_call_df.Calls_Count>0].reset_index(drop=True)\n",
    "def str2list(x:str):\n",
    "    return list(ast.literal_eval(x))\n",
    "port_call_df.LOCODE_Calls = port_call_df.LOCODE_Calls.apply(str2list)\n",
    "port_call_df.Calls = port_call_df.Calls.apply(str2list)\n",
    "port_call_df[['Calls','PC_Count','Area_Calls','Area_Cover','Turn_Around','Week','Calls_Count']].iloc[102]"
   ]
  },
  {
   "cell_type": "code",
   "execution_count": null,
   "metadata": {},
   "outputs": [
    {
     "data": {
      "text/plain": [
       "LOCODE_Calls    [CNNBG, CNSHG, KRPUS, USLGB, KRPUS, CNNBG]\n",
       "Calls               [NAM, KRPUS, CNNBG, CNSHG, KRPUS, NAM]\n",
       "PC_Count                                                 6\n",
       "Area_Calls                                         INT,NAM\n",
       "Area_Cover                                               7\n",
       "Turn_Around                                             42\n",
       "Week                                                     6\n",
       "Calls_Count                                              6\n",
       "Name: 92, dtype: object"
      ]
     },
     "execution_count": 15,
     "metadata": {},
     "output_type": "execute_result"
    }
   ],
   "source": [
    "PORTCALL = list(port_call_df[['Calls','PC_Count','Area_Calls','Area_Cover','Turn_Around','Week','Calls_Count']].itertuples(index=False, name=None))\n",
    "PORTCALL[92]\n",
    "port_call_df[['LOCODE_Calls','Calls','PC_Count','Area_Calls','Area_Cover','Turn_Around','Week','Calls_Count']].iloc[92]\n",
    "# port_call_df.Calls_Count.value_counts()"
   ]
  },
  {
   "cell_type": "code",
   "execution_count": null,
   "metadata": {},
   "outputs": [
    {
     "data": {
      "text/plain": [
       "(431, 3501, (1, 3, ('SGSIN', 'KHKOS', 'SGSIN'), (57, 38, 57)))"
      ]
     },
     "execution_count": 16,
     "metadata": {},
     "output_type": "execute_result"
    }
   ],
   "source": [
    "# Store as index \n",
    "routes_ind = []\n",
    "cnt,ind = 0,0\n",
    "conv_bin = lambda x: 0 if x==0 else 1\n",
    "for ins in PORTCALL:\n",
    "    pc = ins[0]\n",
    "    route = []\n",
    "    legs= ins[-1]\n",
    "    cnt += legs\n",
    "    wk = ins[-2]\n",
    "    econ = []\n",
    "    for l in range(legs):\n",
    "        call_port = pc[l]\n",
    "        # econ.append(port_country[call])\n",
    "        # print(call_port)\n",
    "        try:\n",
    "            call = total_port.index(call_port)\n",
    "        except:\n",
    "            print(pc,len(routes_ind),call_port)\n",
    "            raise\n",
    "        route.append(call)\n",
    "        econ.append(port_country[call])\n",
    "    econ = tuple(dict.fromkeys(econ))\n",
    "    routes_ind.append((wk,legs,tuple(pc),tuple(route),econ))\n",
    "    ind += 1\n",
    "\n",
    "len(routes_ind),cnt,routes_ind[3][:4]\n",
    "# [size,legs,pc(locode),pc(index),economics include]"
   ]
  },
  {
   "cell_type": "code",
   "execution_count": null,
   "metadata": {},
   "outputs": [
    {
     "data": {
      "text/plain": [
       "9"
      ]
     },
     "execution_count": 17,
     "metadata": {},
     "output_type": "execute_result"
    }
   ],
   "source": [
    "# routes_ind[-1],\n",
    "port_country[8],ports[8],economics[3]\n",
    "call"
   ]
  },
  {
   "cell_type": "code",
   "execution_count": null,
   "metadata": {},
   "outputs": [
    {
     "name": "stdout",
     "output_type": "stream",
     "text": [
      "JPN,\t1523000,\t\t402768\t\tTrue\n",
      "LKA,\t246500,\t\t103700\t\tTrue\n",
      "HKG,\t421000,\t\t402280\t\tTrue\n",
      "CHN,\t5140500,\t\t3874680\t\tTrue\n",
      "SGP,\t1172500,\t\t634204\t\tTrue\n",
      "MYS,\t646500,\t\t480254\t\tTrue\n",
      "KOR,\t1366000,\t\t509540\t\tTrue\n",
      "IND,\t872500,\t\t237660\t\tTrue\n",
      "OAS,\t627500,\t\t289836\t\tTrue\n",
      "PAK,\t248000,\t\t55112\t\tTrue\n",
      "IDN,\t405000,\t\t240634\t\tTrue\n",
      "PHL,\t234500,\t\t144208\t\tTrue\n",
      "BGD,\t54000,\t\t40893\t\tTrue\n",
      "THA,\t330000,\t\t189260\t\tTrue\n",
      "VNM,\t385000,\t\t221791\t\tTrue\n",
      "KHM,\t12000,\t\t9480\t\tTrue\n",
      "[17.647058823529413, 30.90909090909091, 41.791044776119406, 64.1025641025641] (4760, 0, 0, 0) 16544\n",
      "MMR,\t84000,\t\t16544\t\tTrue\n",
      "AFR,\t3088995,\t\t299269\t\tTrue\n",
      "EUR,\t3088995,\t\t2644787\t\tTrue\n",
      "ELT,\t3088995,\t\t685540\t\tTrue\n",
      "WLT,\t3088995,\t\t158530\t\tTrue\n",
      "MDE,\t3088995,\t\t779243\t\tTrue\n",
      "NAM,\t3088995,\t\t1181868\t\tTrue\n",
      "OCE,\t3088995,\t\t244728\t\tTrue\n"
     ]
    }
   ],
   "source": [
    "# Check if @ full berth occupancy can accomodate demand\n",
    "max_cap = {}\n",
    "ves_cap = [3000,8500,14000,25000]\n",
    "ves_size = [170,275,335,390]\n",
    "meter_size = [a/b for a, b in zip(ves_cap,ves_size)]\n",
    "for _f,f in enumerate(economics):           # @ Economy f\n",
    "    fports = [(_p,total_port[_p]) for _p,c in port_country.items() if c == _f]\n",
    "    max_cap[f] = 0\n",
    "    for _p,p in fports:\n",
    "        port_berth = PORTS[_p][1:5]\n",
    "        max_cap[f] += int(sum([a * b for a, b in zip(port_berth, meter_size)]))\n",
    "        if f == 'MMR':\n",
    "            print(meter_size, port_berth,dem[f])\n",
    "    print(f\"{f},\\t{max_cap[f]},\\t\\t{dem[f]}\\t\\t{max_cap[f]>dem[f]}\")\n"
   ]
  },
  {
   "cell_type": "markdown",
   "metadata": {},
   "source": [
    "## Iterator"
   ]
  },
  {
   "cell_type": "code",
   "execution_count": null,
   "metadata": {},
   "outputs": [
    {
     "data": {
      "text/plain": [
       "(67, 74, 74, 74, tuple, tuple, list, dict)"
      ]
     },
     "execution_count": 19,
     "metadata": {},
     "output_type": "execute_result"
    }
   ],
   "source": [
    "# port_capacity = \n",
    "_interest_port  = len(interest_port)\n",
    "_total_port     = len(total_port)\n",
    "_ports          = len(ports)\n",
    "_port_country   = len(port_country)\n",
    "\n",
    "_interest_port,_total_port,_ports,_port_country,type(interest_port),type(total_port),type(ports),type(port_country)"
   ]
  },
  {
   "cell_type": "code",
   "execution_count": null,
   "metadata": {},
   "outputs": [
    {
     "data": {
      "text/plain": [
       "(552, 17, 17, 7, 24, dict, tuple, dict, tuple, tuple)"
      ]
     },
     "execution_count": 20,
     "metadata": {},
     "output_type": "execute_result"
    }
   ],
   "source": [
    "# econ demand\n",
    "_demands        = len(demands)\n",
    "_int_cod        = len(int_cod)# 3 Digit\n",
    "_int_country    = len(int_country)  # 2 Digit\n",
    "_regions_cod    = len(regions_cod)\n",
    "_economics      = len(economics)\n",
    "\n",
    "_demands,_int_cod,_int_country,_regions_cod,_economics,type(demands),type(int_cod),type(int_country),type(regions_cod),type(economics)"
   ]
  },
  {
   "cell_type": "code",
   "execution_count": null,
   "metadata": {},
   "outputs": [
    {
     "data": {
      "text/plain": [
       "(431, 4, list, list)"
      ]
     },
     "execution_count": 21,
     "metadata": {},
     "output_type": "execute_result"
    }
   ],
   "source": [
    "# route preparing\n",
    "routes_ind\n",
    "_routes = len(routes_ind)\n",
    "\n",
    "# Vessel \n",
    "_vtypes = len(vtypes)\n",
    "_routes ,_vtypes,type(routes_ind),type(vtypes)"
   ]
  },
  {
   "cell_type": "code",
   "execution_count": null,
   "metadata": {},
   "outputs": [
    {
     "data": {
      "text/plain": [
       "(84024, 1776)"
      ]
     },
     "execution_count": 22,
     "metadata": {},
     "output_type": "execute_result"
    }
   ],
   "source": [
    "rv =    [(r,v)        for r in range(_routes) for v in range(_vtypes)] \n",
    "rolp =  [(r,o,l,routes_ind[r][3][l])    for r in range(_routes) for o in range(_economics) \n",
    "                                        for l in range(routes_ind[r][1])]\n",
    "ope =   [(o,_p,e )    for o in range(_economics) for _p,e in port_country.items()]   \n",
    "pv =    [(p,v)        for p in range(_total_port) for v in range(_vtypes)]\n",
    "# Obsolete po =    [(p,o)        for p in range(_total_port) for o in range(_economics)] \n",
    "xope =  []  \n",
    "#routes_ind[2]\n",
    "# po[32]\n",
    "len(rolp),len(ope),"
   ]
  },
  {
   "cell_type": "code",
   "execution_count": null,
   "metadata": {},
   "outputs": [],
   "source": [
    "# rolpx =  [(r,o,l,routes_ind[r][3][l])    for r in range(_routes) for o in range(_economics) \n",
    "#                                         for l in range(routes_ind[r][1])  ]\n",
    "# len(rolpx)"
   ]
  },
  {
   "cell_type": "markdown",
   "metadata": {},
   "source": [
    "# Setup Model"
   ]
  },
  {
   "cell_type": "code",
   "execution_count": null,
   "metadata": {},
   "outputs": [
    {
     "ename": "NameError",
     "evalue": "name 'Environment' is not defined",
     "output_type": "error",
     "traceback": [
      "\u001b[1;31m---------------------------------------------------------------------------\u001b[0m",
      "\u001b[1;31mNameError\u001b[0m                                 Traceback (most recent call last)",
      "\u001b[1;32m<ipython-input-1-5abceba3596c>\u001b[0m in \u001b[0;36m<module>\u001b[1;34m\u001b[0m\n\u001b[1;32m----> 1\u001b[1;33m \u001b[0menv\u001b[0m \u001b[1;33m=\u001b[0m \u001b[0mEnvironment\u001b[0m\u001b[1;33m(\u001b[0m\u001b[1;33m)\u001b[0m\u001b[1;33m\u001b[0m\u001b[1;33m\u001b[0m\u001b[0m\n\u001b[0m\u001b[0;32m      2\u001b[0m \u001b[0menv\u001b[0m\u001b[1;33m.\u001b[0m\u001b[0mprint_information\u001b[0m\u001b[1;33m(\u001b[0m\u001b[1;33m)\u001b[0m\u001b[1;33m\u001b[0m\u001b[1;33m\u001b[0m\u001b[0m\n\u001b[0;32m      3\u001b[0m \u001b[0mmdl\u001b[0m \u001b[1;33m=\u001b[0m \u001b[0mModel\u001b[0m\u001b[1;33m(\u001b[0m\u001b[1;34m\"Container_network_2\"\u001b[0m\u001b[1;33m)\u001b[0m\u001b[1;33m\u001b[0m\u001b[1;33m\u001b[0m\u001b[0m\n",
      "\u001b[1;31mNameError\u001b[0m: name 'Environment' is not defined"
     ]
    }
   ],
   "source": [
    "env = Environment()\n",
    "env.print_information()\n",
    "mdl = Model(\"Container_network_2\")"
   ]
  },
  {
   "cell_type": "markdown",
   "metadata": {},
   "source": [
    "## Decision Variable"
   ]
  },
  {
   "cell_type": "code",
   "execution_count": null,
   "metadata": {},
   "outputs": [],
   "source": [
    "# Vessel in route (Ves=>)\n",
    "ves_deploy = mdl.integer_var_dict(rv,  name=\"ves_deploy\") # Maximum 7 day/weeks call\n",
    "\n",
    "# # Load, Unload, and Carried\n",
    "load = mdl.continuous_var_dict(rolp,name=\"load\")\n",
    "unload = mdl.continuous_var_dict(rolp, name=\"unload\")\n",
    "carried = mdl.continuous_var_dict(rolp, name=\"carried\")\n",
    "\n",
    "            # # print(v,o,r[0],r[])\n",
    "# Import,Export\n",
    "imp = mdl.continuous_var_dict(ope,name=\"imp\")\n",
    "exp = mdl.continuous_var_dict(ope,name=\"exp\")\n",
    "# trade = mdl.continuous_var_dict(ope,name=\"trade\")"
   ]
  },
  {
   "cell_type": "markdown",
   "metadata": {},
   "source": [
    "## Cal Var\n"
   ]
  },
  {
   "cell_type": "code",
   "execution_count": null,
   "metadata": {},
   "outputs": [
    {
     "data": {
      "text/plain": [
       "74"
      ]
     },
     "execution_count": 70,
     "metadata": {},
     "output_type": "execute_result"
    }
   ],
   "source": [
    "port_calls =  mdl.continuous_var_dict(pv,name=\"port_calls\")\n",
    "route_cap =  mdl.continuous_var_list(range(_routes),name=\"route_cap\")\n",
    "# port_load =  mdl.continuous_var_dict(po,name=\"port_load\")\n",
    "# port_unload = mdl.continuous_var_dict(po,name=\"port_unload\")\n",
    "# port_trans  = mdl.continuous_var_dict(po,name=\"trans\") \n",
    "port_load =  mdl.continuous_var_dict(ope,name=\"port_load\")\n",
    "port_unload = mdl.continuous_var_dict(ope,name=\"port_unload\")\n",
    "port_trans  = mdl.continuous_var_dict(ope,name=\"trans\")\n",
    "port_thrp =  mdl.continuous_var_list(range(_total_port),name=\"port_thrp\")\n",
    "\n",
    "\n",
    "len(port_thrp )\n",
    "\n",
    "# mdl.add_constraint(\n",
    "#                 mdl.sum((price_prod_econ[f,p] * Trade_demand[f,t,p]* cont_conv[p] ) for p in products) \n",
    "#                 == load_from_to[f,t]\n",
    "#             ) "
   ]
  },
  {
   "cell_type": "code",
   "execution_count": null,
   "metadata": {},
   "outputs": [],
   "source": [
    "relax_port_berth = mdl.integer_var_dict(pv,name=\"relax_port_berth\")\n",
    "relax_vessel_quan = mdl.integer_var_list(range(4),name=\"relax_vessel_quan\")\n",
    "relax_route_cap = mdl.integer_var_list(range(_routes),name=\"relax_route_cap\")"
   ]
  },
  {
   "cell_type": "markdown",
   "metadata": {},
   "source": [
    "## Constraint"
   ]
  },
  {
   "cell_type": "markdown",
   "metadata": {},
   "source": [
    "### CR1 Capacity of each route"
   ]
  },
  {
   "cell_type": "code",
   "execution_count": null,
   "metadata": {},
   "outputs": [],
   "source": [
    "# [vtypes[v].teu for v in range(_vtypes)]\n",
    "# for r in [3,4,5,9,11,12,13,16,20,22,33,35,37,40]:\n",
    "#     print(r,routes_ind[r])"
   ]
  },
  {
   "cell_type": "code",
   "execution_count": null,
   "metadata": {},
   "outputs": [],
   "source": [
    "# all o in econ all r in routes \n",
    "# sum(load - unload for l in r[l])\n",
    "\n",
    "for r in range(_routes):\n",
    "    mdl.add_constraint(\n",
    "            ## deploy * size \n",
    "            mdl.sum((ves_deploy[(r,v)]*vtypes[v].teu) for v in range(_vtypes)) \n",
    "            + relax_route_cap[r]    # Relaxed\n",
    "            == route_cap[r],f\"Cap route {r}\"\n",
    "        ) # "
   ]
  },
  {
   "cell_type": "markdown",
   "metadata": {},
   "source": [
    "### C2 Vessel Availability (Vessel deploy according to weekly service)\n",
    "### C3 Port Total Call (by types)"
   ]
  },
  {
   "cell_type": "code",
   "execution_count": null,
   "metadata": {},
   "outputs": [],
   "source": [
    "for v in range(_vtypes):\n",
    "    mdl.add_constraint(\n",
    "            ## deploy * week\n",
    "            mdl.sum((ves_deploy[(r,v)]*routes_ind[r][0]) for r in range(_routes)) \n",
    "            <= vtypes[v].quantity,f\"Availability type {v}\")\n",
    "\n",
    "    # Fix this shit\n",
    "    for _p,p in enumerate(total_port): \n",
    "        mdl.add_constraint(mdl.sum(ves_deploy[(r,v)]/24 \n",
    "            for r,o,l,p in rolp if p==_p and l<routes_ind[r][1]-1) # Use 1 to reduce end duplicate \n",
    "            ==port_calls[(_p,v)],f\"Total Call port {p}, type {v}\")"
   ]
  },
  {
   "cell_type": "code",
   "execution_count": null,
   "metadata": {},
   "outputs": [
    {
     "data": {
      "text/plain": [
       "('SGP', 'SGSIN')"
      ]
     },
     "execution_count": 75,
     "metadata": {},
     "output_type": "execute_result"
    }
   ],
   "source": [
    "routes_ind[430]\n",
    "economics[4],total_port[57]"
   ]
  },
  {
   "cell_type": "markdown",
   "metadata": {},
   "source": [
    "### C4 Carried less than vessel capacity"
   ]
  },
  {
   "cell_type": "code",
   "execution_count": null,
   "metadata": {},
   "outputs": [],
   "source": [
    "for r in range(_routes):\n",
    "    for o in range(_economics):\n",
    "        mdl.add_constraint( mdl.sum((load[(r,o,l,p)] - unload[(r,o,l,p)]) \n",
    "        for l in range(routes_ind[r][1]-1) for p in [routes_ind[r][3][l]])\n",
    "        == 0,\n",
    "        f\"Route flow conservation {r}{o}\"  )\n",
    "\n",
    "    for l in range(routes_ind[r][1]):\n",
    "        p = routes_ind[r][3][l]\n",
    "\n",
    "        mdl.add_constraint( mdl.sum(carried[(r,o,l,p)] \n",
    "            for o in range(_economics))\n",
    "            <= route_cap[r],f\"Cap & Carried  {r},{l}\")"
   ]
  },
  {
   "cell_type": "code",
   "execution_count": null,
   "metadata": {},
   "outputs": [
    {
     "data": {
      "text/plain": [
       "(7, 3, ('EUR', 'SGSIN', 'EUR'), (68, 57, 68), (18, 4))"
      ]
     },
     "execution_count": 77,
     "metadata": {},
     "output_type": "execute_result"
    }
   ],
   "source": [
    "routes_ind[65]"
   ]
  },
  {
   "cell_type": "markdown",
   "metadata": {},
   "source": [
    "### C5 Port Flow (vessel) Continuity (per each berthing) \n",
    "### C6 Circular Route (PC[0] ==PC[-2])"
   ]
  },
  {
   "cell_type": "code",
   "execution_count": null,
   "metadata": {},
   "outputs": [
    {
     "data": {
      "text/plain": [
       "([(0, 0, 0, 43), (0, 0, 1, 22), (0, 0, 2, 43), (0, 1, 0, 43), (0, 1, 1, 22)],\n",
       " 1,\n",
       " 84024)"
      ]
     },
     "execution_count": 78,
     "metadata": {},
     "output_type": "execute_result"
    }
   ],
   "source": [
    "rolp[:5],routes_ind[1][1]-2,len(rolp)"
   ]
  },
  {
   "cell_type": "code",
   "execution_count": null,
   "metadata": {},
   "outputs": [],
   "source": [
    "for _rol in rolp :\n",
    "    r,o,l,p = _rol\n",
    "    # No unload at origin (no import @ origin)\n",
    "    if port_country[p]==o:\n",
    "        mdl.add_constraint(unload[_rol]==0,f\"No origin unload {p},{o}\")\n",
    "        \n",
    "    # first == last portcall since is identical with first portcall see C5\n",
    "    if l==routes_ind[r][1]-1:    \n",
    "        # print(r,l,\"  x\") \n",
    "        p0 = routes_ind[r][3][0]\n",
    "        mdl.add_constraint(carried[_rol]== carried[(r,o,0,p0)] ,f\"Circ Carried {_rol}\")\n",
    "        mdl.add_constraint(load[_rol]   == load[(r,o,0,p0)]   , f\"Circ Load {_rol}\")\n",
    "        mdl.add_constraint(unload[_rol] == unload[(r,o,0,p0)]   ,f\"Circ unload {_rol}\")\n",
    "    elif l<routes_ind[r][1]-1 :\n",
    "        # print(r,l,)\n",
    "        _p = routes_ind[r][3][l+1]\n",
    "        mdl.add_constraint(carried[(r,o,l+1,_p)] == carried[_rol] + load[_rol] - unload[_rol],f\"R Continuity {_rol}\")"
   ]
  },
  {
   "cell_type": "markdown",
   "metadata": {},
   "source": [
    "### C7 Port Load, Unload, No internal trade, & Throughput\n",
    "TH = load + unload\n",
    "For port in e can only load cargoes from e"
   ]
  },
  {
   "cell_type": "code",
   "execution_count": null,
   "metadata": {},
   "outputs": [],
   "source": [
    "\n",
    "for _o,_p,_e in ope:\n",
    "    # Convervation of flow @ port\n",
    "    mdl.add_constraint( mdl.sum((load[(r,o,l,p)] - unload[(r,o,l,p)] )\n",
    "                            for r,o,l,p in rolp \n",
    "                            if p==_p and o==_o and l<routes_ind[r][1]-1) \n",
    "                        - exp[(_o,_p,_e)] + imp[(_o,_p,_e)]\n",
    "                \n",
    "                        == 0,\n",
    "                        f\"Port Flow conservation {_p},{_o},{_e}\")\n",
    "\n",
    "    # Port load\n",
    "    mdl.add_constraint( mdl.sum(load[(r,o,l,p)] \n",
    "                            for r,o,l,p in rolp \n",
    "                            if p==_p and o==_o and l<routes_ind[r][1]-1) \n",
    "                        == port_load[(_o,_p,_e)],\n",
    "                        f\"Sum Port Load {_p},{_o},{_e}\")\n",
    "    # mdl.add_kpi(port_load, \"Port_load\")\n",
    "\n",
    "    # Port unload\n",
    "    mdl.add_constraint( mdl.sum(unload[(r,_o,l,p)]  \n",
    "                        for r,o,l,p in rolp if p==_p and o==_o and l<routes_ind[r][1]-1) \n",
    "                        == port_unload[(_o,_p,_e)],\n",
    "                        f\"Sum Port Unload {_p},{_o},{_e}\")\n",
    "    # mdl.add_kpi(port_unload, \"Port_unload\")\n",
    "                        \n",
    "    if _o == _e:\n",
    "        # Port unload product \n",
    "        mdl.add_constraint( port_unload[(_o,_p,_e)] == 0,\n",
    "                                f\"Port Unload Fix=0 {_p},{_o}\")\n",
    "\n",
    "\n",
    "    # Flow conservation\n",
    "    # mdl.add_constraint( port_unload[(_o,_p,_e)] + ,\n",
    "    #                     f\"Port Unload {_p},{_o},{_e}\")\n",
    "\n",
    "\n",
    "for _p,p in enumerate(total_port):\n",
    "    _e = port_country[_p]\n",
    "    # Port Throughput\n",
    "    mdl.add_constraint( mdl.sum(port_unload[(_o,_p,_e)] for _o,o in enumerate(economics))\n",
    "                        + mdl.sum(port_load[(_o,_p,_e)] for _o,o in enumerate(economics))\n",
    "                        ==port_thrp[_p],f\"Port Throughput {p}\")\n",
    "\n",
    "    ## Export import conservation\n",
    "\n",
    "    "
   ]
  },
  {
   "cell_type": "markdown",
   "metadata": {},
   "source": [
    "### CR8 Berth Draft Limitation"
   ]
  },
  {
   "cell_type": "code",
   "execution_count": null,
   "metadata": {},
   "outputs": [
    {
     "name": "stdout",
     "output_type": "stream",
     "text": [
      "20000\n",
      "40000\n",
      "60000\n",
      "80000\n"
     ]
    }
   ],
   "source": [
    "for v in range(_vtypes):\n",
    "    _v = _vtypes - v -1\n",
    "    print(sum([PORTS[_p][1+v_] for v_ in range(_v,_vtypes)]))\n",
    "    for _p,p in enumerate(total_port) :\n",
    "        mdl.add_constraint(sum([PORTS[_p][1+v_] for v_ in range(_v,_vtypes)]) \n",
    "        # + mdl.sum(relax_port_berth[(_p,v_)] for v_ in range(_v,_vtypes))        # Relaxing\n",
    "                        >= mdl.sum((port_calls[(_p,v_)] *7* vtypes[v_].length) for v_ in range(_v,_vtypes))\n",
    "                        ,f\"Berth Limitation port {p} type {v}\")\n"
   ]
  },
  {
   "cell_type": "markdown",
   "metadata": {},
   "source": [
    "### C9 Trade for each country\n",
    "### C10 Demand Satisfied (Only in interested Area)\n",
    "### C11 No internal trade\n"
   ]
  },
  {
   "cell_type": "code",
   "execution_count": null,
   "metadata": {},
   "outputs": [],
   "source": [
    "## Relaxing External FLow\n",
    "# imp = mdl.continuous_var_dict(ope,name=\"imp\")\n",
    "# exp = mdl.continuous_var_dict(pe,name=\"exp\")\n",
    "for _f,f in enumerate(economics):           # @ Economy f\n",
    "    fports = [(_p,total_port[_p]) for _p,c in port_country.items() if c == _f]\n",
    "    # tports = [(_p,total_port[_p]) for _p,c in port_country.items() if c == _t]\n",
    "    if f in int_cod:\n",
    "        # export from interest port\n",
    "        mdl.add_constraint(mdl.sum(exp[(_e,_p,_f)] \n",
    "                            for _p,p in fports \n",
    "                            for _e,e in enumerate(economics))\n",
    "                        ==tot_dem[f],\n",
    "                        f\"export_intreg_{f}\")\n",
    "    else:\n",
    "        # export from ex region\n",
    "        mdl.add_constraint(mdl.sum(exp[(_e,_p,_f)] \n",
    "                            for _p,p in fports \n",
    "                            for _e,e in enumerate(economics))\n",
    "                        <=tot_dem[f],\n",
    "                        f\"export_extreg_{f}\")\n",
    "\n",
    "    for _t,t in enumerate(economics):       # Partner\n",
    "        if f==t:\n",
    "            # Import of (product form econ t) from econ t is 0\n",
    "            mdl.add_constraints([imp[(_t,_p,_f)]==0 for _p,p in fports],\n",
    "                                [f\"import_none_{p} for {f}\" for _p,p in fports]) \n",
    "        else:\n",
    "            # Export of (product form econ t) from econ not t is 0 \n",
    "            mdl.add_constraints([exp[(_t,_p,_f)]==0 for _p,p in fports],\n",
    "                                [f\"export_none_{p} for {f}\" for _p,p in fports])\n",
    "            if f in int_cod:\n",
    "                # import from t to f (interested area)\n",
    "                mdl.add_constraint(mdl.sum(imp[(_t,_p,_f)] \n",
    "                                for _p,p in fports)==demands[t,f],\n",
    "                                f\"demands_satisfy_{t,f}\")\n",
    "            else:\n",
    "                # import from t to f (outside area)\n",
    "                mdl.add_constraint(mdl.sum(imp[(_t,_p,_f)] \n",
    "                                for _p,p in fports)<=demands[t,f],\n",
    "                                f\"demands_relaxed_{t,f}\")"
   ]
  },
  {
   "cell_type": "markdown",
   "metadata": {},
   "source": [
    "## Cost Calculation"
   ]
  },
  {
   "cell_type": "code",
   "execution_count": null,
   "metadata": {},
   "outputs": [
    {
     "ename": "SyntaxError",
     "evalue": "closing parenthesis ')' does not match opening parenthesis '[' (<ipython-input-83-58fb1b55e4dd>, line 7)",
     "output_type": "error",
     "traceback": [
      "\u001b[1;36m  File \u001b[1;32m\"<ipython-input-83-58fb1b55e4dd>\"\u001b[1;36m, line \u001b[1;32m7\u001b[0m\n\u001b[1;33m    for p in [routes_ind[r][3][l])\u001b[0m\n\u001b[1;37m                                 ^\u001b[0m\n\u001b[1;31mSyntaxError\u001b[0m\u001b[1;31m:\u001b[0m closing parenthesis ')' does not match opening parenthesis '['\n"
     ]
    }
   ],
   "source": [
    "# Vessel deploy cost\n",
    "# ** Assign cost for external \n",
    "ves_deploy_cost = mdl.sum(ves_deploy[(r,v)] * vtypes[v].deploy_cost for r,v in rv)\n",
    "# Port Call cost\n",
    "port_call_cost = mdl.sum(ves_deploy[(r,v)] * ports[_p][v+5] for r,v in rv\n",
    "                            for l in range(routes_ind[r][1]-1) \n",
    "                            for p in [routes_ind[r][3][l])\n",
    "# Load & unload cost\n",
    "# ** Adjust cost for external \n",
    "handling_cost = mdl.sum(port_thrp[_p] * ports[_p][-2] for _p in range(_total_port))\n",
    "\n",
    "# Transhipment cost\n",
    "trans_cost = mdl.sum(port_trans[(o,_p,e)] * ports[_p][-1]/2 for o,_p,e in ope)\n"
   ]
  },
  {
   "cell_type": "code",
   "execution_count": null,
   "metadata": {},
   "outputs": [],
   "source": [
    "# Relax_route_cap_cost\n",
    "relax_route_cap_cost = mdl.sum(relax_route_cap[r] * 10000 for r in range(_routes))\n",
    "\n",
    "# Relax_route_cap_cost\n",
    "relax_port_cost = mdl.sum(relax_port_berth[(p,v)] * ports[p][v+5] * 10000 for p,v in pv)"
   ]
  },
  {
   "cell_type": "code",
   "execution_count": null,
   "metadata": {},
   "outputs": [
    {
     "data": {
      "text/plain": [
       "36380"
      ]
     },
     "execution_count": 41,
     "metadata": {},
     "output_type": "execute_result"
    }
   ],
   "source": [
    "PORTS[0][4+1]"
   ]
  },
  {
   "cell_type": "code",
   "execution_count": null,
   "metadata": {},
   "outputs": [
    {
     "data": {
      "text/plain": [
       "(('BDCGP', 3060, 0, 0, 0, 36380, 104630, 202130, 202130, 52, 1),)"
      ]
     },
     "execution_count": 42,
     "metadata": {},
     "output_type": "execute_result"
    }
   ],
   "source": [
    "# ['LOCODE','draft0','draft1','draft2','draft3','due_0', 'due_1', 'due_2', 'due_3', 'thc/teu','tranship/teu']\n",
    "PORTS[0],"
   ]
  },
  {
   "cell_type": "code",
   "execution_count": null,
   "metadata": {},
   "outputs": [
    {
     "data": {
      "text/plain": [
       "[(0, 0),\n",
       " (0, 1),\n",
       " (0, 2),\n",
       " (0, 3),\n",
       " (1, 0),\n",
       " (1, 1),\n",
       " (1, 2),\n",
       " (1, 3),\n",
       " (2, 0),\n",
       " (2, 1)]"
      ]
     },
     "execution_count": 43,
     "metadata": {},
     "output_type": "execute_result"
    }
   ],
   "source": [
    "[(p,v) for p,v in pv][:10]"
   ]
  },
  {
   "cell_type": "markdown",
   "metadata": {},
   "source": [
    "## RUN"
   ]
  },
  {
   "cell_type": "code",
   "execution_count": null,
   "metadata": {},
   "outputs": [
    {
     "name": "stdout",
     "output_type": "stream",
     "text": [
      "Model: Container_network_2\n",
      " - number of variables: 264208\n",
      "   - binary=0, integer=731, continuous=263477\n",
      " - number of constraints: 130913\n",
      "   - linear=130913\n",
      " - parameters: defaults\n",
      " - objective: minimize\n",
      " - problem type is: MILP\n"
     ]
    }
   ],
   "source": [
    "# mdl.maximize(handling_cost + ves_deploy_cost + trans_cost)\n",
    "mdl.minimize(ves_deploy_cost+handling_cost + ves_deploy_cost +trans_cost+relax_route_cap_cost)\n",
    "# + relax_port_cost )\n",
    "# mdl.add_progress_listener()\n",
    "mdl.print_information()\n",
    "# mdl.parameters.mip.tolerances.mipgap = 10\n",
    "\n",
    "#  - number of variables: 65951\n",
    "#    - binary=0, integer=65951, continuous=0\n",
    "#  - number of constraints: 36167\n",
    "#    - linear=36167\n",
    "\n",
    "#  - number of variables: 263477\n",
    "#    - binary=0, integer=263477, continuous=0\n",
    "#  - number of constraints: 118695\n",
    "#    - linear=118695\n"
   ]
  },
  {
   "cell_type": "code",
   "execution_count": null,
   "metadata": {},
   "outputs": [
    {
     "name": "stdout",
     "output_type": "stream",
     "text": [
      "Version identifier: 20.1.0.0 | 2020-11-10 | 9bedb6d68\n",
      "CPXPARAM_Read_DataCheck                          1\n",
      "CPXPARAM_RandomSeed                              202001241\n",
      "Tried aggregator 4 times.\n",
      "MIP Presolve eliminated 39559 rows and 102524 columns.\n",
      "MIP Presolve modified 3039 coefficients.\n",
      "Aggregator did 82517 substitutions.\n",
      "Reduced MIP has 8390 rows, 79167 columns, and 251268 nonzeros.\n",
      "Reduced MIP has 0 binaries, 268 generals, 0 SOSs, and 0 indicators.\n",
      "Presolve time = 1.11 sec. (768.39 ticks)\n",
      "Tried aggregator 1 time.\n",
      "Detecting symmetries...\n",
      "MIP Presolve eliminated 4 rows and 92 columns.\n",
      "Reduced MIP has 8386 rows, 79075 columns, and 250976 nonzeros.\n",
      "Reduced MIP has 0 binaries, 268 generals, 0 SOSs, and 0 indicators.\n",
      "Presolve time = 0.14 sec. (95.93 ticks)\n",
      "MIP emphasis: balance optimality and feasibility.\n",
      "MIP search method: dynamic search.\n",
      "Parallel mode: deterministic, using up to 8 threads.\n",
      "\n",
      "        Nodes                                         Cuts/\n",
      "   Node  Left     Objective  IInf  Best Integer    Best Bound    ItCnt     Gap\n",
      "\n",
      "      0     0   1.60497e+13    24                 1.60497e+13     4477         \n",
      "*     0+    0                       1.60506e+13   1.60497e+13             0.01%\n",
      "\n",
      "Root node processing (before b&c):\n",
      "  Real time             =   46.63 sec. (13995.66 ticks)\n",
      "Parallel b&c, 8 threads:\n",
      "  Real time             =    0.00 sec. (0.00 ticks)\n",
      "  Sync time (average)   =    0.00 sec.\n",
      "  Wait time (average)   =    0.00 sec.\n",
      "                          ------------\n",
      "Total (root+branch&cut) =   46.63 sec. (13995.66 ticks)\n",
      "* model Container_network_2 solved with objective = 16050616188761.391\n"
     ]
    }
   ],
   "source": [
    "s = mdl.solve(log_output=True)\n",
    "if s is not None:\n",
    "    mdl.report()\n",
    "else:\n",
    "    print(\"* model is infeasible\")"
   ]
  },
  {
   "cell_type": "code",
   "execution_count": null,
   "metadata": {},
   "outputs": [],
   "source": [
    "    # if sol is not None:\n",
    "    #     # mdl.print_information()\n",
    "    #     mdl.report()\n",
    "        \n",
    "    #     C_TEU = mdl.solution.get_value_dict(load_total)\n",
    "    #     price_range = mdl.solution.get_value_dict(range_prod_econ)\n",
    "    #     price_range_df = pd.DataFrame([{'Econ':k[0],'Product':k[1],'Price':v} for k,v in price_range.items()],columns = ['Econ','Product','Price'])\n",
    "    #     # print(sol.get_objective_value())\n",
    "    #     obj = sol.get_objective_value()\n",
    "    # mdl.solve_lexicographic(ordered_goals)"
   ]
  },
  {
   "cell_type": "code",
   "execution_count": null,
   "metadata": {},
   "outputs": [
    {
     "name": "stdout",
     "output_type": "stream",
     "text": [
      "429 (7, 22, ('JPTYO', 'JPYOK', 'JPSMZ', 'JPNGO', 'JPUKB', 'TWTPE', 'TWTXG', 'TWKHH', 'IDSUB', 'IDJKT', 'MYTPP', 'MYJHB', 'TWKHH', 'HKHKG', 'CNSHK', 'MYJHB', 'IDJKT', 'IDSRG', 'IDSUB', 'TWKHH', 'TWTPE', 'JPTYO'), (36, 37, 32, 34, 35, 62, 61, 64, 17, 18, 48, 47, 64, 15, 10, 47, 18, 16, 17, 64, 62, 36), (0, 8, 10, 5, 2, 3))\n",
      "420 (10, 14, ('EUR', 'MDE', 'LKCMB', 'SGSIN', 'HKHKG', 'CNQDG', 'CNSHG', 'CNNBG', 'TWKHH', 'HKHKG', 'CNYTN', 'SGSIN', 'MDE', 'EUR'), (68, 71, 43, 57, 15, 11, 14, 13, 64, 15, 12, 57, 71, 68), (18, 21, 1, 4, 2, 3, 8))\n",
      "413 (19, 13, ('NAM', 'CNYTN', 'VNSGN', 'SGSIN', 'MYPKG', 'LKCMB', 'NAM', 'MYPKG', 'SGSIN', 'THLCH', 'VNSGN', 'CNYTN', 'NAM'), (72, 12, 66, 57, 49, 43, 72, 49, 57, 60, 66, 12, 72), (22, 3, 14, 4, 5, 1, 13))\n",
      "407 (8, 15, ('EUR', 'CNSHG', 'CNNBG', 'VNSGN', 'MMRGN', 'MYPKG', 'SGSIN', 'MYTPP', 'KHKOS', 'VNSGN', 'HKHKG', 'CNSHG', 'CNNBG', 'KRPUS', 'EUR'), (68, 14, 13, 66, 44, 49, 57, 48, 38, 66, 15, 14, 13, 42, 68), (18, 3, 14, 16, 5, 4, 15, 2, 6))\n"
     ]
    }
   ],
   "source": [
    "len(rolp)\n",
    "economics[15],total_port[38]      # ('KHM', 'KHKOS')    \n",
    "# routes_ind[3]\n",
    "# economics[23]\n",
    "# port_country[57],economics[4]\n",
    "# demands[]\n",
    "economics[1],economics[0]\n",
    "total_port[44]\n",
    "for r in [429,420,413,407]:\n",
    "    print(r,routes_ind[r])"
   ]
  },
  {
   "cell_type": "code",
   "execution_count": null,
   "metadata": {},
   "outputs": [
    {
     "name": "stdout",
     "output_type": "stream",
     "text": [
      "Warning: Some identifiers are not valid LP identifiers: 74 (e.g.: \"Port Unload Fix=0 29,0\")\n"
     ]
    },
    {
     "ename": "AttributeError",
     "evalue": "'NoneType' object has no attribute 'export'",
     "output_type": "error",
     "traceback": [
      "\u001b[1;31m---------------------------------------------------------------------------\u001b[0m",
      "\u001b[1;31mAttributeError\u001b[0m                            Traceback (most recent call last)",
      "\u001b[1;32m<ipython-input-85-4edd45e8f960>\u001b[0m in \u001b[0;36m<module>\u001b[1;34m\u001b[0m\n\u001b[0;32m      1\u001b[0m \u001b[0mmdl\u001b[0m\u001b[1;33m.\u001b[0m\u001b[0mexport_as_lp\u001b[0m\u001b[1;33m(\u001b[0m\u001b[0mpath\u001b[0m\u001b[1;33m=\u001b[0m\u001b[1;34m'.'\u001b[0m\u001b[1;33m)\u001b[0m\u001b[1;33m\u001b[0m\u001b[1;33m\u001b[0m\u001b[0m\n\u001b[1;32m----> 2\u001b[1;33m \u001b[0mmdl\u001b[0m\u001b[1;33m.\u001b[0m\u001b[0msolution\u001b[0m\u001b[1;33m.\u001b[0m\u001b[0mexport\u001b[0m\u001b[1;33m(\u001b[0m\u001b[1;34m\"Solution_relaxed_int.json\"\u001b[0m\u001b[1;33m)\u001b[0m\u001b[1;33m\u001b[0m\u001b[1;33m\u001b[0m\u001b[0m\n\u001b[0m\u001b[0;32m      3\u001b[0m \u001b[1;31m# relax_cap = mdl.solution.get_value_list(relax_route_cap)\u001b[0m\u001b[1;33m\u001b[0m\u001b[1;33m\u001b[0m\u001b[1;33m\u001b[0m\u001b[0m\n\u001b[0;32m      4\u001b[0m \u001b[0mrelax_berth\u001b[0m \u001b[1;33m=\u001b[0m \u001b[0mmdl\u001b[0m\u001b[1;33m.\u001b[0m\u001b[0msolution\u001b[0m\u001b[1;33m.\u001b[0m\u001b[0mget_value_dict\u001b[0m\u001b[1;33m(\u001b[0m\u001b[0mrelax_port_berth\u001b[0m\u001b[1;33m)\u001b[0m\u001b[1;33m\u001b[0m\u001b[1;33m\u001b[0m\u001b[0m\n\u001b[0;32m      5\u001b[0m \u001b[1;32massert\u001b[0m \u001b[1;36m1\u001b[0m \u001b[1;33m==\u001b[0m \u001b[1;36m2\u001b[0m\u001b[1;33m\u001b[0m\u001b[1;33m\u001b[0m\u001b[0m\n",
      "\u001b[1;31mAttributeError\u001b[0m: 'NoneType' object has no attribute 'export'"
     ]
    }
   ],
   "source": [
    "mdl.export_as_lp(path='.')\n",
    "mdl.solution.export(\"Solution_relaxed_int.json\")\n",
    "# relax_cap = mdl.solution.get_value_list(relax_route_cap)\n",
    "relax_berth = mdl.solution.get_value_dict(relax_port_berth)\n",
    "assert 1 == 2"
   ]
  },
  {
   "cell_type": "code",
   "execution_count": null,
   "metadata": {},
   "outputs": [
    {
     "data": {
      "text/html": [
       "<div>\n",
       "<style scoped>\n",
       "    .dataframe tbody tr th:only-of-type {\n",
       "        vertical-align: middle;\n",
       "    }\n",
       "\n",
       "    .dataframe tbody tr th {\n",
       "        vertical-align: top;\n",
       "    }\n",
       "\n",
       "    .dataframe thead th {\n",
       "        text-align: right;\n",
       "    }\n",
       "</style>\n",
       "<table border=\"1\" class=\"dataframe\">\n",
       "  <thead>\n",
       "    <tr style=\"text-align: right;\">\n",
       "      <th></th>\n",
       "      <th>Econ</th>\n",
       "      <th>Type</th>\n",
       "      <th>Relaxed</th>\n",
       "    </tr>\n",
       "  </thead>\n",
       "  <tbody>\n",
       "    <tr>\n",
       "      <th>229</th>\n",
       "      <td>57</td>\n",
       "      <td>1</td>\n",
       "      <td>97090.0</td>\n",
       "    </tr>\n",
       "    <tr>\n",
       "      <th>188</th>\n",
       "      <td>47</td>\n",
       "      <td>0</td>\n",
       "      <td>38472.0</td>\n",
       "    </tr>\n",
       "    <tr>\n",
       "      <th>12</th>\n",
       "      <td>3</td>\n",
       "      <td>0</td>\n",
       "      <td>38054.0</td>\n",
       "    </tr>\n",
       "    <tr>\n",
       "      <th>176</th>\n",
       "      <td>44</td>\n",
       "      <td>0</td>\n",
       "      <td>34537.0</td>\n",
       "    </tr>\n",
       "    <tr>\n",
       "      <th>256</th>\n",
       "      <td>64</td>\n",
       "      <td>0</td>\n",
       "      <td>34145.0</td>\n",
       "    </tr>\n",
       "    <tr>\n",
       "      <th>200</th>\n",
       "      <td>50</td>\n",
       "      <td>0</td>\n",
       "      <td>18975.0</td>\n",
       "    </tr>\n",
       "    <tr>\n",
       "      <th>180</th>\n",
       "      <td>45</td>\n",
       "      <td>0</td>\n",
       "      <td>18640.0</td>\n",
       "    </tr>\n",
       "    <tr>\n",
       "      <th>16</th>\n",
       "      <td>4</td>\n",
       "      <td>0</td>\n",
       "      <td>11071.0</td>\n",
       "    </tr>\n",
       "    <tr>\n",
       "      <th>208</th>\n",
       "      <td>52</td>\n",
       "      <td>0</td>\n",
       "      <td>6344.0</td>\n",
       "    </tr>\n",
       "    <tr>\n",
       "      <th>240</th>\n",
       "      <td>60</td>\n",
       "      <td>0</td>\n",
       "      <td>6035.0</td>\n",
       "    </tr>\n",
       "    <tr>\n",
       "      <th>40</th>\n",
       "      <td>10</td>\n",
       "      <td>0</td>\n",
       "      <td>4930.0</td>\n",
       "    </tr>\n",
       "    <tr>\n",
       "      <th>220</th>\n",
       "      <td>55</td>\n",
       "      <td>0</td>\n",
       "      <td>2934.0</td>\n",
       "    </tr>\n",
       "    <tr>\n",
       "      <th>196</th>\n",
       "      <td>49</td>\n",
       "      <td>0</td>\n",
       "      <td>2799.0</td>\n",
       "    </tr>\n",
       "    <tr>\n",
       "      <th>216</th>\n",
       "      <td>54</td>\n",
       "      <td>0</td>\n",
       "      <td>1976.0</td>\n",
       "    </tr>\n",
       "    <tr>\n",
       "      <th>264</th>\n",
       "      <td>66</td>\n",
       "      <td>0</td>\n",
       "      <td>1970.0</td>\n",
       "    </tr>\n",
       "    <tr>\n",
       "      <th>204</th>\n",
       "      <td>51</td>\n",
       "      <td>0</td>\n",
       "      <td>1859.0</td>\n",
       "    </tr>\n",
       "    <tr>\n",
       "      <th>61</th>\n",
       "      <td>15</td>\n",
       "      <td>1</td>\n",
       "      <td>666.0</td>\n",
       "    </tr>\n",
       "    <tr>\n",
       "      <th>136</th>\n",
       "      <td>34</td>\n",
       "      <td>0</td>\n",
       "      <td>536.0</td>\n",
       "    </tr>\n",
       "    <tr>\n",
       "      <th>212</th>\n",
       "      <td>53</td>\n",
       "      <td>0</td>\n",
       "      <td>450.0</td>\n",
       "    </tr>\n",
       "    <tr>\n",
       "      <th>124</th>\n",
       "      <td>31</td>\n",
       "      <td>0</td>\n",
       "      <td>372.0</td>\n",
       "    </tr>\n",
       "    <tr>\n",
       "      <th>80</th>\n",
       "      <td>20</td>\n",
       "      <td>0</td>\n",
       "      <td>241.0</td>\n",
       "    </tr>\n",
       "  </tbody>\n",
       "</table>\n",
       "</div>"
      ],
      "text/plain": [
       "     Econ  Type  Relaxed\n",
       "229    57     1  97090.0\n",
       "188    47     0  38472.0\n",
       "12      3     0  38054.0\n",
       "176    44     0  34537.0\n",
       "256    64     0  34145.0\n",
       "200    50     0  18975.0\n",
       "180    45     0  18640.0\n",
       "16      4     0  11071.0\n",
       "208    52     0   6344.0\n",
       "240    60     0   6035.0\n",
       "40     10     0   4930.0\n",
       "220    55     0   2934.0\n",
       "196    49     0   2799.0\n",
       "216    54     0   1976.0\n",
       "264    66     0   1970.0\n",
       "204    51     0   1859.0\n",
       "61     15     1    666.0\n",
       "136    34     0    536.0\n",
       "212    53     0    450.0\n",
       "124    31     0    372.0\n",
       "80     20     0    241.0"
      ]
     },
     "execution_count": 94,
     "metadata": {},
     "output_type": "execute_result"
    }
   ],
   "source": [
    "releax_df = pd.DataFrame([{'Econ':k[0],'Type':k[1],'Relaxed':v} for k,v in relax_berth.items()])\n",
    "releax_df[releax_df.Relaxed!=0].sort_values(by='Relaxed',ascending=False)"
   ]
  },
  {
   "cell_type": "markdown",
   "metadata": {},
   "source": [
    "## Refiner"
   ]
  },
  {
   "cell_type": "code",
   "execution_count": null,
   "metadata": {},
   "outputs": [
    {
     "name": "stdout",
     "output_type": "stream",
     "text": [
      "show some of the constraints that can be removed to arrive at a minimal conflict\n"
     ]
    }
   ],
   "source": [
    "cref = cr.ConflictRefiner()\n",
    "print('show some of the constraints that can be removed to arrive at a minimal conflict')\n",
    "refine = cref.refine_conflict(mdl, display=True)\n",
    "# refine.diplay()\n",
    "type(refine)\n",
    "conflicts = refine.iter_conflicts()\n",
    "refine.display_stats()\n",
    "# for c in conflicts:\n",
    "#     print(c)"
   ]
  },
  {
   "cell_type": "code",
   "execution_count": null,
   "metadata": {},
   "outputs": [],
   "source": [
    "# for c in conflicts:\n",
    "#     print(c)"
   ]
  },
  {
   "cell_type": "code",
   "execution_count": null,
   "metadata": {},
   "outputs": [
    {
     "name": "stdout",
     "output_type": "stream",
     "text": [
      "(2, 3, ('SGSIN', 'MMRGN', 'SGSIN'), (57, 44, 57), (4, 16))\n",
      "(2, 5, ('SGSIN', 'MYPKG', 'MMRGN', 'MYPEN', 'SGSIN'), (57, 49, 44, 46, 57), (4, 5, 16))\n",
      "(3, 6, ('CNQZH', 'SGSIN', 'MMRGN', 'MYJHB', 'SGSIN', 'CNQZH'), (3, 57, 44, 47, 57, 3), (3, 4, 16, 5))\n",
      "(3, 9, ('THBKK', 'THLCH', 'KHKOS', 'MYTPP', 'SGSIN', 'MYPKG', 'MMRGN', 'SGSIN', 'THBKK'), (59, 60, 38, 48, 57, 49, 44, 57, 59), (13, 15, 5, 4, 16))\n",
      "(8, 15, ('EUR', 'CNSHG', 'CNNBG', 'VNSGN', 'MMRGN', 'MYPKG', 'SGSIN', 'MYTPP', 'KHKOS', 'VNSGN', 'HKHKG', 'CNSHG', 'CNNBG', 'KRPUS', 'EUR'), (68, 14, 13, 66, 44, 49, 57, 48, 38, 66, 15, 14, 13, 42, 68), (18, 3, 14, 16, 5, 4, 15, 2, 6))\n"
     ]
    }
   ],
   "source": [
    "for r in [8,80,139,195,407]:\n",
    "    print(routes_ind[r])"
   ]
  },
  {
   "cell_type": "markdown",
   "metadata": {},
   "source": [
    "## RELAXER"
   ]
  },
  {
   "cell_type": "code",
   "execution_count": null,
   "metadata": {},
   "outputs": [
    {
     "name": "stdout",
     "output_type": "stream",
     "text": [
      "Model: lp_Container_network_2\n",
      " - number of variables: 263477\n",
      "   - binary=0, integer=0, continuous=263477\n",
      " - number of constraints: 120569\n",
      "   - linear=120569\n",
      " - parameters: defaults\n",
      " - objective: minimize\n",
      " - problem type is: LP\n",
      "Version identifier: 20.1.0.0 | 2020-11-10 | 9bedb6d68\n",
      "CPXPARAM_Read_DataCheck                          1\n",
      "CPXPARAM_RandomSeed                              202001241\n",
      "Parallel mode: deterministic, using up to 8 threads for concurrent optimization:\n",
      " * Starting dual Simplex on 1 thread...\n",
      " * Starting Barrier on 6 threads...\n",
      " * Starting primal Simplex on 1 thread...\n",
      "Tried aggregator 1 time.\n",
      "LP Presolve eliminated 30636 rows and 103824 columns.\n",
      "Aggregator did 84231 substitutions.\n",
      "Reduced LP has 5702 rows, 75422 columns, and 235902 nonzeros.\n",
      "Presolve time = 0.53 sec. (314.02 ticks)\n",
      "\n",
      "Iteration log . . .\n",
      "Iteration:     1   Dual objective     =             0.000000\n",
      "Perturbation started.\n",
      "Iteration:   101   Dual objective     =             0.000000\n",
      "Iteration:   411   Dual objective     =             4.467821\n",
      "Iteration:   710   Dual objective     =             4.952096\n",
      "Iteration:  1014   Dual objective     =             5.367853\n",
      "Iteration:  1233   Dual objective     =             5.467897\n",
      "Iteration:  1483   Dual objective     =             5.634006\n",
      "Iteration:  1694   Dual objective     =             5.696848\n",
      "Iteration:  1935   Dual objective     =             5.758198\n",
      "Iteration:  2148   Dual objective     =             5.852434\n",
      "Iteration:  2369   Dual objective     =             5.919663\n",
      "Iteration:  2584   Dual objective     =             5.986677\n",
      "Iteration:  2773   Dual objective     =             6.025779\n",
      "Iteration:  2953   Dual objective     =             6.099218\n",
      "Iteration:  3136   Dual objective     =             6.153478\n",
      "Iteration:  3301   Dual objective     =             6.198810\n",
      "Iteration:  3494   Dual objective     =             6.343620\n",
      "Iteration:  3654   Dual objective     =             6.370752\n",
      "Iteration:  3833   Dual objective     =             6.404946\n",
      "Iteration:  3996   Dual objective     =             6.436814\n",
      "Iteration:  4155   Dual objective     =             6.469154\n",
      "Iteration:  4326   Dual objective     =             6.501352\n",
      "Iteration:  4500   Dual objective     =             6.540975\n",
      "Iteration:  4654   Dual objective     =             6.564967\n",
      "Iteration:  4812   Dual objective     =             6.593213\n",
      "Iteration:  4970   Dual objective     =             6.619222\n",
      "Iteration:  5103   Dual objective     =             6.648652\n",
      "Iteration:  5252   Dual objective     =             6.674846\n",
      "Iteration:  5405   Dual objective     =             6.709340\n",
      "Iteration:  5569   Dual objective     =             6.740250\n",
      "Iteration:  5708   Dual objective     =             6.766669\n",
      "Iteration:  5832   Dual objective     =             6.806281\n",
      "Iteration:  5970   Dual objective     =             6.854760\n",
      "Iteration:  6106   Dual objective     =             6.895336\n",
      "Iteration:  6241   Dual objective     =             6.937584\n",
      "Iteration:  6373   Dual objective     =             6.975256\n",
      "Iteration:  6514   Dual objective     =             7.003246\n",
      "Iteration:  6660   Dual objective     =             7.027350\n",
      "Iteration:  6786   Dual objective     =             7.057184\n",
      "Iteration:  6914   Dual objective     =             7.085249\n",
      "Iteration:  7049   Dual objective     =             7.122529\n",
      "Iteration:  7181   Dual objective     =             7.150511\n",
      "Iteration:  7312   Dual objective     =             7.186869\n",
      "Iteration:  7446   Dual objective     =             7.237532\n",
      "Iteration:  7579   Dual objective     =             7.274336\n",
      "Iteration:  7699   Dual objective     =             7.309212\n",
      "Iteration:  7835   Dual objective     =             7.344755\n",
      "Iteration:  7953   Dual objective     =             7.369546\n",
      "Iteration:  8087   Dual objective     =             7.397113\n",
      "Iteration:  8215   Dual objective     =             7.420001\n",
      "Iteration:  8349   Dual objective     =             7.454432\n",
      "Iteration:  8478   Dual objective     =             7.481143\n",
      "Iteration:  8605   Dual objective     =             7.502266\n",
      "Iteration:  8723   Dual objective     =             7.530102\n",
      "Iteration:  8856   Dual objective     =             7.554100\n",
      "Iteration:  8985   Dual objective     =             7.581773\n",
      "Iteration:  9099   Dual objective     =             7.604602\n",
      "Iteration:  9220   Dual objective     =             7.628931\n",
      "Iteration:  9346   Dual objective     =             7.653288\n",
      "Iteration:  9470   Dual objective     =             7.675533\n",
      "Iteration:  9593   Dual objective     =             7.699259\n",
      "Iteration:  9720   Dual objective     =             7.732950\n",
      "Iteration:  9839   Dual objective     =             7.765718\n",
      "Iteration:  9954   Dual objective     =             7.789537\n",
      "Iteration: 10087   Dual objective     =             7.812528\n",
      "Iteration: 10217   Dual objective     =             7.836439\n",
      "Iteration: 10333   Dual objective     =             7.858556\n",
      "Iteration: 10476   Dual objective     =             7.882374\n",
      "Iteration: 10596   Dual objective     =             7.908521\n",
      "Iteration: 10715   Dual objective     =             7.932159\n",
      "Iteration: 10836   Dual objective     =             7.955044\n",
      "Iteration: 10959   Dual objective     =             7.979020\n",
      "Iteration: 11074   Dual objective     =             8.002385\n",
      "Iteration: 11196   Dual objective     =             8.031705\n",
      "Iteration: 11313   Dual objective     =             8.057753\n",
      "Iteration: 11434   Dual objective     =             8.084648\n",
      "Iteration: 11566   Dual objective     =             8.109825\n",
      "Iteration: 11693   Dual objective     =             8.136751\n",
      "Iteration: 11810   Dual objective     =             8.154587\n",
      "Iteration: 11931   Dual objective     =             8.177692\n",
      "Iteration: 12052   Dual objective     =             8.199688\n",
      "Iteration: 12171   Dual objective     =             8.216356\n",
      "Iteration: 12292   Dual objective     =             8.249797\n",
      "Iteration: 12400   Dual objective     =             8.271064\n",
      "Iteration: 12522   Dual objective     =             8.296220\n",
      "Iteration: 12637   Dual objective     =             8.315720\n",
      "Iteration: 12761   Dual objective     =             8.344081\n",
      "Iteration: 12868   Dual objective     =             8.366782\n",
      "Iteration: 12998   Dual objective     =             8.491644\n",
      "Iteration: 13122   Dual objective     =             8.513598\n",
      "Iteration: 13245   Dual objective     =             8.532990\n",
      "Iteration: 13363   Dual objective     =             8.558151\n",
      "Iteration: 13477   Dual objective     =             8.578275\n",
      "Iteration: 13610   Dual objective     =             8.603633\n",
      "Iteration: 13732   Dual objective     =             8.633310\n",
      "Iteration: 13846   Dual objective     =             8.651288\n",
      "Iteration: 13965   Dual objective     =             8.673495\n",
      "Iteration: 14081   Dual objective     =             8.709088\n",
      "Iteration: 14207   Dual objective     =             8.742882\n",
      "Iteration: 14332   Dual objective     =             8.790743\n",
      "Iteration: 14476   Dual objective     =             8.847737\n",
      "Iteration: 14603   Dual objective     =             8.913324\n",
      "Iteration: 14752   Dual objective     =             9.003045\n",
      "Iteration: 14878   Dual objective     =             9.100946\n",
      "Iteration: 15051   Dual objective     =             9.598786\n",
      "Iteration: 15227   Dual objective     =         18231.755212\n",
      "Iteration: 15380   Dual objective     =         18231.913913\n",
      "Iteration: 15526   Dual objective     =         18232.094686\n",
      "Elapsed time = 11.39 sec. (10000.30 ticks, 15648 iterations)\n",
      "Iteration: 15660   Dual objective     =         18232.209625\n",
      "Iteration: 15843   Dual objective     =         33540.546137\n",
      "Iteration: 15942   Dual objective     =         60820.156485\n",
      "Removing perturbation.\n",
      "Iteration: 15948   Scaled dual infeas =             0.194667\n",
      "Iteration: 16005   Dual objective     =         34697.922000\n",
      "Perturbation started.\n",
      "Iteration: 16106   Dual objective     =         34697.922000\n",
      "Iteration: 16487   Dual objective     =         34697.969609\n",
      "Iteration: 16856   Dual objective     =         34698.038252\n",
      "Iteration: 17217   Dual objective     =         34698.066111\n",
      "Iteration: 17537   Dual objective     =         34698.119341\n",
      "Iteration: 17889   Dual objective     =         34698.158049\n",
      "Iteration: 18264   Dual objective     =         34698.201766\n",
      "Iteration: 18618   Dual objective     =         34698.247212\n",
      "Iteration: 18971   Dual objective     =         34698.336326\n",
      "Iteration: 19387   Dual objective     =         34698.423265\n",
      "Removing perturbation.\n",
      "\n",
      "Primal simplex solved model.\n",
      "\n"
     ]
    },
    {
     "ename": "AssertionError",
     "evalue": "",
     "output_type": "error",
     "traceback": [
      "\u001b[1;31m---------------------------------------------------------------------------\u001b[0m",
      "\u001b[1;31mAssertionError\u001b[0m                            Traceback (most recent call last)",
      "\u001b[1;32m<ipython-input-53-b4f99577c834>\u001b[0m in \u001b[0;36m<module>\u001b[1;34m\u001b[0m\n\u001b[0;32m      3\u001b[0m \u001b[0mbmr\u001b[0m\u001b[1;33m.\u001b[0m\u001b[0mprint_information\u001b[0m\u001b[1;33m(\u001b[0m\u001b[1;33m)\u001b[0m\u001b[1;33m\u001b[0m\u001b[1;33m\u001b[0m\u001b[0m\n\u001b[0;32m      4\u001b[0m \u001b[0mrs\u001b[0m \u001b[1;33m=\u001b[0m \u001b[0mbmr\u001b[0m\u001b[1;33m.\u001b[0m\u001b[0msolve\u001b[0m\u001b[1;33m(\u001b[0m\u001b[0mlog_output\u001b[0m\u001b[1;33m=\u001b[0m\u001b[1;32mTrue\u001b[0m\u001b[1;33m)\u001b[0m\u001b[1;33m\u001b[0m\u001b[1;33m\u001b[0m\u001b[0m\n\u001b[1;32m----> 5\u001b[1;33m \u001b[1;32massert\u001b[0m \u001b[0mrs\u001b[0m\u001b[1;33m\u001b[0m\u001b[1;33m\u001b[0m\u001b[0m\n\u001b[0m",
      "\u001b[1;31mAssertionError\u001b[0m: "
     ]
    }
   ],
   "source": [
    "from docplex.mp.relax_linear import LinearRelaxer\n",
    "bmr = LinearRelaxer.make_relaxed_model(mdl)\n",
    "bmr.print_information()\n",
    "rs = bmr.solve(log_output=True)\n",
    "assert rs"
   ]
  },
  {
   "cell_type": "code",
   "execution_count": null,
   "metadata": {},
   "outputs": [
    {
     "data": {
      "text/plain": [
       "NoneType"
      ]
     },
     "execution_count": 200,
     "metadata": {},
     "output_type": "execute_result"
    }
   ],
   "source": [
    "type(rs)"
   ]
  },
  {
   "cell_type": "code",
   "execution_count": null,
   "metadata": {},
   "outputs": [
    {
     "ename": "AttributeError",
     "evalue": "'NoneType' object has no attribute 'display'",
     "output_type": "error",
     "traceback": [
      "\u001b[1;31m---------------------------------------------------------------------------\u001b[0m",
      "\u001b[1;31mAttributeError\u001b[0m                            Traceback (most recent call last)",
      "\u001b[1;32m<ipython-input-201-136a71086bf5>\u001b[0m in \u001b[0;36m<module>\u001b[1;34m\u001b[0m\n\u001b[1;32m----> 1\u001b[1;33m \u001b[0mrs\u001b[0m\u001b[1;33m.\u001b[0m\u001b[0mdisplay\u001b[0m\u001b[1;33m(\u001b[0m\u001b[1;33m)\u001b[0m\u001b[1;33m\u001b[0m\u001b[1;33m\u001b[0m\u001b[0m\n\u001b[0m",
      "\u001b[1;31mAttributeError\u001b[0m: 'NoneType' object has no attribute 'display'"
     ]
    }
   ],
   "source": [
    "rs.display()"
   ]
  },
  {
   "cell_type": "markdown",
   "metadata": {},
   "source": [
    "# Model Develop"
   ]
  },
  {
   "cell_type": "code",
   "execution_count": null,
   "metadata": {},
   "outputs": [
    {
     "name": "stdout",
     "output_type": "stream",
     "text": [
      "JPN 0 9\n",
      "LKA 1 1\n",
      "HKG 2 1\n",
      "CHN 3 14\n",
      "SGP 4 1\n",
      "MYS 5 5\n",
      "KOR 6 4\n",
      "IND 7 11\n",
      "OAS 8 4\n",
      "PAK 9 2\n",
      "IDN 10 3\n",
      "PHL 11 5\n",
      "BGD 12 1\n",
      "THA 13 3\n",
      "VNM 14 2\n",
      "KHM 15 1\n",
      "MMR 16 1\n",
      "AFR 17 1\n",
      "EUR 18 1\n",
      "ELT 19 1\n",
      "WLT 20 1\n",
      "MDE 21 1\n",
      "NAM 22 1\n",
      "OCE 23 1\n"
     ]
    }
   ],
   "source": [
    "port_dem = {}\n",
    "for _f,f in enumerate(economics):           # @ Economy f\n",
    "    fports = [(_p,total_port[_p]) for _p,c in port_country.items() if c == _f]\n",
    "    print(f,_f,len(fports))"
   ]
  },
  {
   "cell_type": "markdown",
   "metadata": {},
   "source": [
    "### CX Port Cap ?"
   ]
  },
  {
   "cell_type": "code",
   "execution_count": null,
   "metadata": {},
   "outputs": [
    {
     "data": {
      "text/plain": [
       "(1632, 1632)"
      ]
     },
     "execution_count": 141,
     "metadata": {},
     "output_type": "execute_result"
    }
   ],
   "source": [
    "port_country\n",
    "ope = [(p[:2],p,e)for p in interest_port for e in economics]\n",
    "len(ope),_ports*_economics\n",
    "        \n"
   ]
  },
  {
   "cell_type": "markdown",
   "metadata": {},
   "source": [
    "## Model Residue"
   ]
  },
  {
   "cell_type": "code",
   "execution_count": null,
   "metadata": {},
   "outputs": [
    {
     "ename": "NameError",
     "evalue": "name 'matrix_region' is not defined",
     "output_type": "error",
     "traceback": [
      "\u001b[1;31m---------------------------------------------------------------------------\u001b[0m",
      "\u001b[1;31mNameError\u001b[0m                                 Traceback (most recent call last)",
      "\u001b[1;32m<ipython-input-172-3cc35f26c6ab>\u001b[0m in \u001b[0;36m<module>\u001b[1;34m\u001b[0m\n\u001b[0;32m      6\u001b[0m             \u001b[0mcnt\u001b[0m \u001b[1;33m+=\u001b[0m\u001b[1;36m1\u001b[0m\u001b[1;33m\u001b[0m\u001b[1;33m\u001b[0m\u001b[0m\n\u001b[0;32m      7\u001b[0m \u001b[1;31m# Unload from route to port\u001b[0m\u001b[1;33m\u001b[0m\u001b[1;33m\u001b[0m\u001b[1;33m\u001b[0m\u001b[0m\n\u001b[1;32m----> 8\u001b[1;33m \u001b[0munload\u001b[0m \u001b[1;33m=\u001b[0m \u001b[0mmdl\u001b[0m\u001b[1;33m.\u001b[0m\u001b[0minteger_var_matrix\u001b[0m\u001b[1;33m(\u001b[0m \u001b[0mkeys1\u001b[0m\u001b[1;33m=\u001b[0m\u001b[0mmatrix_region\u001b[0m\u001b[1;33m,\u001b[0m\u001b[0mkeys2\u001b[0m\u001b[1;33m=\u001b[0m\u001b[0mproducts\u001b[0m\u001b[1;33m,\u001b[0m \u001b[0mub\u001b[0m\u001b[1;33m=\u001b[0m\u001b[1;36m0.8\u001b[0m\u001b[1;33m,\u001b[0m \u001b[0mname\u001b[0m\u001b[1;33m=\u001b[0m\u001b[1;34m\"price_prod_econ\"\u001b[0m\u001b[1;33m)\u001b[0m\u001b[1;33m\u001b[0m\u001b[1;33m\u001b[0m\u001b[0m\n\u001b[0m\u001b[0;32m      9\u001b[0m \u001b[1;31m# Carried to next leg\u001b[0m\u001b[1;33m\u001b[0m\u001b[1;33m\u001b[0m\u001b[1;33m\u001b[0m\u001b[0m\n\u001b[0;32m     10\u001b[0m \u001b[0mcarried\u001b[0m \u001b[1;33m=\u001b[0m \u001b[0mmdl\u001b[0m\u001b[1;33m.\u001b[0m\u001b[0minteger_var_matrix\u001b[0m\u001b[1;33m(\u001b[0m \u001b[0mkeys1\u001b[0m\u001b[1;33m=\u001b[0m\u001b[0mmatrix_region\u001b[0m\u001b[1;33m,\u001b[0m\u001b[0mkeys2\u001b[0m\u001b[1;33m=\u001b[0m\u001b[0mproducts\u001b[0m\u001b[1;33m,\u001b[0m \u001b[0mub\u001b[0m\u001b[1;33m=\u001b[0m\u001b[1;36m0.8\u001b[0m\u001b[1;33m,\u001b[0m \u001b[0mname\u001b[0m\u001b[1;33m=\u001b[0m\u001b[1;34m\"price_prod_econ\"\u001b[0m\u001b[1;33m)\u001b[0m\u001b[1;33m\u001b[0m\u001b[1;33m\u001b[0m\u001b[0m\n",
      "\u001b[1;31mNameError\u001b[0m: name 'matrix_region' is not defined"
     ]
    }
   ],
   "source": [
    "# Load from port to route\n",
    "cnt = 0\n",
    "for r in range(_routes):\n",
    "    for o in range(_economics):\n",
    "        for l in range(routes_ind[r][1]):\n",
    "            cnt +=1\n",
    "# Unload from route to port\n",
    "unload = mdl.integer_var_matrix( keys1=matrix_region,keys2=products, ub=0.8, name=\"price_prod_econ\")\n",
    "# Carried to next leg\n",
    "carried = mdl.integer_var_matrix( keys1=matrix_region,keys2=products, ub=0.8, name=\"price_prod_econ\")\n",
    "\n",
    "x = m.integer_var_dict((f, r, r['Leg'], d)\n",
    "                       for f in economics\n",
    "                       for r in routes\n",
    "                       for d in r['Call'])\n",
    "\n",
    "                       \n"
   ]
  },
  {
   "cell_type": "code",
   "execution_count": null,
   "metadata": {},
   "outputs": [
    {
     "data": {
      "text/plain": [
       "'C:\\\\Users\\\\AN515-52\\\\AppData\\\\Local\\\\Temp\\\\Container_network_2.lp'"
      ]
     },
     "execution_count": 242,
     "metadata": {},
     "output_type": "execute_result"
    }
   ],
   "source": [
    "mdl.export_as_lp()"
   ]
  },
  {
   "cell_type": "code",
   "execution_count": null,
   "metadata": {},
   "outputs": [
    {
     "data": {
      "text/plain": [
       "(24, 435, 8.096551724137932)"
      ]
     },
     "execution_count": 56,
     "metadata": {},
     "output_type": "execute_result"
    }
   ],
   "source": [
    "len(economics),len(routes),3522/435"
   ]
  },
  {
   "cell_type": "code",
   "execution_count": null,
   "metadata": {},
   "outputs": [
    {
     "name": "stdout",
     "output_type": "stream",
     "text": [
      "366\n"
     ]
    },
    {
     "data": {
      "text/plain": [
       "84528"
      ]
     },
     "execution_count": 53,
     "metadata": {},
     "output_type": "execute_result"
    }
   ],
   "source": [
    "vtypes = (0,1,2,3)\n",
    "cnt = 0\n",
    "sel = int(random.random() * len(routes) //1)    # 3522 total leg\n",
    "print(sel)\n",
    "for r in routes:\n",
    "    for o in economics:\n",
    "        for l in range(r[1]):\n",
    "            # print(v,o,r[0],r[])\n",
    "            cnt +=1\n",
    "cnt\n",
    "# 84528 = 3522 * "
   ]
  },
  {
   "cell_type": "code",
   "execution_count": null,
   "metadata": {},
   "outputs": [],
   "source": [
    "routes = [{'Name':'A','Leg':5,'Call':['X','Y','Z']},{'Name':'B','Leg':7,'Call':['X','Y','X']},{'Name':'A','Leg':9,'Call':['Z','Y','Z']}]\n",
    "# [(i,j,p) for i in routes for j in i for p in i['Call']]"
   ]
  },
  {
   "cell_type": "code",
   "execution_count": null,
   "metadata": {},
   "outputs": [],
   "source": [
    "# Internal Teu Allocation (Economics to port\n",
    "for c in matrix_region for e in matrix_region for "
   ]
  },
  {
   "cell_type": "code",
   "execution_count": null,
   "metadata": {},
   "outputs": [],
   "source": [
    "# https://stackoverflow.com/questions/55821484/how-to-set-a-four-dimension-variable-in-docplex-with-python \n",
    "x = m.binary_var_dict((i, l, t, v, r)\n",
    "                       for i in types\n",
    "                       for l in locations\n",
    "                       for t in times\n",
    "                       for v in vehicles\n",
    "                       for r in routes)\n",
    "\n",
    "for i in types:\n",
    "    for l in locations:\n",
    "       for t in times:\n",
    "          for v in vehicles:\n",
    "             for r in routes:\n",
    "                print x[i, l, t, v, r]\n",
    "\n",
    "x = [[[[[m.binary_var('%d_%d_%d_%d_%d' % (i, l, t, v, r))\n",
    "        for r in routes]\n",
    "        for v in vehicles]\n",
    "    for t in times]\n",
    "    for l in locations]\n",
    "    for i in types]\n",
    "\n",
    "for i in types:\n",
    "for l in locations:\n",
    "    for t in times:\n",
    "        for v in vehicles:\n",
    "            for r in routes:\n",
    "            print x[i][l][t][v][r]"
   ]
  },
  {
   "cell_type": "code",
   "execution_count": null,
   "metadata": {},
   "outputs": [],
   "source": [
    "from docplex.mp.model import Model\n",
    "\n",
    "# Data\n",
    "\n",
    "r=range(1,3)\n",
    "\n",
    "i=[(a,b,c,d) for a in r for b in r for c in r for d in r]\n",
    "\n",
    "print(i)\n",
    "\n",
    "mdl = Model(name='model')\n",
    "\n",
    "#decision variables\n",
    "mdl.x=mdl.integer_var_dict(i,name=\"x\")\n",
    "\n",
    "# Constraint\n",
    "for it in i:\n",
    "    mdl.add_constraint(mdl.x[it] == it[0]+it[1]+it[2]+it[3], 'ct')\n",
    "\n",
    "mdl.solve()\n",
    "\n",
    "# Dislay solution\n",
    "for it in i:\n",
    "    print(\" x \",it,\" --> \",mdl.x[it].solution_value); "
   ]
  },
  {
   "cell_type": "markdown",
   "metadata": {},
   "source": [
    "# Model route travel\n",
    "Delete INMRM"
   ]
  },
  {
   "cell_type": "code",
   "execution_count": null,
   "metadata": {},
   "outputs": [
    {
     "name": "stdout",
     "output_type": "stream",
     "text": [
      "* system is: Windows 64bit\n",
      "* Python version 3.8.5, located at: C:\\ProgramData\\Anaconda3\\python.exe\n",
      "* docplex is present, version is 2.18.200\n",
      "* CPLEX library is present, version is 20.1.0.0, located at: C:\\ProgramData\\Anaconda3\\lib\\site-packages\n",
      "* pandas is present, version is 1.1.3\n"
     ]
    }
   ],
   "source": [
    "env = Environment()\n",
    "env.print_information()\n",
    "mdl2 = Model(\"Route_Mockup_2\")\n",
    "ves_deploy = mdl2.integer_var_dict(rv, ub=3, name=\"ves_deploy\") # Maximum 7 day/weeks call\n",
    "port_calls =  mdl2.integer_var_dict(pv,name=\"port_calls\")\n",
    "route_cap =  mdl2.integer_var_list(range(_routes),name=\"route_cap\")\n",
    "calls_per_port =  mdl2.integer_var_list(range(_total_port),name=\"port_calls\")"
   ]
  },
  {
   "cell_type": "code",
   "execution_count": null,
   "metadata": {},
   "outputs": [],
   "source": [
    "for r in range(_routes):\n",
    "    # C1 Capacity of each route\n",
    "    mdl2.add_constraint(\n",
    "            ## deploy * size \n",
    "            mdl2.sum((ves_deploy[(r,v)]*vtypes[v].teu) for v in range(_vtypes)) \n",
    "            == route_cap[r],f\"Cap route {r}\"\n",
    "        ) \n",
    "for v in range(_vtypes):\n",
    "    # C2 Vessel Availability (Vessel deploy according to weekly service)\n",
    "    mdl2.add_constraint(\n",
    "            ## deploy * size \n",
    "            mdl2.sum((ves_deploy[(r,v)]*routes_ind[r][0]) for r in range(_routes)) \n",
    "            <= vtypes[v].quantity,f\"Availability type {v}\"\n",
    "        )\n",
    "    # C3 Port Total Call (by types)\n",
    "    for _p,p in enumerate(total_port): \n",
    "        mdl2.add_constraint(mdl2.sum(ves_deploy[(r,v)] \n",
    "            for r in range(_routes) if p in routes_ind[r][2] ) # Use 1 to reduce end duplicate \n",
    "            ==port_calls[(_p,v)]),f\"Total Call port {p}, type {v}\"\n"
   ]
  },
  {
   "cell_type": "code",
   "execution_count": null,
   "metadata": {},
   "outputs": [
    {
     "data": {
      "text/plain": [
       "[]"
      ]
     },
     "execution_count": 175,
     "metadata": {},
     "output_type": "execute_result"
    }
   ],
   "source": [
    "[r for r in range(_routes) if 'INMRM' in routes_ind[r][2]]"
   ]
  },
  {
   "cell_type": "code",
   "execution_count": null,
   "metadata": {},
   "outputs": [],
   "source": [
    "\n",
    "for _p,p in enumerate(total_port):\n",
    "    # C4 At least 1 call per port\n",
    "    mdl2.add_constraint(mdl2.sum(port_calls[(_p,v)] for v in range(_vtypes)) >=1 )\n",
    "    mdl2.add_constraint(mdl2.sum(port_calls[(_p,v)] for v in range(_vtypes)) == calls_per_port[_p])"
   ]
  },
  {
   "cell_type": "code",
   "execution_count": null,
   "metadata": {},
   "outputs": [
    {
     "name": "stdout",
     "output_type": "stream",
     "text": [
      "Model: Route_Mockup_2\n",
      " - number of variables: 2525\n",
      "   - binary=0, integer=2525, continuous=0\n",
      " - number of constraints: 879\n",
      "   - linear=879\n",
      " - parameters: defaults\n",
      " - objective: maximize\n",
      " - problem type is: MILP\n",
      "Version identifier: 20.1.0.0 | 2020-11-10 | 9bedb6d68\n",
      "CPXPARAM_Read_DataCheck                          1\n",
      "CPXPARAM_RandomSeed                              202001241\n",
      "Tried aggregator 2 times.\n",
      "MIP Presolve eliminated 74 rows and 104 columns.\n",
      "Aggregator did 727 substitutions.\n",
      "Reduced MIP has 78 rows, 1694 columns, and 11562 nonzeros.\n",
      "Reduced MIP has 0 binaries, 1694 generals, 0 SOSs, and 0 indicators.\n",
      "Presolve time = 0.05 sec. (8.32 ticks)\n",
      "Found incumbent of value 10546.000000 after 0.16 sec. (50.60 ticks)\n",
      "Tried aggregator 1 time.\n",
      "Detecting symmetries...\n",
      "Reduced MIP has 78 rows, 1694 columns, and 11562 nonzeros.\n",
      "Reduced MIP has 0 binaries, 1694 generals, 0 SOSs, and 0 indicators.\n",
      "Presolve time = 0.00 sec. (3.53 ticks)\n",
      "MIP emphasis: balance optimality and feasibility.\n",
      "MIP search method: dynamic search.\n",
      "Parallel mode: deterministic, using up to 8 threads.\n",
      "Root relaxation solution time = 0.03 sec. (2.88 ticks)\n",
      "\n",
      "        Nodes                                         Cuts/\n",
      "   Node  Left     Objective  IInf  Best Integer    Best Bound    ItCnt     Gap\n",
      "\n",
      "*     0+    0                        10546.0000  1549014.0000              --- \n",
      "*     0+    0                       224908.0000  1549014.0000           588.73%\n",
      "      0     0   402514.6000    10   224908.0000   402514.6000        8   78.97%\n",
      "*     0+    0                       402064.0000   402514.6000             0.11%\n",
      "      0     0   402100.0000     5   402064.0000       Cuts: 4       14    0.01%\n",
      "\n",
      "Mixed integer rounding cuts applied:  2\n",
      "Gomory fractional cuts applied:  2\n",
      "\n",
      "Root node processing (before b&c):\n",
      "  Real time             =    0.33 sec. (67.80 ticks)\n",
      "Parallel b&c, 8 threads:\n",
      "  Real time             =    0.00 sec. (0.00 ticks)\n",
      "  Sync time (average)   =    0.00 sec.\n",
      "  Wait time (average)   =    0.00 sec.\n",
      "                          ------------\n",
      "Total (root+branch&cut) =    0.33 sec. (67.80 ticks)\n",
      "* model Route_Mockup_2 solved with objective = 402064.000\n"
     ]
    }
   ],
   "source": [
    "ves_deploy_cost=    mdl2.sum(ves_deploy[(r,v)] * vtypes[v].deploy_cost for r,v in rv)\n",
    "mdl2.maximize(ves_deploy_cost)\n",
    "mdl2.print_information()\n",
    "s = mdl2.solve(log_output=True)\n",
    "mdl2.export_as_lp(path='.')\n",
    "if s is not None:\n",
    "    mdl2.report()\n",
    "else:\n",
    "    print(\"* model is infeasible\")"
   ]
  },
  {
   "cell_type": "code",
   "execution_count": null,
   "metadata": {},
   "outputs": [
    {
     "data": {
      "text/plain": [
       "[60.0,\n",
       " 6.0,\n",
       " 12.0,\n",
       " 42.0,\n",
       " 27.0,\n",
       " 33.0,\n",
       " 114.0,\n",
       " 111.0,\n",
       " 81.0,\n",
       " 183.0,\n",
       " 264.0,\n",
       " 180.0,\n",
       " 67.0,\n",
       " 214.0,\n",
       " 313.0,\n",
       " 400.0,\n",
       " 42.0,\n",
       " 72.0,\n",
       " 109.0,\n",
       " 24.0,\n",
       " 48.0,\n",
       " 3.0,\n",
       " 21.0,\n",
       " 21.0,\n",
       " 9.0,\n",
       " 36.0,\n",
       " 9.0,\n",
       " 57.0,\n",
       " 48.0,\n",
       " 42.0,\n",
       " 57.0,\n",
       " 48.0,\n",
       " 42.0,\n",
       " 78.0,\n",
       " 165.0,\n",
       " 144.0,\n",
       " 165.0,\n",
       " 168.0,\n",
       " 42.0,\n",
       " 111.0,\n",
       " 15.0,\n",
       " 93.0,\n",
       " 222.0,\n",
       " 81.0,\n",
       " 33.0,\n",
       " 33.0,\n",
       " 93.0,\n",
       " 54.0,\n",
       " 218.0,\n",
       " 307.0,\n",
       " 24.0,\n",
       " 48.0,\n",
       " 42.0,\n",
       " 27.0,\n",
       " 117.0,\n",
       " 33.0,\n",
       " 18.0,\n",
       " 580.0,\n",
       " 24.0,\n",
       " 75.0,\n",
       " 255.0,\n",
       " 135.0,\n",
       " 69.0,\n",
       " 123.0,\n",
       " 350.0,\n",
       " 152.0,\n",
       " 264.0,\n",
       " 15.0,\n",
       " 1.0,\n",
       " 1.0,\n",
       " 1.0,\n",
       " 75.0,\n",
       " 22.0,\n",
       " 21.0]"
      ]
     },
     "execution_count": 214,
     "metadata": {},
     "output_type": "execute_result"
    }
   ],
   "source": [
    "mdl2.solution.get_value_list(calls_per_port)"
   ]
  },
  {
   "cell_type": "code",
   "execution_count": null,
   "metadata": {},
   "outputs": [
    {
     "data": {
      "text/plain": [
       "{(0, 0): 24.0,\n",
       " (0, 1): 21.0,\n",
       " (0, 2): 12.0,\n",
       " (0, 3): 3.0,\n",
       " (1, 0): 3.0,\n",
       " (1, 1): 3.0,\n",
       " (1, 2): 0,\n",
       " (1, 3): 0,\n",
       " (2, 0): 3.0,\n",
       " (2, 1): 3.0,\n",
       " (2, 2): 3.0,\n",
       " (2, 3): 3.0,\n",
       " (3, 0): 18.0,\n",
       " (3, 1): 18.0,\n",
       " (3, 2): 6.0,\n",
       " (3, 3): 0,\n",
       " (4, 0): 9.0,\n",
       " (4, 1): 9.0,\n",
       " (4, 2): 6.0,\n",
       " (4, 3): 3.0,\n",
       " (5, 0): 12.0,\n",
       " (5, 1): 12.0,\n",
       " (5, 2): 6.0,\n",
       " (5, 3): 3.0,\n",
       " (6, 0): 45.0,\n",
       " (6, 1): 33.0,\n",
       " (6, 2): 24.0,\n",
       " (6, 3): 12.0,\n",
       " (7, 0): 51.0,\n",
       " (7, 1): 33.0,\n",
       " (7, 2): 18.0,\n",
       " (7, 3): 9.0,\n",
       " (8, 0): 42.0,\n",
       " (8, 1): 27.0,\n",
       " (8, 2): 12.0,\n",
       " (8, 3): 0,\n",
       " (9, 0): 90.0,\n",
       " (9, 1): 63.0,\n",
       " (9, 2): 24.0,\n",
       " (9, 3): 6.0,\n",
       " (10, 0): 135.0,\n",
       " (10, 1): 81.0,\n",
       " (10, 2): 42.0,\n",
       " (10, 3): 6.0,\n",
       " (11, 0): 90.0,\n",
       " (11, 1): 60.0,\n",
       " (11, 2): 27.0,\n",
       " (11, 3): 3.0,\n",
       " (12, 0): 31.0,\n",
       " (12, 1): 24.0,\n",
       " (12, 2): 9.0,\n",
       " (12, 3): 3.0,\n",
       " (13, 0): 103.0,\n",
       " (13, 1): 72.0,\n",
       " (13, 2): 27.0,\n",
       " (13, 3): 12.0,\n",
       " (14, 0): 145.0,\n",
       " (14, 1): 99.0,\n",
       " (14, 2): 51.0,\n",
       " (14, 3): 18.0,\n",
       " (15, 0): 199.0,\n",
       " (15, 1): 123.0,\n",
       " (15, 2): 66.0,\n",
       " (15, 3): 12.0,\n",
       " (16, 0): 15.0,\n",
       " (16, 1): 12.0,\n",
       " (16, 2): 12.0,\n",
       " (16, 3): 3.0,\n",
       " (17, 0): 36.0,\n",
       " (17, 1): 18.0,\n",
       " (17, 2): 15.0,\n",
       " (17, 3): 3.0,\n",
       " (18, 0): 54.0,\n",
       " (18, 1): 33.0,\n",
       " (18, 2): 16.0,\n",
       " (18, 3): 6.0,\n",
       " (19, 0): 6.0,\n",
       " (19, 1): 6.0,\n",
       " (19, 2): 6.0,\n",
       " (19, 3): 6.0,\n",
       " (20, 0): 12.0,\n",
       " (20, 1): 12.0,\n",
       " (20, 2): 12.0,\n",
       " (20, 3): 12.0,\n",
       " (21, 0): 3.0,\n",
       " (21, 1): 0,\n",
       " (21, 2): 0,\n",
       " (21, 3): 0,\n",
       " (22, 0): 9.0,\n",
       " (22, 1): 6.0,\n",
       " (22, 2): 3.0,\n",
       " (22, 3): 3.0,\n",
       " (23, 0): 9.0,\n",
       " (23, 1): 6.0,\n",
       " (23, 2): 3.0,\n",
       " (23, 3): 3.0,\n",
       " (24, 0): 3.0,\n",
       " (24, 1): 3.0,\n",
       " (24, 2): 3.0,\n",
       " (24, 3): 0,\n",
       " (25, 0): 18.0,\n",
       " (25, 1): 9.0,\n",
       " (25, 2): 6.0,\n",
       " (25, 3): 3.0,\n",
       " (26, 0): 9.0,\n",
       " (26, 1): 0,\n",
       " (26, 2): 0,\n",
       " (26, 3): 0,\n",
       " (27, 0): 27.0,\n",
       " (27, 1): 18.0,\n",
       " (27, 2): 12.0,\n",
       " (27, 3): 0,\n",
       " (28, 0): 27.0,\n",
       " (28, 1): 12.0,\n",
       " (28, 2): 9.0,\n",
       " (28, 3): 0,\n",
       " (29, 0): 15.0,\n",
       " (29, 1): 12.0,\n",
       " (29, 2): 9.0,\n",
       " (29, 3): 6.0,\n",
       " (30, 0): 21.0,\n",
       " (30, 1): 18.0,\n",
       " (30, 2): 12.0,\n",
       " (30, 3): 6.0,\n",
       " (31, 0): 21.0,\n",
       " (31, 1): 18.0,\n",
       " (31, 2): 9.0,\n",
       " (31, 3): 0,\n",
       " (32, 0): 21.0,\n",
       " (32, 1): 15.0,\n",
       " (32, 2): 6.0,\n",
       " (32, 3): 0,\n",
       " (33, 0): 39.0,\n",
       " (33, 1): 21.0,\n",
       " (33, 2): 18.0,\n",
       " (33, 3): 0,\n",
       " (34, 0): 90.0,\n",
       " (34, 1): 51.0,\n",
       " (34, 2): 24.0,\n",
       " (34, 3): 0,\n",
       " (35, 0): 75.0,\n",
       " (35, 1): 45.0,\n",
       " (35, 2): 24.0,\n",
       " (35, 3): 0,\n",
       " (36, 0): 90.0,\n",
       " (36, 1): 54.0,\n",
       " (36, 2): 21.0,\n",
       " (36, 3): 0,\n",
       " (37, 0): 90.0,\n",
       " (37, 1): 54.0,\n",
       " (37, 2): 24.0,\n",
       " (37, 3): 0,\n",
       " (38, 0): 18.0,\n",
       " (38, 1): 18.0,\n",
       " (38, 2): 3.0,\n",
       " (38, 3): 3.0,\n",
       " (39, 0): 36.0,\n",
       " (39, 1): 36.0,\n",
       " (39, 2): 24.0,\n",
       " (39, 3): 15.0,\n",
       " (40, 0): 9.0,\n",
       " (40, 1): 6.0,\n",
       " (40, 2): 0,\n",
       " (40, 3): 0,\n",
       " (41, 0): 36.0,\n",
       " (41, 1): 27.0,\n",
       " (41, 2): 18.0,\n",
       " (41, 3): 12.0,\n",
       " (42, 0): 81.0,\n",
       " (42, 1): 66.0,\n",
       " (42, 2): 42.0,\n",
       " (42, 3): 33.0,\n",
       " (43, 0): 36.0,\n",
       " (43, 1): 21.0,\n",
       " (43, 2): 15.0,\n",
       " (43, 3): 9.0,\n",
       " (44, 0): 12.0,\n",
       " (44, 1): 12.0,\n",
       " (44, 2): 6.0,\n",
       " (44, 3): 3.0,\n",
       " (45, 0): 9.0,\n",
       " (45, 1): 9.0,\n",
       " (45, 2): 9.0,\n",
       " (45, 3): 6.0,\n",
       " (46, 0): 39.0,\n",
       " (46, 1): 27.0,\n",
       " (46, 2): 15.0,\n",
       " (46, 3): 12.0,\n",
       " (47, 0): 27.0,\n",
       " (47, 1): 18.0,\n",
       " (47, 2): 6.0,\n",
       " (47, 3): 3.0,\n",
       " (48, 0): 78.0,\n",
       " (48, 1): 60.0,\n",
       " (48, 2): 54.0,\n",
       " (48, 3): 26.0,\n",
       " (49, 0): 141.0,\n",
       " (49, 1): 81.0,\n",
       " (49, 2): 58.0,\n",
       " (49, 3): 27.0,\n",
       " (50, 0): 6.0,\n",
       " (50, 1): 6.0,\n",
       " (50, 2): 6.0,\n",
       " (50, 3): 6.0,\n",
       " (51, 0): 18.0,\n",
       " (51, 1): 15.0,\n",
       " (51, 2): 12.0,\n",
       " (51, 3): 3.0,\n",
       " (52, 0): 15.0,\n",
       " (52, 1): 12.0,\n",
       " (52, 2): 9.0,\n",
       " (52, 3): 6.0,\n",
       " (53, 0): 12.0,\n",
       " (53, 1): 6.0,\n",
       " (53, 2): 6.0,\n",
       " (53, 3): 3.0,\n",
       " (54, 0): 51.0,\n",
       " (54, 1): 36.0,\n",
       " (54, 2): 24.0,\n",
       " (54, 3): 6.0,\n",
       " (55, 0): 18.0,\n",
       " (55, 1): 9.0,\n",
       " (55, 2): 6.0,\n",
       " (55, 3): 0,\n",
       " (56, 0): 12.0,\n",
       " (56, 1): 3.0,\n",
       " (56, 2): 3.0,\n",
       " (56, 3): 0,\n",
       " (57, 0): 226.0,\n",
       " (57, 1): 153.0,\n",
       " (57, 2): 130.0,\n",
       " (57, 3): 71.0,\n",
       " (58, 0): 6.0,\n",
       " (58, 1): 6.0,\n",
       " (58, 2): 6.0,\n",
       " (58, 3): 6.0,\n",
       " (59, 0): 36.0,\n",
       " (59, 1): 30.0,\n",
       " (59, 2): 9.0,\n",
       " (59, 3): 0,\n",
       " (60, 0): 114.0,\n",
       " (60, 1): 87.0,\n",
       " (60, 2): 36.0,\n",
       " (60, 3): 18.0,\n",
       " (61, 0): 54.0,\n",
       " (61, 1): 39.0,\n",
       " (61, 2): 27.0,\n",
       " (61, 3): 15.0,\n",
       " (62, 0): 30.0,\n",
       " (62, 1): 21.0,\n",
       " (62, 2): 12.0,\n",
       " (62, 3): 6.0,\n",
       " (63, 0): 57.0,\n",
       " (63, 1): 36.0,\n",
       " (63, 2): 24.0,\n",
       " (63, 3): 6.0,\n",
       " (64, 0): 148.0,\n",
       " (64, 1): 105.0,\n",
       " (64, 2): 67.0,\n",
       " (64, 3): 30.0,\n",
       " (65, 0): 60.0,\n",
       " (65, 1): 51.0,\n",
       " (65, 2): 30.0,\n",
       " (65, 3): 11.0,\n",
       " (66, 0): 114.0,\n",
       " (66, 1): 81.0,\n",
       " (66, 2): 54.0,\n",
       " (66, 3): 15.0,\n",
       " (67, 0): 12.0,\n",
       " (67, 1): 3.0,\n",
       " (67, 2): 0,\n",
       " (67, 3): 0,\n",
       " (68, 0): 1.0,\n",
       " (68, 1): 0,\n",
       " (68, 2): 0,\n",
       " (68, 3): 0,\n",
       " (69, 0): 1.0,\n",
       " (69, 1): 0,\n",
       " (69, 2): 0,\n",
       " (69, 3): 0,\n",
       " (70, 0): 1.0,\n",
       " (70, 1): 0,\n",
       " (70, 2): 0,\n",
       " (70, 3): 0,\n",
       " (71, 0): 36.0,\n",
       " (71, 1): 24.0,\n",
       " (71, 2): 15.0,\n",
       " (71, 3): 0,\n",
       " (72, 0): 13.0,\n",
       " (72, 1): 9.0,\n",
       " (72, 2): 0,\n",
       " (72, 3): 0,\n",
       " (73, 0): 15.0,\n",
       " (73, 1): 3.0,\n",
       " (73, 2): 3.0,\n",
       " (73, 3): 0}"
      ]
     },
     "execution_count": 213,
     "metadata": {},
     "output_type": "execute_result"
    }
   ],
   "source": [
    "price = mdl2.solution.get_value_dict(port_calls)\n",
    "price"
   ]
  },
  {
   "cell_type": "markdown",
   "metadata": {},
   "source": [
    "# Model assign exp imp"
   ]
  },
  {
   "cell_type": "code",
   "execution_count": null,
   "metadata": {},
   "outputs": [],
   "source": []
  },
  {
   "cell_type": "markdown",
   "metadata": {},
   "source": [
    "# MISC"
   ]
  },
  {
   "cell_type": "code",
   "execution_count": null,
   "metadata": {},
   "outputs": [],
   "source": [
    "def demand_model1(Trade_demand,R_TEU,cont_conv = containerized):\n",
    "    products = tuple([c for c in cont_conv.keys() if cont_conv[c]!=0 ])\n",
    "    global int_cod,matrix_region\n",
    "    mdl = Model(name='trade_to_teu_1')\n",
    "    \n",
    "    price_prod_econ = mdl.continuous_var_matrix( keys1=matrix_region,keys2=products, ub=0.8, name=\"price_prod_econ\") \n",
    "    # (TEU/k$)  : Less Value => Expensive Cargo\n",
    "    load_from_to =  mdl.continuous_var_matrix(keys1=matrix_region, keys2=matrix_region, name=\"load_from_to\")\n",
    "    load_total =  mdl.continuous_var_dict(keys=matrix_region, lb=10, ub = R_TEU, name=\"load_total\")\n",
    "\n",
    "    for f in matrix_region:\n",
    "        for t in matrix_region:\n",
    "            if f==t :\n",
    "                continue\n",
    "            mdl.add_constraint(\n",
    "                mdl.sum((price_prod_econ[f,p] * Trade_demand[f,t,p]* cont_conv[p] ) for p in products) \n",
    "                == load_from_to[f,t]\n",
    "            ) \n",
    "    for f in matrix_region:\n",
    "        mdl.add_constraint(\n",
    "            mdl.sum(load_from_to[f,t] for t in matrix_region if t!=f ) + mdl.sum(load_from_to[k,f] for k in matrix_region if k!=f)\n",
    "            == load_total[f] \n",
    "            ) \n",
    "    \n",
    "    total_err = mdl.sum((R_TEU[f] - load_total[f])**2 for f in int_cod)\n",
    "    mdl.minimize(total_err)\n",
    "    \n",
    "    sol = mdl.solve()\n",
    "    if sol is not None:\n",
    "        # mdl.print_information()\n",
    "        mdl.report()\n",
    "        price = mdl.solution.get_value_dict(price_prod_econ)\n",
    "        price_df = pd.DataFrame([{'Econ':k[0],'Product':k[1],'Price':v} for k,v in price.items()],columns = ['Econ','Product','Price'])\n",
    "        mid = price_df.groupby('Product').Price.describe()[['50%', 'mean','min','max']]\n",
    "        mid['Min_mid'] = mid[['50%', 'mean']].min(axis=1)\n",
    "        mid['Max_mid'] = mid[['50%', 'mean']].max(axis=1)\n",
    "        mid['Max_Uratio'] = mid['max']/mid['Max_mid'] \n",
    "        mid['Max_Lratio'] = mid['min']/mid['Max_mid'] \n",
    "        obj = sol.get_objective_value()\n",
    "        # print(f\"solution for a cost of {mdl.objective_value}\")\n",
    "        # print_information(model)\n",
    "        # print_solution(model)\n",
    "        return mid,obj\n",
    "    else:\n",
    "        print(\"* model is infeasible\")\n",
    "        return None\n",
    "\n",
    "\n",
    "def demand_model2(base_price,Trade_demand,R_TEU,cont_conv = containerized):\n",
    "    products = tuple([c for c in cont_conv.keys() if cont_conv[c]!=0 ])\n",
    "    global int_cod,matrix_region\n",
    "    mdl = Model(name='trade_to_teu_2')\n",
    "\n",
    "    load_from_to =  mdl.continuous_var_matrix(keys1=matrix_region, keys2=matrix_region, name=\"load_from_to\")\n",
    "    load_total =  mdl.continuous_var_dict(keys=matrix_region, lb=10,ub = R_TEU, name=\"load_total\")\n",
    "    range_prod_econ = mdl.continuous_var_matrix(keys1=matrix_region, keys2=products,lb=0.002,ub=5.0, name=\"range_prod_econ\")\n",
    "\n",
    "    for f in matrix_region:\n",
    "        for t in matrix_region:\n",
    "            if f==t :\n",
    "                continue\n",
    "            mdl.add_constraint(\n",
    "                mdl.sum((base_price[p]* range_prod_econ[f,p] * Trade_demand[f,t,p]* cont_conv[p] ) for p in products) \n",
    "                == load_from_to[f,t]\n",
    "            ) \n",
    "    for f in matrix_region:\n",
    "        mdl.add_constraint(\n",
    "            mdl.sum(load_from_to[f,t] for t in matrix_region if t!=f ) + mdl.sum(load_from_to[k,f] for k in matrix_region if k!=f)\n",
    "            == load_total[f] \n",
    "            ) \n",
    "    \n",
    "    total_err = mdl.sum((R_TEU[f] - load_total[f])**2 for f in int_cod)\n",
    "    mdl.minimize(total_err)\n",
    "    \n",
    "    sol = mdl.solve()\n",
    "    if sol is not None:\n",
    "        # mdl.print_information()\n",
    "        mdl.report()\n",
    "        load_matrix = mdl.solution.get_value_dict(load_from_to)\n",
    "        C_TEU = mdl.solution.get_value_dict(load_total)\n",
    "        price_range = mdl.solution.get_value_dict(range_prod_econ)\n",
    "        price_range_df = pd.DataFrame([{'Econ':k[0],'Product':k[1],'Price':v} for k,v in price_range.items()],columns = ['Econ','Product','Price'])\n",
    "        # print(sol.get_objective_value())\n",
    "        obj = sol.get_objective_value()\n",
    "        # print(f\"solution for a cost of {mdl.objective_value}\")\n",
    "        # print_information(model)\n",
    "        # print_solution(model)\n",
    "        return load_matrix,C_TEU,price_range_df,obj\n",
    "    else:\n",
    "        print(\"* model is infeasible\")\n",
    "        return None\n"
   ]
  },
  {
   "cell_type": "code",
   "execution_count": null,
   "metadata": {},
   "outputs": [],
   "source": [
    "## Relaxing External FLow\n",
    "for _e,e in enumerate(economics):           # @ Economy f\n",
    "    fports = [(_p,total_port[_p]) for _p,c in port_country.items() if c == _e]\n",
    "    for _t,t in enumerate(economics):       # Partner\n",
    "        if (f in regions_cod and t in regions_cod) :\n",
    "            # External frame relaxed \n",
    "            continue\n",
    "        if (f==t):\n",
    "        ## Fixed this\n",
    "         \n",
    "            # Import = 0\n",
    "            # mdl.add_constraints([imp[(_t,_p,_f)] == 0 for _p,p in fports],\n",
    "            # [f\"import fix {p}\" for _p,p in fports])\n",
    "            \n",
    "            # Sum Export each port\n",
    "            #### Fix this #####\n",
    "            mdl.add_constraint(\n",
    "                mdl.sum(exp[(_t,_p,_f)] \n",
    "                    for _p,p in fports)\n",
    "                == demands[f,t] ,\n",
    "                f\"Sum Exp {t}\"\n",
    "            )\n",
    "\n",
    "            # Flow conservation : Load == Export (No transhipment)\n",
    "            mdl.add_constraints_((port_load[(_f,_p,_t)])\n",
    "                >= exp[(_t,_p,_f)] for _p,p in fports),\n",
    "                [f\"Flow con {t},{p},{f}\" for _p,p in fports]\n",
    "            )\n",
    "           \n",
    "            \n",
    "        else:    # Import Case\n",
    "            # Export = 0\n",
    "            # mdl.add_constraints((imp[(_t,_p,_f)] == 0 for _p,p in fports),\n",
    "            # [f\"export fix {p}\" for _p,p in fports])\n",
    "            \n",
    "            # Sum Import each port\n",
    "            mdl.add_constraint(\n",
    "                mdl.sum(imp[(_t,_p,_f)] \n",
    "                    for _p,p in fports)\n",
    "                == demands[t,f],\n",
    "                f\"Sum Imp {t}\"\n",
    "            )\n",
    "\n",
    "            # Flow conservation : Net unload == import\n",
    "            mdl.add_constraints(\n",
    "                (port_unload[(_t,_p,_f)] - port_load[(_t,_p,_f)]\n",
    "                >=imp[(_t,_p,_f)] for _p,p in fports),\n",
    "                [f\"Flow con {t},{p},{f}\" for _p,p in fports]\n",
    "            )\n",
    "## Relaxing External FLow\n",
    "for _e,e in enumerate(economics):           # @ Economy f\n",
    "    fports = [(_p,total_port[_p]) for _p,c in port_country.items() if c == _e]\n",
    "    for _t,t in enumerate(economics):       # Partner\n",
    "        if (f in regions_cod and t in regions_cod) :\n",
    "            # External frame relaxed \n",
    "            continue\n",
    "        if (f==t):\n",
    "        ## Fixed this\n",
    "         \n",
    "            # Import = 0\n",
    "            # mdl.add_constraints([imp[(_t,_p,_f)] == 0 for _p,p in fports],\n",
    "            # [f\"import fix {p}\" for _p,p in fports])\n",
    "            \n",
    "            # Sum Export each port\n",
    "            #### Fix this #####\n",
    "            mdl.add_constraint(\n",
    "                mdl.sum(exp[(_t,_p,_f)] \n",
    "                    for _p,p in fports)\n",
    "                == demands[f,t] ,\n",
    "                f\"Sum Exp {t}\"\n",
    "            )\n",
    "\n",
    "            # Flow conservation : Load == Export (No transhipment)\n",
    "            mdl.add_constraints_((port_load[(_f,_p,_t)]\n",
    "                >= exp[(_t,_p,_f)] for _p,p in fports),\n",
    "                [f\"Flow con {t},{p},{f}\" for _p,p in fports]\n",
    "            )\n",
    "           \n",
    "            \n",
    "        else:    # Import Case\n",
    "            # Export = 0\n",
    "            # mdl.add_constraints((imp[(_t,_p,_f)] == 0 for _p,p in fports),\n",
    "            # [f\"export fix {p}\" for _p,p in fports])\n",
    "            \n",
    "            # Sum Import each port\n",
    "            mdl.add_constraint(\n",
    "                mdl.sum(imp[(_t,_p,_f)] \n",
    "                    for _p,p in fports)\n",
    "                == demands[t,f],\n",
    "                f\"Sum Imp {t}\"\n",
    "            )\n",
    "\n",
    "            # Flow conservation : Net unload == import\n",
    "            mdl.add_constraints(\n",
    "                (port_unload[(_t,_p,_f)] - port_load[(_t,_p,_f)]\n",
    "                >=imp[(_t,_p,_f)] for _p,p in fports),\n",
    "                [f\"Flow con {t},{p},{f}\" for _p,p in fports]\n",
    "            )\n",
    "\n",
    "\n"
   ]
  },
  {
   "cell_type": "markdown",
   "metadata": {},
   "source": [
    "# Misc"
   ]
  },
  {
   "cell_type": "code",
   "execution_count": null,
   "metadata": {},
   "outputs": [
    {
     "data": {
      "text/html": [
       "<div>\n",
       "<style scoped>\n",
       "    .dataframe tbody tr th:only-of-type {\n",
       "        vertical-align: middle;\n",
       "    }\n",
       "\n",
       "    .dataframe tbody tr th {\n",
       "        vertical-align: top;\n",
       "    }\n",
       "\n",
       "    .dataframe thead th {\n",
       "        text-align: right;\n",
       "    }\n",
       "</style>\n",
       "<table border=\"1\" class=\"dataframe\">\n",
       "  <thead>\n",
       "    <tr style=\"text-align: right;\">\n",
       "      <th></th>\n",
       "      <th>LOCODE</th>\n",
       "      <th>Country</th>\n",
       "      <th>Flow_in</th>\n",
       "      <th>Max_TEU</th>\n",
       "      <th>Min_TEU</th>\n",
       "      <th>UNLOCODE</th>\n",
       "      <th>Port_Name</th>\n",
       "      <th>draft0</th>\n",
       "      <th>draft1</th>\n",
       "      <th>draft2</th>\n",
       "      <th>draft3</th>\n",
       "      <th>Sum_len</th>\n",
       "      <th>draft0_r</th>\n",
       "      <th>draft1_r</th>\n",
       "      <th>draft2_r</th>\n",
       "      <th>draft3_r</th>\n",
       "      <th>Sum_len_r</th>\n",
       "    </tr>\n",
       "  </thead>\n",
       "  <tbody>\n",
       "    <tr>\n",
       "      <th>0</th>\n",
       "      <td>BDCGP</td>\n",
       "      <td>BD</td>\n",
       "      <td>1146693.0</td>\n",
       "      <td>2806</td>\n",
       "      <td>431</td>\n",
       "      <td>BDCGP</td>\n",
       "      <td>CHATTOGRAM</td>\n",
       "      <td>3124.0</td>\n",
       "      <td>0</td>\n",
       "      <td>0</td>\n",
       "      <td>0</td>\n",
       "      <td>3124.0</td>\n",
       "      <td>3060</td>\n",
       "      <td>0</td>\n",
       "      <td>0</td>\n",
       "      <td>0</td>\n",
       "      <td>3060</td>\n",
       "    </tr>\n",
       "    <tr>\n",
       "      <th>1</th>\n",
       "      <td>CNDCB</td>\n",
       "      <td>CN</td>\n",
       "      <td>208187.0</td>\n",
       "      <td>6931</td>\n",
       "      <td>2770</td>\n",
       "      <td>CNDCB</td>\n",
       "      <td>DA CHAN BAY</td>\n",
       "      <td>0.0</td>\n",
       "      <td>0</td>\n",
       "      <td>0</td>\n",
       "      <td>2430</td>\n",
       "      <td>2430.0</td>\n",
       "      <td>0</td>\n",
       "      <td>0</td>\n",
       "      <td>0</td>\n",
       "      <td>2340</td>\n",
       "      <td>2340</td>\n",
       "    </tr>\n",
       "    <tr>\n",
       "      <th>2</th>\n",
       "      <td>CNYTG</td>\n",
       "      <td>CN</td>\n",
       "      <td>217905.0</td>\n",
       "      <td>4253</td>\n",
       "      <td>542</td>\n",
       "      <td>CNYTG</td>\n",
       "      <td>YANTAI PT</td>\n",
       "      <td>237.0</td>\n",
       "      <td>0</td>\n",
       "      <td>1492</td>\n",
       "      <td>2876</td>\n",
       "      <td>4605.0</td>\n",
       "      <td>170</td>\n",
       "      <td>0</td>\n",
       "      <td>1340</td>\n",
       "      <td>2730</td>\n",
       "      <td>4240</td>\n",
       "    </tr>\n",
       "    <tr>\n",
       "      <th>3</th>\n",
       "      <td>CNQZH</td>\n",
       "      <td>CN</td>\n",
       "      <td>251114.0</td>\n",
       "      <td>6096</td>\n",
       "      <td>556</td>\n",
       "      <td>CNQZH</td>\n",
       "      <td>QINZHOU PT</td>\n",
       "      <td>0.0</td>\n",
       "      <td>0</td>\n",
       "      <td>0</td>\n",
       "      <td>1533</td>\n",
       "      <td>1533.0</td>\n",
       "      <td>0</td>\n",
       "      <td>0</td>\n",
       "      <td>0</td>\n",
       "      <td>1560</td>\n",
       "      <td>1560</td>\n",
       "    </tr>\n",
       "    <tr>\n",
       "      <th>4</th>\n",
       "      <td>CNFOC</td>\n",
       "      <td>CN</td>\n",
       "      <td>426504.0</td>\n",
       "      <td>16022</td>\n",
       "      <td>368</td>\n",
       "      <td>CNFOC</td>\n",
       "      <td>Fuzhou</td>\n",
       "      <td>300.0</td>\n",
       "      <td>1699</td>\n",
       "      <td>0</td>\n",
       "      <td>2034</td>\n",
       "      <td>4033.0</td>\n",
       "      <td>340</td>\n",
       "      <td>1650</td>\n",
       "      <td>0</td>\n",
       "      <td>1950</td>\n",
       "      <td>3940</td>\n",
       "    </tr>\n",
       "    <tr>\n",
       "      <th>...</th>\n",
       "      <td>...</td>\n",
       "      <td>...</td>\n",
       "      <td>...</td>\n",
       "      <td>...</td>\n",
       "      <td>...</td>\n",
       "      <td>...</td>\n",
       "      <td>...</td>\n",
       "      <td>...</td>\n",
       "      <td>...</td>\n",
       "      <td>...</td>\n",
       "      <td>...</td>\n",
       "      <td>...</td>\n",
       "      <td>...</td>\n",
       "      <td>...</td>\n",
       "      <td>...</td>\n",
       "      <td>...</td>\n",
       "      <td>...</td>\n",
       "    </tr>\n",
       "    <tr>\n",
       "      <th>63</th>\n",
       "      <td>TWTPE</td>\n",
       "      <td>TW</td>\n",
       "      <td>1718336.0</td>\n",
       "      <td>20190</td>\n",
       "      <td>610</td>\n",
       "      <td>TWTPE</td>\n",
       "      <td>TAIPEI</td>\n",
       "      <td>0.0</td>\n",
       "      <td>0</td>\n",
       "      <td>0</td>\n",
       "      <td>1377</td>\n",
       "      <td>1377.0</td>\n",
       "      <td>0</td>\n",
       "      <td>0</td>\n",
       "      <td>0</td>\n",
       "      <td>1560</td>\n",
       "      <td>1560</td>\n",
       "    </tr>\n",
       "    <tr>\n",
       "      <th>64</th>\n",
       "      <td>TWKEL</td>\n",
       "      <td>TW</td>\n",
       "      <td>1870217.0</td>\n",
       "      <td>10933</td>\n",
       "      <td>450</td>\n",
       "      <td>TWKEL</td>\n",
       "      <td>KEELUNG (CHILUNG)</td>\n",
       "      <td>3349.0</td>\n",
       "      <td>660</td>\n",
       "      <td>210</td>\n",
       "      <td>403</td>\n",
       "      <td>4622.0</td>\n",
       "      <td>3400</td>\n",
       "      <td>550</td>\n",
       "      <td>335</td>\n",
       "      <td>390</td>\n",
       "      <td>4675</td>\n",
       "    </tr>\n",
       "    <tr>\n",
       "      <th>65</th>\n",
       "      <td>TWKHH</td>\n",
       "      <td>TW</td>\n",
       "      <td>12887313.0</td>\n",
       "      <td>23964</td>\n",
       "      <td>180</td>\n",
       "      <td>TWKHH</td>\n",
       "      <td>KAOHSIUNG</td>\n",
       "      <td>1259.0</td>\n",
       "      <td>0</td>\n",
       "      <td>2878</td>\n",
       "      <td>2565</td>\n",
       "      <td>6702.0</td>\n",
       "      <td>1190</td>\n",
       "      <td>0</td>\n",
       "      <td>3015</td>\n",
       "      <td>2730</td>\n",
       "      <td>6935</td>\n",
       "    </tr>\n",
       "    <tr>\n",
       "      <th>66</th>\n",
       "      <td>VNHPH</td>\n",
       "      <td>VN</td>\n",
       "      <td>1963571.0</td>\n",
       "      <td>12726</td>\n",
       "      <td>357</td>\n",
       "      <td>VNHPH</td>\n",
       "      <td>HAIPHONG</td>\n",
       "      <td>7084.0</td>\n",
       "      <td>450</td>\n",
       "      <td>0</td>\n",
       "      <td>750</td>\n",
       "      <td>8284.0</td>\n",
       "      <td>7140</td>\n",
       "      <td>550</td>\n",
       "      <td>0</td>\n",
       "      <td>780</td>\n",
       "      <td>8470</td>\n",
       "    </tr>\n",
       "    <tr>\n",
       "      <th>67</th>\n",
       "      <td>VNSGN</td>\n",
       "      <td>VN</td>\n",
       "      <td>7353779.0</td>\n",
       "      <td>18995</td>\n",
       "      <td>404</td>\n",
       "      <td>VNSGN</td>\n",
       "      <td>HO CHI MINH CITY</td>\n",
       "      <td>5736.0</td>\n",
       "      <td>1182</td>\n",
       "      <td>1458</td>\n",
       "      <td>0</td>\n",
       "      <td>8376.0</td>\n",
       "      <td>5780</td>\n",
       "      <td>1100</td>\n",
       "      <td>1340</td>\n",
       "      <td>0</td>\n",
       "      <td>8220</td>\n",
       "    </tr>\n",
       "  </tbody>\n",
       "</table>\n",
       "<p>68 rows × 17 columns</p>\n",
       "</div>"
      ],
      "text/plain": [
       "   LOCODE Country     Flow_in  Max_TEU  Min_TEU UNLOCODE           Port_Name  \\\n",
       "0   BDCGP      BD   1146693.0     2806      431    BDCGP         CHATTOGRAM    \n",
       "1   CNDCB      CN    208187.0     6931     2770    CNDCB        DA CHAN BAY    \n",
       "2   CNYTG      CN    217905.0     4253      542    CNYTG          YANTAI PT    \n",
       "3   CNQZH      CN    251114.0     6096      556    CNQZH         QINZHOU PT    \n",
       "4   CNFOC      CN    426504.0    16022      368    CNFOC              Fuzhou   \n",
       "..    ...     ...         ...      ...      ...      ...                 ...   \n",
       "63  TWTPE      TW   1718336.0    20190      610    TWTPE             TAIPEI    \n",
       "64  TWKEL      TW   1870217.0    10933      450    TWKEL  KEELUNG (CHILUNG)    \n",
       "65  TWKHH      TW  12887313.0    23964      180    TWKHH          KAOHSIUNG    \n",
       "66  VNHPH      VN   1963571.0    12726      357    VNHPH           HAIPHONG    \n",
       "67  VNSGN      VN   7353779.0    18995      404    VNSGN   HO CHI MINH CITY    \n",
       "\n",
       "    draft0  draft1  draft2  draft3  Sum_len  draft0_r  draft1_r  draft2_r  \\\n",
       "0   3124.0       0       0       0   3124.0      3060         0         0   \n",
       "1      0.0       0       0    2430   2430.0         0         0         0   \n",
       "2    237.0       0    1492    2876   4605.0       170         0      1340   \n",
       "3      0.0       0       0    1533   1533.0         0         0         0   \n",
       "4    300.0    1699       0    2034   4033.0       340      1650         0   \n",
       "..     ...     ...     ...     ...      ...       ...       ...       ...   \n",
       "63     0.0       0       0    1377   1377.0         0         0         0   \n",
       "64  3349.0     660     210     403   4622.0      3400       550       335   \n",
       "65  1259.0       0    2878    2565   6702.0      1190         0      3015   \n",
       "66  7084.0     450       0     750   8284.0      7140       550         0   \n",
       "67  5736.0    1182    1458       0   8376.0      5780      1100      1340   \n",
       "\n",
       "    draft3_r  Sum_len_r  \n",
       "0          0       3060  \n",
       "1       2340       2340  \n",
       "2       2730       4240  \n",
       "3       1560       1560  \n",
       "4       1950       3940  \n",
       "..       ...        ...  \n",
       "63      1560       1560  \n",
       "64       390       4675  \n",
       "65      2730       6935  \n",
       "66       780       8470  \n",
       "67         0       8220  \n",
       "\n",
       "[68 rows x 17 columns]"
      ]
     },
     "execution_count": 51,
     "metadata": {},
     "output_type": "execute_result"
    }
   ],
   "source": [
    "# master_port.to_csv('ports_master.csv')\n",
    "# master_port = sel_port.merge(port_draft,on='LOCODE')\n",
    "master_port = pd.read_csv('ports_master.csv').iloc[:,1:]\n",
    "master_port"
   ]
  },
  {
   "cell_type": "code",
   "execution_count": null,
   "metadata": {},
   "outputs": [
    {
     "data": {
      "text/html": [
       "<div>\n",
       "<style scoped>\n",
       "    .dataframe tbody tr th:only-of-type {\n",
       "        vertical-align: middle;\n",
       "    }\n",
       "\n",
       "    .dataframe tbody tr th {\n",
       "        vertical-align: top;\n",
       "    }\n",
       "\n",
       "    .dataframe thead th {\n",
       "        text-align: right;\n",
       "    }\n",
       "</style>\n",
       "<table border=\"1\" class=\"dataframe\">\n",
       "  <thead>\n",
       "    <tr style=\"text-align: right;\">\n",
       "      <th></th>\n",
       "      <th>LOCODE</th>\n",
       "      <th>Country</th>\n",
       "      <th>Flow_in</th>\n",
       "      <th>Max_TEU</th>\n",
       "      <th>Min_TEU</th>\n",
       "      <th>UNLOCODE</th>\n",
       "      <th>Port_Name</th>\n",
       "      <th>draft0</th>\n",
       "      <th>draft1</th>\n",
       "      <th>draft2</th>\n",
       "      <th>draft3</th>\n",
       "      <th>Sum_len</th>\n",
       "      <th>draft0_r</th>\n",
       "      <th>draft1_r</th>\n",
       "      <th>draft2_r</th>\n",
       "      <th>draft3_r</th>\n",
       "      <th>Sum_len_r</th>\n",
       "    </tr>\n",
       "  </thead>\n",
       "  <tbody>\n",
       "    <tr>\n",
       "      <th>46</th>\n",
       "      <td>MYBTU</td>\n",
       "      <td>MY</td>\n",
       "      <td>211721.0</td>\n",
       "      <td>2806</td>\n",
       "      <td>144</td>\n",
       "      <td>MYBTU</td>\n",
       "      <td>BINTULU, SARAWAK</td>\n",
       "      <td>514.0</td>\n",
       "      <td>0</td>\n",
       "      <td>450</td>\n",
       "      <td>0</td>\n",
       "      <td>964.0</td>\n",
       "      <td>510</td>\n",
       "      <td>0</td>\n",
       "      <td>335</td>\n",
       "      <td>0</td>\n",
       "      <td>845</td>\n",
       "    </tr>\n",
       "    <tr>\n",
       "      <th>47</th>\n",
       "      <td>MYJHB</td>\n",
       "      <td>MY</td>\n",
       "      <td>642648.0</td>\n",
       "      <td>9404</td>\n",
       "      <td>216</td>\n",
       "      <td>MYJHB</td>\n",
       "      <td>JOHOR BAHRU</td>\n",
       "      <td>0.0</td>\n",
       "      <td>708</td>\n",
       "      <td>0</td>\n",
       "      <td>0</td>\n",
       "      <td>708.0</td>\n",
       "      <td>0</td>\n",
       "      <td>825</td>\n",
       "      <td>0</td>\n",
       "      <td>0</td>\n",
       "      <td>825</td>\n",
       "    </tr>\n",
       "    <tr>\n",
       "      <th>48</th>\n",
       "      <td>MYPEN</td>\n",
       "      <td>MY</td>\n",
       "      <td>606905.0</td>\n",
       "      <td>9404</td>\n",
       "      <td>653</td>\n",
       "      <td>MYPEN</td>\n",
       "      <td>PENANG (GEORGETOWN)</td>\n",
       "      <td>1245.0</td>\n",
       "      <td>600</td>\n",
       "      <td>0</td>\n",
       "      <td>0</td>\n",
       "      <td>1845.0</td>\n",
       "      <td>1190</td>\n",
       "      <td>550</td>\n",
       "      <td>0</td>\n",
       "      <td>0</td>\n",
       "      <td>1740</td>\n",
       "    </tr>\n",
       "    <tr>\n",
       "      <th>49</th>\n",
       "      <td>MYPKG</td>\n",
       "      <td>MY</td>\n",
       "      <td>13626729.0</td>\n",
       "      <td>23112</td>\n",
       "      <td>144</td>\n",
       "      <td>MYPKG</td>\n",
       "      <td>PORT KLANG (PELABUHAN KLANG)</td>\n",
       "      <td>94.0</td>\n",
       "      <td>1137</td>\n",
       "      <td>2388</td>\n",
       "      <td>1697</td>\n",
       "      <td>5316.0</td>\n",
       "      <td>170</td>\n",
       "      <td>1100</td>\n",
       "      <td>2345</td>\n",
       "      <td>1560</td>\n",
       "      <td>5175</td>\n",
       "    </tr>\n",
       "    <tr>\n",
       "      <th>50</th>\n",
       "      <td>MYTPP</td>\n",
       "      <td>MY</td>\n",
       "      <td>10256935.0</td>\n",
       "      <td>23656</td>\n",
       "      <td>1005</td>\n",
       "      <td>MYTPP</td>\n",
       "      <td>TANJUNG PELEPAS</td>\n",
       "      <td>0.0</td>\n",
       "      <td>0</td>\n",
       "      <td>0</td>\n",
       "      <td>5040</td>\n",
       "      <td>5040.0</td>\n",
       "      <td>0</td>\n",
       "      <td>0</td>\n",
       "      <td>0</td>\n",
       "      <td>5070</td>\n",
       "      <td>5070</td>\n",
       "    </tr>\n",
       "  </tbody>\n",
       "</table>\n",
       "</div>"
      ],
      "text/plain": [
       "   LOCODE Country     Flow_in  Max_TEU  Min_TEU UNLOCODE  \\\n",
       "46  MYBTU      MY    211721.0     2806      144    MYBTU   \n",
       "47  MYJHB      MY    642648.0     9404      216    MYJHB   \n",
       "48  MYPEN      MY    606905.0     9404      653    MYPEN   \n",
       "49  MYPKG      MY  13626729.0    23112      144    MYPKG   \n",
       "50  MYTPP      MY  10256935.0    23656     1005    MYTPP   \n",
       "\n",
       "                        Port_Name  draft0  draft1  draft2  draft3  Sum_len  \\\n",
       "46              BINTULU, SARAWAK    514.0       0     450       0    964.0   \n",
       "47                   JOHOR BAHRU      0.0     708       0       0    708.0   \n",
       "48           PENANG (GEORGETOWN)   1245.0     600       0       0   1845.0   \n",
       "49  PORT KLANG (PELABUHAN KLANG)     94.0    1137    2388    1697   5316.0   \n",
       "50               TANJUNG PELEPAS      0.0       0       0    5040   5040.0   \n",
       "\n",
       "    draft0_r  draft1_r  draft2_r  draft3_r  Sum_len_r  \n",
       "46       510         0       335         0        845  \n",
       "47         0       825         0         0        825  \n",
       "48      1190       550         0         0       1740  \n",
       "49       170      1100      2345      1560       5175  \n",
       "50         0         0         0      5070       5070  "
      ]
     },
     "execution_count": 50,
     "metadata": {},
     "output_type": "execute_result"
    }
   ],
   "source": [
    "master_port[master_port.Country =='MY']"
   ]
  },
  {
   "cell_type": "code",
   "execution_count": null,
   "metadata": {},
   "outputs": [],
   "source": [
    "# Round berth lengh\n",
    "def berth_round(ber,ves):\n",
    "    return ves*round(ber/ves)\n",
    "#  170 275 335 390\n",
    "master_port['draft0_r'] = master_port.draft0.apply(lambda x: berth_round(x,170))\n",
    "master_port['draft1_r'] = master_port.draft1.apply(lambda x: berth_round(x,275))\n",
    "master_port['draft2_r'] = master_port.draft2.apply(lambda x: berth_round(x,335))\n",
    "master_port['draft3_r'] = master_port.draft3.apply(lambda x: berth_round(x,390))\n",
    "# Cumulative (Large berth can accomodate smaller vessel)\n",
    "# master_port['draft3_rc'] = master_port.draft3_r\n",
    "# master_port['draft2_rc'] = master_port.draft2_r +  master_port.draft3_rc\n",
    "# master_port['draft1_rc'] = master_port.draft1_r +  master_port.draft2_rc\n",
    "# master_port['draft0_rc'] = master_port.draft0_r +  master_port.draft1_rc\n"
   ]
  },
  {
   "cell_type": "code",
   "execution_count": null,
   "metadata": {},
   "outputs": [
    {
     "data": {
      "text/html": [
       "<div>\n",
       "<style scoped>\n",
       "    .dataframe tbody tr th:only-of-type {\n",
       "        vertical-align: middle;\n",
       "    }\n",
       "\n",
       "    .dataframe tbody tr th {\n",
       "        vertical-align: top;\n",
       "    }\n",
       "\n",
       "    .dataframe thead th {\n",
       "        text-align: right;\n",
       "    }\n",
       "</style>\n",
       "<table border=\"1\" class=\"dataframe\">\n",
       "  <thead>\n",
       "    <tr style=\"text-align: right;\">\n",
       "      <th></th>\n",
       "      <th>LOCODE</th>\n",
       "      <th>Sum_len</th>\n",
       "      <th>Sum_len_r</th>\n",
       "      <th>Sum_len_rc</th>\n",
       "    </tr>\n",
       "  </thead>\n",
       "  <tbody>\n",
       "    <tr>\n",
       "      <th>58</th>\n",
       "      <td>SGSIN</td>\n",
       "      <td>20239.0</td>\n",
       "      <td>20235</td>\n",
       "      <td>20235</td>\n",
       "    </tr>\n",
       "    <tr>\n",
       "      <th>9</th>\n",
       "      <td>CNSHG</td>\n",
       "      <td>16391.0</td>\n",
       "      <td>16130</td>\n",
       "      <td>16130</td>\n",
       "    </tr>\n",
       "    <tr>\n",
       "      <th>42</th>\n",
       "      <td>KRPUS</td>\n",
       "      <td>14515.0</td>\n",
       "      <td>14250</td>\n",
       "      <td>14250</td>\n",
       "    </tr>\n",
       "    <tr>\n",
       "      <th>6</th>\n",
       "      <td>CNNSA</td>\n",
       "      <td>12939.0</td>\n",
       "      <td>12985</td>\n",
       "      <td>12985</td>\n",
       "    </tr>\n",
       "    <tr>\n",
       "      <th>7</th>\n",
       "      <td>CNQDG</td>\n",
       "      <td>10201.0</td>\n",
       "      <td>10145</td>\n",
       "      <td>10145</td>\n",
       "    </tr>\n",
       "    <tr>\n",
       "      <th>5</th>\n",
       "      <td>CNNBG</td>\n",
       "      <td>9500.0</td>\n",
       "      <td>9360</td>\n",
       "      <td>9360</td>\n",
       "    </tr>\n",
       "    <tr>\n",
       "      <th>15</th>\n",
       "      <td>HKHKG</td>\n",
       "      <td>8980.0</td>\n",
       "      <td>9135</td>\n",
       "      <td>9135</td>\n",
       "    </tr>\n",
       "    <tr>\n",
       "      <th>12</th>\n",
       "      <td>CNXMG</td>\n",
       "      <td>8620.0</td>\n",
       "      <td>8590</td>\n",
       "      <td>8590</td>\n",
       "    </tr>\n",
       "    <tr>\n",
       "      <th>67</th>\n",
       "      <td>VNSGN</td>\n",
       "      <td>8376.0</td>\n",
       "      <td>8220</td>\n",
       "      <td>8220</td>\n",
       "    </tr>\n",
       "    <tr>\n",
       "      <th>16</th>\n",
       "      <td>IDJKT</td>\n",
       "      <td>8335.0</td>\n",
       "      <td>8530</td>\n",
       "      <td>8530</td>\n",
       "    </tr>\n",
       "    <tr>\n",
       "      <th>66</th>\n",
       "      <td>VNHPH</td>\n",
       "      <td>8284.0</td>\n",
       "      <td>8470</td>\n",
       "      <td>8470</td>\n",
       "    </tr>\n",
       "    <tr>\n",
       "      <th>11</th>\n",
       "      <td>CNTXG</td>\n",
       "      <td>8140.0</td>\n",
       "      <td>8285</td>\n",
       "      <td>8285</td>\n",
       "    </tr>\n",
       "    <tr>\n",
       "      <th>14</th>\n",
       "      <td>CNYTN</td>\n",
       "      <td>7687.0</td>\n",
       "      <td>7580</td>\n",
       "      <td>7580</td>\n",
       "    </tr>\n",
       "    <tr>\n",
       "      <th>10</th>\n",
       "      <td>CNSHK</td>\n",
       "      <td>7067.0</td>\n",
       "      <td>6675</td>\n",
       "      <td>6675</td>\n",
       "    </tr>\n",
       "  </tbody>\n",
       "</table>\n",
       "</div>"
      ],
      "text/plain": [
       "   LOCODE  Sum_len  Sum_len_r  Sum_len_rc\n",
       "58  SGSIN  20239.0      20235       20235\n",
       "9   CNSHG  16391.0      16130       16130\n",
       "42  KRPUS  14515.0      14250       14250\n",
       "6   CNNSA  12939.0      12985       12985\n",
       "7   CNQDG  10201.0      10145       10145\n",
       "5   CNNBG   9500.0       9360        9360\n",
       "15  HKHKG   8980.0       9135        9135\n",
       "12  CNXMG   8620.0       8590        8590\n",
       "67  VNSGN   8376.0       8220        8220\n",
       "16  IDJKT   8335.0       8530        8530\n",
       "66  VNHPH   8284.0       8470        8470\n",
       "11  CNTXG   8140.0       8285        8285\n",
       "14  CNYTN   7687.0       7580        7580\n",
       "10  CNSHK   7067.0       6675        6675"
      ]
     },
     "execution_count": 41,
     "metadata": {},
     "output_type": "execute_result"
    }
   ],
   "source": [
    "# Remove selected port \n",
    "# list(zip(master_port.LOCODE,master_port.draft0 + master_port.draft1 + master_port.draft2 + master_port.draft3))\n",
    "master_port['Sum_len_r'] = master_port.draft0_r + master_port.draft1_r + master_port.draft2_r + master_port.draft3_r\n",
    "master_port['Sum_len_rc'] = master_port.draft0_r + master_port.draft1_r + master_port.draft2_r + master_port.draft3_r\n",
    "master_port[['LOCODE','Sum_len','Sum_len_r','Sum_len_rc']].sort_values(by='Sum_len',ascending=False).head(14)"
   ]
  },
  {
   "cell_type": "code",
   "execution_count": null,
   "metadata": {},
   "outputs": [],
   "source": [
    "master_port.to_csv('ports_master.csv')\n",
    "int_country "
   ]
  },
  {
   "cell_type": "code",
   "execution_count": null,
   "metadata": {},
   "outputs": [],
   "source": [
    "# Fill in real througput for topport\n",
    "\n",
    "cnt = 0\n",
    "# OPE : original of cargoes, port, economics of port\n",
    "# PO : port, original of cargoes\n",
    "for _f,f in enumerate(economics):\n",
    "    fports = [(_p,p) for c,_p,p in port_country if c == f]\n",
    "    # print(f,fports,len(fports))\n",
    "    for _t,t in enumerate(economics):\n",
    "        if (f==t) or (f in regions_cod and t in regions_cod):\n",
    "            cnt += 1\n",
    "            continue\n",
    "        ## Each port in f\n",
    "        for _p,p in fports:\n",
    "            mdl.add_constraint(imp[(_t,_p,f)]<= \n",
    "                mdl.sum(port_unload[(p_,o)] for p_,o in po if p == p_ and o!=_f),\n",
    "                \"Import @ {p},{f} for {t} product\")         # Import from t to f\n",
    "            mdl.add_constraint(exp[(_t,_p,f)]<= \n",
    "                mdl.sum(port_load[(p_,o)] for p_,o in po if p == p_ and o==_f),\n",
    "                f\"Export @ {p},{f} for {t} product\")        # Export from f to t\n",
    "\n",
    "        if f in int_cod:\n",
    "        ## Sum every port in f (demand satisfied)\n",
    "            mdl.add_constraint(mdl.sum(imp[(o,_p,e)] for o,_p,e in ope if o==_t and e == f)\n",
    "                                == demands[(t,f)],\n",
    "                                f\"Demand (in) satisfy for {f},{t}\")\n",
    "            mdl.add_constraint(mdl.sum(exp[(o,_p,e)] for o,_p,e in ope if o==_f and e == f)\n",
    "                                == demands[(f,t)],\n",
    "                                f\"Demand (in) satisfy for {f},{t}\")\n",
    "        else:\n",
    "            ## Sum every port in f (demand relaxed satisfied)\n",
    "            mdl.add_constraint(mdl.sum(imp[(o,_p,e)] for o,_p,e in ope if o==_t and e == f)\n",
    "                                <= demands[(t,f)],\n",
    "                                f\"Demand (in) satisfy for {f},{t}\")\n",
    "            mdl.add_constraint(mdl.sum(exp[(o,_p,e)] for o,_p,e in ope if o==_f and e == f)\n",
    "                                <= demands[(f,t)],\n",
    "                                f\"Demand (in) satisfy for {f},{t}\")"
   ]
  },
  {
   "cell_type": "code",
   "execution_count": null,
   "metadata": {},
   "outputs": [],
   "source": [
    "country = pd.read_csv('..//country.csv',na_filter = False).iloc[:,1:]\n",
    "# country\n"
   ]
  },
  {
   "cell_type": "code",
   "execution_count": null,
   "metadata": {},
   "outputs": [],
   "source": [
    "cou_reg = pd.Series(country.Economics.values,index=country.LOCODE).dropna().to_dict()\n",
    "cou_reg[''] = ''\n",
    "cou_reg['TW'] = 'INT'\n",
    "econ_zone = dict(zip(country.LOCODE,country.Economics))\n",
    "len((dict.fromkeys(econ_zone.values())))\n",
    "# country[['Country_Name','Country_ISO3','Country_Code','Economics']]\n",
    "econ_zone['TW'] = 'OAS'"
   ]
  }
 ],
 "metadata": {
  "interpreter": {
   "hash": "b3ba2566441a7c06988d0923437866b63cedc61552a5af99d1f4fb67d367b25f"
  },
  "kernelspec": {
   "display_name": "Python 3.8.5 64-bit ('base': conda)",
   "language": "python",
   "name": "python3"
  },
  "language_info": {
   "codemirror_mode": {
    "name": "ipython",
    "version": 3
   },
   "file_extension": ".py",
   "mimetype": "text/x-python",
   "name": "python",
   "nbconvert_exporter": "python",
   "pygments_lexer": "ipython3",
   "version": "3.8.5"
  },
  "orig_nbformat": 4
 },
 "nbformat": 4,
 "nbformat_minor": 2
}
