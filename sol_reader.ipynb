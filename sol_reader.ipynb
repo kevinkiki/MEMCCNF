{
 "cells": [
  {
   "cell_type": "markdown",
   "metadata": {},
   "source": [
    "# Import"
   ]
  },
  {
   "cell_type": "code",
   "execution_count": 4,
   "metadata": {},
   "outputs": [],
   "source": [
    "import pandas as pd\n",
    "import json\n",
    "import time\n",
    "import warnings\n",
    "warnings.simplefilter(action='ignore', category=FutureWarning)"
   ]
  },
  {
   "cell_type": "code",
   "execution_count": 5,
   "metadata": {},
   "outputs": [],
   "source": [
    "master_port = pd.read_csv('ports_master.csv').iloc[:,1:]\n",
    "# port = master_port[['LOCODE','draft0_r','draft1_r','draft2_r','draft3_r']].itertuples(index=False)\n",
    "PORTS = list(master_port[['LOCODE','draft0_r','draft1_r','draft2_r','draft3_r','due_0', 'due_1', 'due_2', 'due_3', 'thc/teu','tranship/teu']].itertuples(index=False, name=None))\n",
    "# Port = namedtuple('port',['LOCODE','draft0','draft1','draft2','draft3','due_0', 'due_1', 'due_2', 'due_3', 'thc/teu','tranship/teu'])\n",
    "# PORT[]\n",
    "PORTS [55:61],len(PORTS)\n",
    "ves_size = [170,275,335,390]\n",
    "regions_cod = ('AFR','EUR','ELT','WLT','MDE','NAM','OCE')\n",
    "for reg in regions_cod:\n",
    "    sc = (reg, 20000, 20000, 20000, 20000, 0, 0, 0, 0, 0, 999)\n",
    "    PORTS.append(sc)"
   ]
  },
  {
   "cell_type": "code",
   "execution_count": null,
   "metadata": {},
   "outputs": [],
   "source": [
    "pv = [(p,v) for p in range(len(PORTS)) for v in range(4) ]"
   ]
  },
  {
   "cell_type": "markdown",
   "metadata": {},
   "source": [
    "# Port berth relax"
   ]
  },
  {
   "cell_type": "code",
   "execution_count": 7,
   "metadata": {},
   "outputs": [
    {
     "data": {
      "text/plain": [
       "(1, dict)"
      ]
     },
     "execution_count": 7,
     "metadata": {},
     "output_type": "execute_result"
    }
   ],
   "source": [
    "with open('Solution_relaxed.json') as json_file:\n",
    "    sol1 =json.load(json_file)\n",
    "len(sol1),type(sol1)"
   ]
  },
  {
   "cell_type": "code",
   "execution_count": 8,
   "metadata": {},
   "outputs": [
    {
     "data": {
      "text/html": [
       "<div>\n",
       "<style scoped>\n",
       "    .dataframe tbody tr th:only-of-type {\n",
       "        vertical-align: middle;\n",
       "    }\n",
       "\n",
       "    .dataframe tbody tr th {\n",
       "        vertical-align: top;\n",
       "    }\n",
       "\n",
       "    .dataframe thead th {\n",
       "        text-align: right;\n",
       "    }\n",
       "</style>\n",
       "<table border=\"1\" class=\"dataframe\">\n",
       "  <thead>\n",
       "    <tr style=\"text-align: right;\">\n",
       "      <th></th>\n",
       "      <th>name</th>\n",
       "      <th>value</th>\n",
       "    </tr>\n",
       "  </thead>\n",
       "  <tbody>\n",
       "    <tr>\n",
       "      <th>0</th>\n",
       "      <td>ves_deploy_2_1</td>\n",
       "      <td>1.8929173089016205</td>\n",
       "    </tr>\n",
       "    <tr>\n",
       "      <th>1</th>\n",
       "      <td>ves_deploy_2_3</td>\n",
       "      <td>1.2044524728213402</td>\n",
       "    </tr>\n",
       "    <tr>\n",
       "      <th>2</th>\n",
       "      <td>ves_deploy_7_2</td>\n",
       "      <td>2.2993937131388114</td>\n",
       "    </tr>\n",
       "    <tr>\n",
       "      <th>3</th>\n",
       "      <td>ves_deploy_14_0</td>\n",
       "      <td>6.636117415701456</td>\n",
       "    </tr>\n",
       "    <tr>\n",
       "      <th>4</th>\n",
       "      <td>ves_deploy_14_1</td>\n",
       "      <td>7.628014160965491</td>\n",
       "    </tr>\n",
       "    <tr>\n",
       "      <th>...</th>\n",
       "      <td>...</td>\n",
       "      <td>...</td>\n",
       "    </tr>\n",
       "    <tr>\n",
       "      <th>5181</th>\n",
       "      <td>relax_route_cap_407</td>\n",
       "      <td>384909.0</td>\n",
       "    </tr>\n",
       "    <tr>\n",
       "      <th>5182</th>\n",
       "      <td>relax_route_cap_413</td>\n",
       "      <td>4627.0</td>\n",
       "    </tr>\n",
       "    <tr>\n",
       "      <th>5183</th>\n",
       "      <td>relax_route_cap_425</td>\n",
       "      <td>149397.0</td>\n",
       "    </tr>\n",
       "    <tr>\n",
       "      <th>5184</th>\n",
       "      <td>relax_route_cap_429</td>\n",
       "      <td>8580.0</td>\n",
       "    </tr>\n",
       "    <tr>\n",
       "      <th>5185</th>\n",
       "      <td>relax_route_cap_430</td>\n",
       "      <td>7563.0</td>\n",
       "    </tr>\n",
       "  </tbody>\n",
       "</table>\n",
       "<p>5186 rows × 2 columns</p>\n",
       "</div>"
      ],
      "text/plain": [
       "                     name               value\n",
       "0          ves_deploy_2_1  1.8929173089016205\n",
       "1          ves_deploy_2_3  1.2044524728213402\n",
       "2          ves_deploy_7_2  2.2993937131388114\n",
       "3         ves_deploy_14_0   6.636117415701456\n",
       "4         ves_deploy_14_1   7.628014160965491\n",
       "...                   ...                 ...\n",
       "5181  relax_route_cap_407            384909.0\n",
       "5182  relax_route_cap_413              4627.0\n",
       "5183  relax_route_cap_425            149397.0\n",
       "5184  relax_route_cap_429              8580.0\n",
       "5185  relax_route_cap_430              7563.0\n",
       "\n",
       "[5186 rows x 2 columns]"
      ]
     },
     "execution_count": 8,
     "metadata": {},
     "output_type": "execute_result"
    }
   ],
   "source": [
    "res = len(sol1['CPLEXSolution']['variables'])\n",
    "res_df = pd.DataFrame(sol1['CPLEXSolution']['variables'])[['name','value']]\n",
    "res_df"
   ]
  },
  {
   "cell_type": "code",
   "execution_count": 20,
   "metadata": {},
   "outputs": [
    {
     "data": {
      "text/html": [
       "<div>\n",
       "<style scoped>\n",
       "    .dataframe tbody tr th:only-of-type {\n",
       "        vertical-align: middle;\n",
       "    }\n",
       "\n",
       "    .dataframe tbody tr th {\n",
       "        vertical-align: top;\n",
       "    }\n",
       "\n",
       "    .dataframe thead th {\n",
       "        text-align: right;\n",
       "    }\n",
       "</style>\n",
       "<table border=\"1\" class=\"dataframe\">\n",
       "  <thead>\n",
       "    <tr style=\"text-align: right;\">\n",
       "      <th></th>\n",
       "      <th>name</th>\n",
       "      <th>value</th>\n",
       "    </tr>\n",
       "  </thead>\n",
       "  <tbody>\n",
       "    <tr>\n",
       "      <th>3510</th>\n",
       "      <td>port_calls_57_0</td>\n",
       "      <td>462.8828452703367</td>\n",
       "    </tr>\n",
       "    <tr>\n",
       "      <th>3511</th>\n",
       "      <td>port_calls_57_1</td>\n",
       "      <td>78.08882561837817</td>\n",
       "    </tr>\n",
       "    <tr>\n",
       "      <th>3512</th>\n",
       "      <td>port_calls_57_2</td>\n",
       "      <td>33.42881849493125</td>\n",
       "    </tr>\n",
       "    <tr>\n",
       "      <th>3513</th>\n",
       "      <td>port_calls_57_3</td>\n",
       "      <td>15.285502062046238</td>\n",
       "    </tr>\n",
       "  </tbody>\n",
       "</table>\n",
       "</div>"
      ],
      "text/plain": [
       "                 name               value\n",
       "3510  port_calls_57_0   462.8828452703367\n",
       "3511  port_calls_57_1   78.08882561837817\n",
       "3512  port_calls_57_2   33.42881849493125\n",
       "3513  port_calls_57_3  15.285502062046238"
      ]
     },
     "execution_count": 20,
     "metadata": {},
     "output_type": "execute_result"
    }
   ],
   "source": [
    "val_all = res_df.name.tolist()\n",
    "sel_val = [s for s in val_all if 'port_calls_57' in s]\n",
    "res_df[res_df.name.isin(sel_val)]\n",
    "#look 57, 47,3,44,64,50,45"
   ]
  },
  {
   "cell_type": "code",
   "execution_count": 22,
   "metadata": {},
   "outputs": [
    {
     "name": "stdout",
     "output_type": "stream",
     "text": [
      "('SGSIN', 1700, 1375, 0, 17160, 4018, 5768, 8268, 8268, 65, 42)\n"
     ]
    }
   ],
   "source": [
    "print(PORTS[57])\n",
    "port_call = res_df[res_df.name.isin(sel_val)].value.tolist()\n"
   ]
  },
  {
   "cell_type": "code",
   "execution_count": 38,
   "metadata": {},
   "outputs": [
    {
     "data": {
      "text/plain": [
       "(4018, 5768, 8268, 8268)"
      ]
     },
     "execution_count": 38,
     "metadata": {},
     "output_type": "execute_result"
    }
   ],
   "source": [
    "PORTS[57][5:9]"
   ]
  },
  {
   "cell_type": "code",
   "execution_count": 13,
   "metadata": {},
   "outputs": [
    {
     "data": {
      "text/plain": [
       "{'index': '11', 'name': 'ves_deploy_2_3', 'value': '1.1710860587147227'}"
      ]
     },
     "execution_count": 13,
     "metadata": {},
     "output_type": "execute_result"
    }
   ],
   "source": [
    "sol1['CPLEXSolution']['variables'][1]"
   ]
  },
  {
   "cell_type": "markdown",
   "metadata": {},
   "source": [
    "# Ves Cap Relaxed"
   ]
  },
  {
   "cell_type": "code",
   "execution_count": 9,
   "metadata": {},
   "outputs": [
    {
     "name": "stdout",
     "output_type": "stream",
     "text": [
      "1 <class 'dict'>\n"
     ]
    },
    {
     "data": {
      "text/html": [
       "<div>\n",
       "<style scoped>\n",
       "    .dataframe tbody tr th:only-of-type {\n",
       "        vertical-align: middle;\n",
       "    }\n",
       "\n",
       "    .dataframe tbody tr th {\n",
       "        vertical-align: top;\n",
       "    }\n",
       "\n",
       "    .dataframe thead th {\n",
       "        text-align: right;\n",
       "    }\n",
       "</style>\n",
       "<table border=\"1\" class=\"dataframe\">\n",
       "  <thead>\n",
       "    <tr style=\"text-align: right;\">\n",
       "      <th></th>\n",
       "      <th>name</th>\n",
       "      <th>value</th>\n",
       "    </tr>\n",
       "  </thead>\n",
       "  <tbody>\n",
       "    <tr>\n",
       "      <th>0</th>\n",
       "      <td>ves_deploy_2_1</td>\n",
       "      <td>1.892917</td>\n",
       "    </tr>\n",
       "    <tr>\n",
       "      <th>1</th>\n",
       "      <td>ves_deploy_2_3</td>\n",
       "      <td>1.204452</td>\n",
       "    </tr>\n",
       "    <tr>\n",
       "      <th>2</th>\n",
       "      <td>ves_deploy_7_2</td>\n",
       "      <td>2.299394</td>\n",
       "    </tr>\n",
       "    <tr>\n",
       "      <th>3</th>\n",
       "      <td>ves_deploy_14_0</td>\n",
       "      <td>6.636117</td>\n",
       "    </tr>\n",
       "    <tr>\n",
       "      <th>4</th>\n",
       "      <td>ves_deploy_14_1</td>\n",
       "      <td>7.628014</td>\n",
       "    </tr>\n",
       "    <tr>\n",
       "      <th>...</th>\n",
       "      <td>...</td>\n",
       "      <td>...</td>\n",
       "    </tr>\n",
       "    <tr>\n",
       "      <th>5181</th>\n",
       "      <td>relax_route_cap_407</td>\n",
       "      <td>384909.000000</td>\n",
       "    </tr>\n",
       "    <tr>\n",
       "      <th>5182</th>\n",
       "      <td>relax_route_cap_413</td>\n",
       "      <td>4627.000000</td>\n",
       "    </tr>\n",
       "    <tr>\n",
       "      <th>5183</th>\n",
       "      <td>relax_route_cap_425</td>\n",
       "      <td>149397.000000</td>\n",
       "    </tr>\n",
       "    <tr>\n",
       "      <th>5184</th>\n",
       "      <td>relax_route_cap_429</td>\n",
       "      <td>8580.000000</td>\n",
       "    </tr>\n",
       "    <tr>\n",
       "      <th>5185</th>\n",
       "      <td>relax_route_cap_430</td>\n",
       "      <td>7563.000000</td>\n",
       "    </tr>\n",
       "  </tbody>\n",
       "</table>\n",
       "<p>5186 rows × 2 columns</p>\n",
       "</div>"
      ],
      "text/plain": [
       "                     name          value\n",
       "0          ves_deploy_2_1       1.892917\n",
       "1          ves_deploy_2_3       1.204452\n",
       "2          ves_deploy_7_2       2.299394\n",
       "3         ves_deploy_14_0       6.636117\n",
       "4         ves_deploy_14_1       7.628014\n",
       "...                   ...            ...\n",
       "5181  relax_route_cap_407  384909.000000\n",
       "5182  relax_route_cap_413    4627.000000\n",
       "5183  relax_route_cap_425  149397.000000\n",
       "5184  relax_route_cap_429    8580.000000\n",
       "5185  relax_route_cap_430    7563.000000\n",
       "\n",
       "[5186 rows x 2 columns]"
      ]
     },
     "execution_count": 9,
     "metadata": {},
     "output_type": "execute_result"
    }
   ],
   "source": [
    "with open('Solution_relaxed.json') as json_file:\n",
    "    sol1 =json.load(json_file)\n",
    "print(len(sol1),type(sol1))\n",
    "res = len(sol1['CPLEXSolution']['variables'])\n",
    "res_df = pd.DataFrame(sol1['CPLEXSolution']['variables'],)[['name','value']]\n",
    "res_df['value'] = res_df['value'].astype(float)\n",
    "res_df"
   ]
  },
  {
   "cell_type": "code",
   "execution_count": 134,
   "metadata": {},
   "outputs": [
    {
     "data": {
      "text/html": [
       "<div>\n",
       "<style scoped>\n",
       "    .dataframe tbody tr th:only-of-type {\n",
       "        vertical-align: middle;\n",
       "    }\n",
       "\n",
       "    .dataframe tbody tr th {\n",
       "        vertical-align: top;\n",
       "    }\n",
       "\n",
       "    .dataframe thead th {\n",
       "        text-align: right;\n",
       "    }\n",
       "</style>\n",
       "<table border=\"1\" class=\"dataframe\">\n",
       "  <thead>\n",
       "    <tr style=\"text-align: right;\">\n",
       "      <th></th>\n",
       "      <th>name</th>\n",
       "      <th>value</th>\n",
       "    </tr>\n",
       "  </thead>\n",
       "  <tbody>\n",
       "    <tr>\n",
       "      <th>5181</th>\n",
       "      <td>relax_route_cap_407</td>\n",
       "      <td>384909.0</td>\n",
       "    </tr>\n",
       "    <tr>\n",
       "      <th>5183</th>\n",
       "      <td>relax_route_cap_425</td>\n",
       "      <td>149397.0</td>\n",
       "    </tr>\n",
       "    <tr>\n",
       "      <th>5184</th>\n",
       "      <td>relax_route_cap_429</td>\n",
       "      <td>8580.0</td>\n",
       "    </tr>\n",
       "    <tr>\n",
       "      <th>5185</th>\n",
       "      <td>relax_route_cap_430</td>\n",
       "      <td>7563.0</td>\n",
       "    </tr>\n",
       "    <tr>\n",
       "      <th>5182</th>\n",
       "      <td>relax_route_cap_413</td>\n",
       "      <td>4627.0</td>\n",
       "    </tr>\n",
       "  </tbody>\n",
       "</table>\n",
       "</div>"
      ],
      "text/plain": [
       "                     name     value\n",
       "5181  relax_route_cap_407  384909.0\n",
       "5183  relax_route_cap_425  149397.0\n",
       "5184  relax_route_cap_429    8580.0\n",
       "5185  relax_route_cap_430    7563.0\n",
       "5182  relax_route_cap_413    4627.0"
      ]
     },
     "execution_count": 134,
     "metadata": {},
     "output_type": "execute_result"
    }
   ],
   "source": [
    "val_all = res_df.name.tolist()\n",
    "sel_val = [s for s in val_all if 'relax_route_cap' in s]\n",
    "cap_relax = res_df[res_df.name.isin(sel_val)]\n",
    "cap_relax.sort_values(by='value',ascending=False)"
   ]
  },
  {
   "cell_type": "code",
   "execution_count": 107,
   "metadata": {},
   "outputs": [
    {
     "name": "stdout",
     "output_type": "stream",
     "text": [
      "('HKHKG', 3060, 0, 1005, 5070, 8309, 11809, 16809, 16809, 128, 46)\n",
      "                 name      value\n",
      "3800  port_calls_15_0  18.000000\n",
      "3801  port_calls_15_2   4.115259\n",
      "3802  port_calls_15_3  12.042021\n"
     ]
    },
    {
     "data": {
      "text/plain": [
       "([3060.0, 1131.6961337074486, 4034.07716918118],\n",
       " ('HKHKG', 3060, 0, 1005, 5070),\n",
       " 8225.773302888629)"
      ]
     },
     "execution_count": 107,
     "metadata": {},
     "output_type": "execute_result"
    }
   ],
   "source": [
    "# SGSIN Berth occupancy\n",
    "#63 TWKHH\n",
    "port_sel = 15\n",
    "print(PORTS[port_sel])\n",
    "val_all = res_df.name.tolist()\n",
    "sel_val = [s for s in val_all if f'port_calls_{port_sel}' in s]\n",
    "selcall = res_df[res_df.name.isin(sel_val)]\n",
    "print(selcall)\n",
    "port_oc = [a * b for a, b in zip(selcall.value.tolist(),ves_size)]\n",
    "port_oc,PORTS[port_sel][:5],sum(port_oc)"
   ]
  },
  {
   "cell_type": "code",
   "execution_count": 14,
   "metadata": {},
   "outputs": [
    {
     "data": {
      "text/html": [
       "<div>\n",
       "<style scoped>\n",
       "    .dataframe tbody tr th:only-of-type {\n",
       "        vertical-align: middle;\n",
       "    }\n",
       "\n",
       "    .dataframe tbody tr th {\n",
       "        vertical-align: top;\n",
       "    }\n",
       "\n",
       "    .dataframe thead th {\n",
       "        text-align: right;\n",
       "    }\n",
       "</style>\n",
       "<table border=\"1\" class=\"dataframe\">\n",
       "  <thead>\n",
       "    <tr style=\"text-align: right;\">\n",
       "      <th></th>\n",
       "      <th>name</th>\n",
       "      <th>value</th>\n",
       "    </tr>\n",
       "  </thead>\n",
       "  <tbody>\n",
       "    <tr>\n",
       "      <th>3800</th>\n",
       "      <td>port_calls_15_0</td>\n",
       "      <td>18.0</td>\n",
       "    </tr>\n",
       "    <tr>\n",
       "      <th>3801</th>\n",
       "      <td>port_calls_15_2</td>\n",
       "      <td>4.115258668027086</td>\n",
       "    </tr>\n",
       "    <tr>\n",
       "      <th>3802</th>\n",
       "      <td>port_calls_15_3</td>\n",
       "      <td>12.042021400540836</td>\n",
       "    </tr>\n",
       "  </tbody>\n",
       "</table>\n",
       "</div>"
      ],
      "text/plain": [
       "                 name               value\n",
       "3800  port_calls_15_0                18.0\n",
       "3801  port_calls_15_2   4.115258668027086\n",
       "3802  port_calls_15_3  12.042021400540836"
      ]
     },
     "execution_count": 14,
     "metadata": {},
     "output_type": "execute_result"
    }
   ],
   "source": [
    "res_df[res_df.name.isin(lst.values())]\n"
   ]
  },
  {
   "cell_type": "markdown",
   "metadata": {},
   "source": [
    "# Util"
   ]
  },
  {
   "cell_type": "code",
   "execution_count": 11,
   "metadata": {},
   "outputs": [
    {
     "name": "stdout",
     "output_type": "stream",
     "text": [
      "('HKHKG', 3060, 0, 1005, 5070, 8309, 11809, 16809, 16809, 128, 46)\n"
     ]
    },
    {
     "data": {
      "text/plain": [
       "['18.0', 0, '4.115258668027086', '12.042021400540836']"
      ]
     },
     "execution_count": 11,
     "metadata": {},
     "output_type": "execute_result"
    }
   ],
   "source": [
    "port_sel = 15\n",
    "val_all = res_df.name.tolist()\n",
    "print(PORTS[port_sel])\n",
    "# Port = namedtuple('port',['LOCODE','draft0','draft1','draft2','draft3','due_0', 'due_1', 'due_2', 'due_3', 'thc/teu','tranship/teu'])\n",
    "lst = {(port_sel,v):s for v in range(4) \n",
    "            for s in val_all \n",
    "            if f'port_calls_{port_sel}_{v}' in s}\n",
    "port_call = []\n",
    "for v in range(4):\n",
    "    if (port_sel,v) in lst:\n",
    "        port_call.append(res_df[res_df.name == lst[(port_sel,v)]].value.sum())\n",
    "    else:\n",
    "        port_call.append(0)\n",
    "\n",
    "port_call"
   ]
  },
  {
   "cell_type": "code",
   "execution_count": 18,
   "metadata": {},
   "outputs": [
    {
     "data": {
      "text/plain": [
       "(20000, 20000, 20000, 20000)"
      ]
     },
     "execution_count": 18,
     "metadata": {},
     "output_type": "execute_result"
    }
   ],
   "source": [
    "for p in range(len(PORTS)):\n",
    "        port_berth = PORTS[p][1:5]\n",
    "port_berth "
   ]
  },
  {
   "cell_type": "code",
   "execution_count": 52,
   "metadata": {},
   "outputs": [],
   "source": [
    "def get_berth_occupancy(df,verbose_err = False):\n",
    "    vessel_len = [175, 275,335,390]\n",
    "    oc_rate = {}\n",
    "    val_all = df.name.tolist()\n",
    "    lst = {(p,v):s for p in range(len(PORTS)) for v in range(4) for s in val_all if f'port_calls_{p}_{v}' in s}\n",
    "    print(lst.keys())\n",
    "    for p in range(len(PORTS)):\n",
    "        port_berth = PORTS[p][1:5]\n",
    "        port_call = []\n",
    "        for v in range(4):\n",
    "            # if p==15 :print(\"15\",lst(p,v) in lst)\n",
    "            if (p,v) in lst.keys():\n",
    "                port_call.append(df[df.name == lst[(p,v)]].value.sum())\n",
    "            else:\n",
    "                port_call.append(0)\n",
    "        port_used = [a * b for a, b in zip(port_call,ves_size)]\n",
    "        port_oc = sum(port_used) / sum(port_berth)\n",
    "        if (port_oc==0 or port_oc>7) and verbose_err:\n",
    "            print(p,port_oc,PORTS[p][0],port_used,port_call,port_berth )\n",
    "        oc_rate[p] = (PORTS[p][0],port_oc)\n",
    "    return oc_rate\n",
    "# berth_occupancy(res_df)\n"
   ]
  },
  {
   "cell_type": "code",
   "execution_count": null,
   "metadata": {},
   "outputs": [],
   "source": [
    "def get_throughput(df,annual=False,toint = True):\n",
    "    \"\"\"\n",
    "    Throughput only\n",
    "    \"\"\"\n",
    "    val_all = df.name.tolist()\n",
    "    lst = [s for s in val_all if 'port' in s]\n",
    "    _df = df[res_df.name.isin(lst)].copy()\n",
    "    print(_df.shape)\n",
    "    _df['Port_ind']= _df.name.apply(lambda x: x[-2:].replace('_',''))\n",
    "    # thrp_all['Port_ind'] = thrp_all['Port_ind'].replace('_','')\n",
    "    _df['Port_name']= _df.Port_ind.apply(lambda x: PORTS[int(x)][0])\n",
    "    _df = _df.sort_values(by='value',ascending=False)\n",
    "    if toint:\n",
    "        _df.value = _df.value.astype(int)\n",
    "    _df = _df[['Port_ind','Port_name','value']]\n",
    "    if annual:\n",
    "        _df['Annually'] = _df.value.apply(lambda x: x*50/1e6)\n",
    "    return _df.reset_index(drop=True)"
   ]
  },
  {
   "cell_type": "code",
   "execution_count": 65,
   "metadata": {},
   "outputs": [],
   "source": [
    "def get_ope_param(df,param):\n",
    "    \"\"\"\n",
    "    ope params included\n",
    "        port_load, port_unload,\n",
    "        imp,exp,port_trans\n",
    "    \"\"\"\n",
    "    valid_name = ['imp','exp', 'port_load', 'port_unload', 'port_trans']\n",
    "    if param not in valid_name:\n",
    "        print('Invalid Parameter')\n",
    "        return None\n",
    "\n",
    "    val_all = df.name.tolist()\n",
    "    lst = [s for s in val_all if param in s]\n",
    "    _df = df[res_df.name.isin(lst)].copy()\n",
    "    print(_df.shape)\n",
    "    _df['Port_ind']= _df.name.apply(lambda x: x.split('_')[-2])\n",
    "    return _df\n",
    "    # thrp_all['Port_ind'] = thrp_all['Port_ind'].replace('_','')\n",
    "    # _df['Port_name']= _df.Port_ind.apply(lambda x: PORTS[int(x)][0])\n",
    "    # _df = _df.sort_values(by='value',ascending=False)\n",
    "    # if toint:\n",
    "    #     _df.value = _df.value.astype(int)\n",
    "    # _df = _df[['Port_ind','Port_name','value']]\n",
    "    # if annual:\n",
    "    #     _df['Annually'] = _df.value.apply(lambda x: x*50/1e6)\n",
    "    # return _df.reset_index(drop=True)\n"
   ]
  },
  {
   "cell_type": "code",
   "execution_count": null,
   "metadata": {},
   "outputs": [],
   "source": [
    "get_ope_param(res_df,'ope')"
   ]
  },
  {
   "cell_type": "code",
   "execution_count": 63,
   "metadata": {},
   "outputs": [
    {
     "name": "stdout",
     "output_type": "stream",
     "text": [
      "(877, 2)\n"
     ]
    },
    {
     "data": {
      "text/html": [
       "<div>\n",
       "<style scoped>\n",
       "    .dataframe tbody tr th:only-of-type {\n",
       "        vertical-align: middle;\n",
       "    }\n",
       "\n",
       "    .dataframe tbody tr th {\n",
       "        vertical-align: top;\n",
       "    }\n",
       "\n",
       "    .dataframe thead th {\n",
       "        text-align: right;\n",
       "    }\n",
       "</style>\n",
       "<table border=\"1\" class=\"dataframe\">\n",
       "  <thead>\n",
       "    <tr style=\"text-align: right;\">\n",
       "      <th></th>\n",
       "      <th>Port_ind</th>\n",
       "      <th>Port_name</th>\n",
       "      <th>value</th>\n",
       "    </tr>\n",
       "  </thead>\n",
       "  <tbody>\n",
       "    <tr>\n",
       "      <th>0</th>\n",
       "      <td>12</td>\n",
       "      <td>CNYTN</td>\n",
       "      <td>3285879</td>\n",
       "    </tr>\n",
       "    <tr>\n",
       "      <th>1</th>\n",
       "      <td>72</td>\n",
       "      <td>NAM</td>\n",
       "      <td>3000881</td>\n",
       "    </tr>\n",
       "    <tr>\n",
       "      <th>2</th>\n",
       "      <td>3</td>\n",
       "      <td>CNQZH</td>\n",
       "      <td>2711125</td>\n",
       "    </tr>\n",
       "    <tr>\n",
       "      <th>3</th>\n",
       "      <td>71</td>\n",
       "      <td>MDE</td>\n",
       "      <td>2015307</td>\n",
       "    </tr>\n",
       "    <tr>\n",
       "      <th>4</th>\n",
       "      <td>22</td>\n",
       "      <td>INCOK</td>\n",
       "      <td>1352487</td>\n",
       "    </tr>\n",
       "    <tr>\n",
       "      <th>...</th>\n",
       "      <td>...</td>\n",
       "      <td>...</td>\n",
       "      <td>...</td>\n",
       "    </tr>\n",
       "    <tr>\n",
       "      <th>872</th>\n",
       "      <td>23</td>\n",
       "      <td>INVTZ</td>\n",
       "      <td>0</td>\n",
       "    </tr>\n",
       "    <tr>\n",
       "      <th>873</th>\n",
       "      <td>17</td>\n",
       "      <td>IDSUB</td>\n",
       "      <td>0</td>\n",
       "    </tr>\n",
       "    <tr>\n",
       "      <th>874</th>\n",
       "      <td>23</td>\n",
       "      <td>INVTZ</td>\n",
       "      <td>0</td>\n",
       "    </tr>\n",
       "    <tr>\n",
       "      <th>875</th>\n",
       "      <td>17</td>\n",
       "      <td>IDSUB</td>\n",
       "      <td>0</td>\n",
       "    </tr>\n",
       "    <tr>\n",
       "      <th>876</th>\n",
       "      <td>23</td>\n",
       "      <td>INVTZ</td>\n",
       "      <td>0</td>\n",
       "    </tr>\n",
       "  </tbody>\n",
       "</table>\n",
       "<p>877 rows × 3 columns</p>\n",
       "</div>"
      ],
      "text/plain": [
       "    Port_ind Port_name    value\n",
       "0         12     CNYTN  3285879\n",
       "1         72       NAM  3000881\n",
       "2          3     CNQZH  2711125\n",
       "3         71       MDE  2015307\n",
       "4         22     INCOK  1352487\n",
       "..       ...       ...      ...\n",
       "872       23     INVTZ        0\n",
       "873       17     IDSUB        0\n",
       "874       23     INVTZ        0\n",
       "875       17     IDSUB        0\n",
       "876       23     INVTZ        0\n",
       "\n",
       "[877 rows x 3 columns]"
      ]
     },
     "execution_count": 63,
     "metadata": {},
     "output_type": "execute_result"
    }
   ],
   "source": [
    "# [s for s in val_all if 'ves_deploy' in s]\n",
    "get_throughput(res_df)"
   ]
  },
  {
   "cell_type": "markdown",
   "metadata": {},
   "source": [
    "# Integer Read\n",
    " => Throughput\n",
    "\n",
    " => Transhipment\n",
    "\n",
    " => Occupancy"
   ]
  },
  {
   "cell_type": "code",
   "execution_count": 50,
   "metadata": {},
   "outputs": [
    {
     "name": "stdout",
     "output_type": "stream",
     "text": [
      "1 <class 'dict'>\n"
     ]
    },
    {
     "data": {
      "text/html": [
       "<div>\n",
       "<style scoped>\n",
       "    .dataframe tbody tr th:only-of-type {\n",
       "        vertical-align: middle;\n",
       "    }\n",
       "\n",
       "    .dataframe tbody tr th {\n",
       "        vertical-align: top;\n",
       "    }\n",
       "\n",
       "    .dataframe thead th {\n",
       "        text-align: right;\n",
       "    }\n",
       "</style>\n",
       "<table border=\"1\" class=\"dataframe\">\n",
       "  <thead>\n",
       "    <tr style=\"text-align: right;\">\n",
       "      <th></th>\n",
       "      <th>name</th>\n",
       "      <th>value</th>\n",
       "    </tr>\n",
       "  </thead>\n",
       "  <tbody>\n",
       "    <tr>\n",
       "      <th>0</th>\n",
       "      <td>ves_deploy_7_1</td>\n",
       "      <td>2.0</td>\n",
       "    </tr>\n",
       "    <tr>\n",
       "      <th>1</th>\n",
       "      <td>ves_deploy_16_0</td>\n",
       "      <td>1.0</td>\n",
       "    </tr>\n",
       "    <tr>\n",
       "      <th>2</th>\n",
       "      <td>ves_deploy_24_3</td>\n",
       "      <td>1.0</td>\n",
       "    </tr>\n",
       "    <tr>\n",
       "      <th>3</th>\n",
       "      <td>ves_deploy_35_0</td>\n",
       "      <td>3.0</td>\n",
       "    </tr>\n",
       "    <tr>\n",
       "      <th>4</th>\n",
       "      <td>ves_deploy_37_0</td>\n",
       "      <td>1.0</td>\n",
       "    </tr>\n",
       "    <tr>\n",
       "      <th>...</th>\n",
       "      <td>...</td>\n",
       "      <td>...</td>\n",
       "    </tr>\n",
       "    <tr>\n",
       "      <th>5012</th>\n",
       "      <td>port_thrp_69</td>\n",
       "      <td>303102.0</td>\n",
       "    </tr>\n",
       "    <tr>\n",
       "      <th>5013</th>\n",
       "      <td>port_thrp_70</td>\n",
       "      <td>137152.0</td>\n",
       "    </tr>\n",
       "    <tr>\n",
       "      <th>5014</th>\n",
       "      <td>port_thrp_71</td>\n",
       "      <td>2015308.0</td>\n",
       "    </tr>\n",
       "    <tr>\n",
       "      <th>5015</th>\n",
       "      <td>port_thrp_72</td>\n",
       "      <td>3000881.0</td>\n",
       "    </tr>\n",
       "    <tr>\n",
       "      <th>5016</th>\n",
       "      <td>port_thrp_73</td>\n",
       "      <td>362982.0</td>\n",
       "    </tr>\n",
       "  </tbody>\n",
       "</table>\n",
       "<p>5017 rows × 2 columns</p>\n",
       "</div>"
      ],
      "text/plain": [
       "                 name      value\n",
       "0      ves_deploy_7_1        2.0\n",
       "1     ves_deploy_16_0        1.0\n",
       "2     ves_deploy_24_3        1.0\n",
       "3     ves_deploy_35_0        3.0\n",
       "4     ves_deploy_37_0        1.0\n",
       "...               ...        ...\n",
       "5012     port_thrp_69   303102.0\n",
       "5013     port_thrp_70   137152.0\n",
       "5014     port_thrp_71  2015308.0\n",
       "5015     port_thrp_72  3000881.0\n",
       "5016     port_thrp_73   362982.0\n",
       "\n",
       "[5017 rows x 2 columns]"
      ]
     },
     "execution_count": 50,
     "metadata": {},
     "output_type": "execute_result"
    }
   ],
   "source": [
    "with open('Solution_Master_int.json') as json_file:\n",
    "    sol1 =json.load(json_file)\n",
    "print(len(sol1),type(sol1))\n",
    "res = len(sol1['CPLEXSolution']['variables'])\n",
    "res_df = pd.DataFrame(sol1['CPLEXSolution']['variables'],)[['name','value']]\n",
    "res_df['value'] = res_df['value'].astype(float)\n",
    "res_df"
   ]
  },
  {
   "cell_type": "code",
   "execution_count": 58,
   "metadata": {},
   "outputs": [
    {
     "ename": "NameError",
     "evalue": "name 'get_throughput' is not defined",
     "output_type": "error",
     "traceback": [
      "\u001b[1;31m---------------------------------------------------------------------------\u001b[0m",
      "\u001b[1;31mNameError\u001b[0m                                 Traceback (most recent call last)",
      "\u001b[1;32m<ipython-input-58-dfe9aa8fb9dc>\u001b[0m in \u001b[0;36m<module>\u001b[1;34m\u001b[0m\n\u001b[1;32m----> 1\u001b[1;33m \u001b[0mget_throughput\u001b[0m\u001b[1;33m(\u001b[0m\u001b[1;34m'ves_deploy'\u001b[0m\u001b[1;33m,\u001b[0m\u001b[0mres_df\u001b[0m\u001b[1;33m)\u001b[0m\u001b[1;33m\u001b[0m\u001b[1;33m\u001b[0m\u001b[0m\n\u001b[0m",
      "\u001b[1;31mNameError\u001b[0m: name 'get_throughput' is not defined"
     ]
    }
   ],
   "source": [
    "get_throughput('ves_deploy',res_df)"
   ]
  },
  {
   "cell_type": "code",
   "execution_count": null,
   "metadata": {},
   "outputs": [],
   "source": [
    "get_all_portval('ves_deploy',res_df)"
   ]
  },
  {
   "cell_type": "code",
   "execution_count": null,
   "metadata": {},
   "outputs": [],
   "source": [
    "val_all = res_df.name.tolist()\n",
    "sel_val = [s for s in val_all if 'relax_route_cap' in s]\n",
    "cap_relax = res_df[res_df.name.isin(sel_val)]\n",
    "cap_relax.sort_values(by='value',ascending=False)"
   ]
  },
  {
   "cell_type": "code",
   "execution_count": null,
   "metadata": {},
   "outputs": [],
   "source": [
    "with open('Solution_relaxed.json') as json_file:\n",
    "    sol1 =json.load(json_file)\n",
    "print(len(sol1),type(sol1))\n",
    "res = len(sol1['CPLEXSolution']['variables'])\n",
    "res_df = pd.DataFrame(sol1['CPLEXSolution']['variables'],)[['name','value']]\n",
    "res_df['value'] = res_df['value'].astype(float)\n",
    "res_df"
   ]
  },
  {
   "cell_type": "code",
   "execution_count": null,
   "metadata": {},
   "outputs": [],
   "source": [
    "CHNBG SGSIN CNSHG MYPKG KRPUS HKHKG CHYTN IDJKT CNSHK XM"
   ]
  }
 ],
 "metadata": {
  "interpreter": {
   "hash": "b3ba2566441a7c06988d0923437866b63cedc61552a5af99d1f4fb67d367b25f"
  },
  "kernelspec": {
   "display_name": "Python 3.8.5 ('base')",
   "language": "python",
   "name": "python3"
  },
  "language_info": {
   "codemirror_mode": {
    "name": "ipython",
    "version": 3
   },
   "file_extension": ".py",
   "mimetype": "text/x-python",
   "name": "python",
   "nbconvert_exporter": "python",
   "pygments_lexer": "ipython3",
   "version": "3.8.5"
  },
  "orig_nbformat": 4
 },
 "nbformat": 4,
 "nbformat_minor": 2
}
