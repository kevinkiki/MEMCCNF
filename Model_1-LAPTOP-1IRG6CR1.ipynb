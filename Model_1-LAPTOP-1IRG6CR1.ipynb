{
 "cells": [
  {
   "cell_type": "markdown",
   "metadata": {},
   "source": [
    "# Setup Libraries & Constant"
   ]
  },
  {
   "cell_type": "code",
   "execution_count": 33,
   "metadata": {},
   "outputs": [],
   "source": [
    "import sys\n",
    "import ast\n",
    "import pandas as pd\n",
    "import docplex.mp\n",
    "from collections import namedtuple\n",
    "from docplex.mp.model import Model\n",
    "from docplex.mp.environment import Environment\n",
    "import random"
   ]
  },
  {
   "cell_type": "markdown",
   "metadata": {},
   "source": [
    "# Define Constant"
   ]
  },
  {
   "cell_type": "markdown",
   "metadata": {},
   "source": [
    "## Country & Economics"
   ]
  },
  {
   "cell_type": "code",
   "execution_count": 34,
   "metadata": {},
   "outputs": [],
   "source": [
    "int_cod = ('JPN',  'LKA',  'HKG',  'CHN',  'SGP',  'MYS',  'KOR',  'IND',  'OAS',  'PAK',  'IDN',  'PHL',  'BGD',  'THA',  'VNM',  'KHM',  'MMR')\n",
    "int_country = {'BD': 'BGD','CN': 'CHN','HK': 'HKG','IN': 'IND','ID': 'IDN', 'JP': 'JPN',\n",
    "  'KH': 'KHM','KR': 'KOR','MM': 'MMR', 'MY': 'MYS','PK': 'PAK','PH': 'PHL','SG': 'SGP',\n",
    "   'LK': 'LKA',  'TW': 'OAS',  'TH': 'THA',  'VN': 'VNM' }\n",
    "con_int = dict(zip(int_country.values(),int_country.keys()))\n",
    "\n",
    "assert len(int_cod),len(int_country)\n",
    "assert len([i for i in int_country.values() if i not in int_cod]) ==0\n",
    "regions_cod = ('AFR','EUR','ELT','WLT','MDE','NAM','OCE')\n",
    "economics = tuple(int_cod + regions_cod)"
   ]
  },
  {
   "cell_type": "markdown",
   "metadata": {},
   "source": [
    "## Vessel"
   ]
  },
  {
   "cell_type": "code",
   "execution_count": 35,
   "metadata": {},
   "outputs": [
    {
     "data": {
      "text/plain": [
       "[vessel_type(type='Feeder', teu=3000, draft=8, length=170, quantity=1700, deploy_cost=146),\n",
       " vessel_type(type='Panamax', teu=8500, draft=11, length=275, quantity=1100, deploy_cost=220),\n",
       " vessel_type(type='Neo_Panamax', teu=14000, draft=13, length=335, quantity=600, deploy_cost=326),\n",
       " vessel_type(type='ULCV', teu=25000, draft=14, length=390, quantity=200, deploy_cost=506)]"
      ]
     },
     "execution_count": 35,
     "metadata": {},
     "output_type": "execute_result"
    }
   ],
   "source": [
    "VESSEL_TYPE = [\n",
    "    ('Feeder',      3000,   8,   170, 1700, 146 ),\n",
    "    ('Panamax',     8500,   11,  275, 1100, 220),\n",
    "    ('Neo_Panamax', 14000,  13,  335, 600,  326),\n",
    "    ('ULCV',        25000,  14,  390, 200,  506)\n",
    "]\n",
    "# 170 275 335 390\n",
    "Vessel_type = namedtuple('vessel_type',['type','teu','draft','length','quantity','deploy_cost'])\n",
    "# Cost in week base (k$)\n",
    "vtypes = [Vessel_type(*v) for v in VESSEL_TYPE]\n",
    "vtypes\n",
    "\n",
    "# Note. Don't forget to adjust ship building year\n",
    "# Vessel \t\t\t\tSize\t\t\tDWT(Med)\tDepth\t\tLength (Min,Med,Max,Mean)\n",
    "# Feeder \t\t\t\t(<3000 Teu)\t\t20k\t\t\t<=8\t\t\t78,170,247,168\n",
    "# Panamax  \t\t\t(3000-8500 Teu)\t\t65k\t\t\t<=11\t\t175,275,366,277\n",
    "# Post / Neo Panamax \t(8500-14000 Teu)120k\t\t<=13\t\t298,336,400,338\n",
    "# ULCV \t\t\t\t(>14000 Teu)\t\t190k\t\t<=14\t\t353,399,400,389"
   ]
  },
  {
   "cell_type": "code",
   "execution_count": 36,
   "metadata": {},
   "outputs": [
    {
     "data": {
      "text/plain": [
       "25000"
      ]
     },
     "execution_count": 36,
     "metadata": {},
     "output_type": "execute_result"
    }
   ],
   "source": [
    "vtypes[3].teu\n"
   ]
  },
  {
   "cell_type": "markdown",
   "metadata": {},
   "source": [
    "# Import data"
   ]
  },
  {
   "cell_type": "markdown",
   "metadata": {},
   "source": [
    "## Demand"
   ]
  },
  {
   "cell_type": "code",
   "execution_count": 37,
   "metadata": {},
   "outputs": [
    {
     "name": "stdout",
     "output_type": "stream",
     "text": [
      "Total Demand 552\n"
     ]
    },
    {
     "data": {
      "text/plain": [
       "(\"('JPN', 'LKA') : \", 9036)"
      ]
     },
     "execution_count": 37,
     "metadata": {},
     "output_type": "execute_result"
    }
   ],
   "source": [
    "dem_matrix = pd.read_csv('load_matrix_2015.csv').iloc[:,1:]\n",
    "# Demand = namedtuple('Frm',['teu','draft','length','quantity','deploy_cost'])\n",
    "# OD = Origin Destination\n",
    "demands = {}\n",
    "for f in economics:\n",
    "    for t in economics:\n",
    "        if f==t : continue\n",
    "        demands[f,t] = dem_matrix[(dem_matrix.From==f)&(dem_matrix.To==t)].TEU.sum()\n",
    "assert len(demands) == len(economics) *(len(economics)-1)\n",
    "print(f\"Total Demand {len(demands)}\")    #552\n",
    "\"('JPN', 'LKA') : \",demands[('JPN', 'LKA')]"
   ]
  },
  {
   "cell_type": "markdown",
   "metadata": {},
   "source": [
    "## Port"
   ]
  },
  {
   "cell_type": "code",
   "execution_count": 38,
   "metadata": {},
   "outputs": [
    {
     "data": {
      "text/plain": [
       "([('PHMNL', 850, 1100, 1675, 0, 8375, 20625, 38125, 38125, 75, 1),\n",
       "  ('PKBQM', 0, 0, 670, 780, 24831, 65081, 122581, 122581, 51, 30),\n",
       "  ('PKKHI', 0, 0, 1675, 1560, 46012, 131762, 254262, 254262, 128, 0),\n",
       "  ('SGSIN', 1700, 1375, 0, 17160, 4018, 5768, 8268, 8268, 65, 42),\n",
       "  ('THSGZ', 510, 0, 0, 0, 5399, 15899, 30899, 30899, 47, 1),\n",
       "  ('THBKK', 2890, 0, 0, 0, 5399, 15899, 30899, 30899, 47, 1)],\n",
       " 68)"
      ]
     },
     "execution_count": 38,
     "metadata": {},
     "output_type": "execute_result"
    }
   ],
   "source": [
    "master_port = pd.read_csv('ports_master.csv').iloc[:,1:]\n",
    "# port = master_port[['LOCODE','draft0_r','draft1_r','draft2_r','draft3_r']].itertuples(index=False)\n",
    "PORTS = list(master_port[['LOCODE','draft0_r','draft1_r','draft2_r','draft3_r','due_0', 'due_1', 'due_2', 'due_3', 'thc/teu','tranship/teu']].itertuples(index=False, name=None))\n",
    "# Port = namedtuple('port',['LOCODE','draft0','draft1','draft2','draft3','due_0', 'due_1', 'due_2', 'due_3', 'thc/teu','tranship/teu'])\n",
    "# PORT[]\n",
    "PORTS [55:61],len(PORTS)\n"
   ]
  },
  {
   "cell_type": "code",
   "execution_count": 39,
   "metadata": {},
   "outputs": [
    {
     "data": {
      "text/plain": [
       "75"
      ]
     },
     "execution_count": 39,
     "metadata": {},
     "output_type": "execute_result"
    }
   ],
   "source": [
    "# EX_PORT = , 0, 0, 0, 0, 23110, 35360, 52860, 52860, 0, 31)\n",
    "for reg in regions_cod:\n",
    "    sc = (reg, 10000, 10000, 10000, 50000, 0, 0, 0, 0, 0, 999)\n",
    "    PORTS.append(sc)\n",
    "# len(sc),len(ports[2]),sc\n",
    "len(PORTS) #75\n",
    "# High transhipment, Low THC, due ???, unlimited berth"
   ]
  },
  {
   "cell_type": "code",
   "execution_count": 40,
   "metadata": {},
   "outputs": [
    {
     "data": {
      "text/plain": [
       "(('BDCGP', 'CNDCB', 'CNYTG'), ('MDE', 'NAM', 'OCE'))"
      ]
     },
     "execution_count": 40,
     "metadata": {},
     "output_type": "execute_result"
    }
   ],
   "source": [
    "interest_port = tuple(master_port.LOCODE.tolist())\n",
    "total_port = tuple(master_port.LOCODE.tolist() + list(regions_cod))\n",
    "total_port[:3],total_port[-3:] "
   ]
  },
  {
   "cell_type": "code",
   "execution_count": 41,
   "metadata": {},
   "outputs": [
    {
     "data": {
      "text/plain": [
       "([ports_info(lOCODE='BDCGP', draft0_r=3060, draft1_r=0, draft2_r=0, draft3_r=0, due_0=36380, due_1=104630, due_2=202130, due_3=202130, thc=52, tranship=1),\n",
       "  ports_info(lOCODE='CNDCB', draft0_r=0, draft1_r=0, draft2_r=0, draft3_r=2340, due_0=15797, due_1=24547, due_2=37047, due_3=37047, thc=89, tranship=31)],\n",
       " 75)"
      ]
     },
     "execution_count": 41,
     "metadata": {},
     "output_type": "execute_result"
    }
   ],
   "source": [
    "Ports_info = namedtuple('ports_info',['lOCODE','draft0_r','draft1_r','draft2_r','draft3_r','due_0', 'due_1', 'due_2', 'due_3', 'thc','tranship'])\n",
    "ports = [Ports_info(*p) for p in PORTS]\n",
    "ports [:2],len(ports)"
   ]
  },
  {
   "cell_type": "code",
   "execution_count": 42,
   "metadata": {},
   "outputs": [
    {
     "data": {
      "text/plain": [
       "52"
      ]
     },
     "execution_count": 42,
     "metadata": {},
     "output_type": "execute_result"
    }
   ],
   "source": [
    "ports[0].due_0 == ports[0][5]\n",
    "ports[9][8]\n",
    "ports[0][-2]"
   ]
  },
  {
   "cell_type": "code",
   "execution_count": 43,
   "metadata": {},
   "outputs": [
    {
     "data": {
      "text/plain": [
       "([('BGD', 0, 'BDCGP'),\n",
       "  ('CHN', 1, 'CNDCB'),\n",
       "  ('CHN', 2, 'CNYTG'),\n",
       "  ('CHN', 3, 'CNQZH'),\n",
       "  ('CHN', 4, 'CNFOC'),\n",
       "  ('CHN', 5, 'CNLYG'),\n",
       "  ('CHN', 6, 'CNDLC')],\n",
       " [('AFR', 68, 'AFR'),\n",
       "  ('EUR', 69, 'EUR'),\n",
       "  ('ELT', 70, 'ELT'),\n",
       "  ('WLT', 71, 'WLT'),\n",
       "  ('MDE', 72, 'MDE'),\n",
       "  ('NAM', 73, 'NAM'),\n",
       "  ('OCE', 74, 'OCE')])"
      ]
     },
     "execution_count": 43,
     "metadata": {},
     "output_type": "execute_result"
    }
   ],
   "source": [
    "port_country = [(int_country[p[:2]],i,p) for i,p in enumerate(total_port) if len(p)==5]\n",
    "port_country += [(p,i,p) for i,p in enumerate(total_port) if len(p)==3]\n",
    "port_country[:7],port_country[-7:]"
   ]
  },
  {
   "cell_type": "markdown",
   "metadata": {},
   "source": [
    "## Port Call"
   ]
  },
  {
   "cell_type": "code",
   "execution_count": 44,
   "metadata": {},
   "outputs": [
    {
     "data": {
      "text/plain": [
       "Calls          [CNXMG, TWKHH, TWTXG, CNXMG, TWKHH, CNXMG]\n",
       "PC_Count                                                6\n",
       "Area_Calls                                            INT\n",
       "Area_Cover                                              3\n",
       "Turn_Around                                             7\n",
       "Week                                                    1\n",
       "Calls_Count                                             6\n",
       "Name: 102, dtype: object"
      ]
     },
     "execution_count": 44,
     "metadata": {},
     "output_type": "execute_result"
    }
   ],
   "source": [
    "port_call_df = pd.read_csv('Port_call_master.csv').iloc[:,1:]\n",
    "port_call_df = port_call_df[port_call_df.Calls_Count>0].reset_index(drop=True)\n",
    "def str2list(x:str):\n",
    "    return list(ast.literal_eval(x))\n",
    "port_call_df.LOCODE_Calls = port_call_df.LOCODE_Calls.apply(str2list)\n",
    "port_call_df.Calls = port_call_df.Calls.apply(str2list)\n",
    "port_call_df[['Calls','PC_Count','Area_Calls','Area_Cover','Turn_Around','Week','Calls_Count']].iloc[102]"
   ]
  },
  {
   "cell_type": "code",
   "execution_count": 45,
   "metadata": {},
   "outputs": [
    {
     "data": {
      "text/plain": [
       "LOCODE_Calls    [CNNBG, CNSHG, KRPUS, USLGB, KRPUS, CNNBG]\n",
       "Calls               [NAM, KRPUS, CNNBG, CNSHG, KRPUS, NAM]\n",
       "PC_Count                                                 6\n",
       "Area_Calls                                         INT,NAM\n",
       "Area_Cover                                               7\n",
       "Turn_Around                                             42\n",
       "Week                                                     6\n",
       "Calls_Count                                              6\n",
       "Name: 92, dtype: object"
      ]
     },
     "execution_count": 45,
     "metadata": {},
     "output_type": "execute_result"
    }
   ],
   "source": [
    "PORTCALL = list(port_call_df[['Calls','PC_Count','Area_Calls','Area_Cover','Turn_Around','Week','Calls_Count']].itertuples(index=False, name=None))\n",
    "PORTCALL[92]\n",
    "port_call_df[['LOCODE_Calls','Calls','PC_Count','Area_Calls','Area_Cover','Turn_Around','Week','Calls_Count']].iloc[92]\n",
    "# port_call_df.Calls_Count.value_counts()"
   ]
  },
  {
   "cell_type": "code",
   "execution_count": 46,
   "metadata": {},
   "outputs": [
    {
     "data": {
      "text/plain": [
       "(431, 3501, (1, 3, ('SGSIN', 'KHKOS', 'SGSIN')))"
      ]
     },
     "execution_count": 46,
     "metadata": {},
     "output_type": "execute_result"
    }
   ],
   "source": [
    "# Store as vector [0,0,0,]\n",
    "routes_vec = []\n",
    "cnt,ind = 0,0\n",
    "conv_bin = lambda x: 0 if x==0 else 1\n",
    "for ins in PORTCALL:\n",
    "    pc = ins[0]\n",
    "    route = []\n",
    "    legs = ins[-1]\n",
    "    cnt += legs\n",
    "    wk = ins[-2]\n",
    "    for l in range(legs):\n",
    "        call_port = pc[l]\n",
    "        # print(call_port)\n",
    "        call = [conv_bin(call_port == p) for p in total_port]\n",
    "        route.append(tuple(call))\n",
    "    \n",
    "    routes_vec.append((wk,legs,tuple(pc),tuple(route)))\n",
    "    ind += 1\n",
    "len(routes_vec),cnt,routes_vec[3][:3]\n",
    "# [ind,size,leg1 * [0,0,0,],leg2,....]"
   ]
  },
  {
   "cell_type": "code",
   "execution_count": 62,
   "metadata": {},
   "outputs": [
    {
     "data": {
      "text/plain": [
       "(431, 3501, (1, 3, ('SGSIN', 'KHKOS', 'SGSIN'), (58, 39, 58)))"
      ]
     },
     "execution_count": 62,
     "metadata": {},
     "output_type": "execute_result"
    }
   ],
   "source": [
    "# Store as index \n",
    "routes_ind = []\n",
    "cnt,ind = 0,0\n",
    "conv_bin = lambda x: 0 if x==0 else 1\n",
    "for ins in PORTCALL:\n",
    "    pc = ins[0]\n",
    "    route = []\n",
    "    legs= ins[-1]\n",
    "    cnt += legs\n",
    "    wk = ins[-2]\n",
    "    for l in range(legs):\n",
    "        call_port = pc[l]\n",
    "        # print(call_port)\n",
    "        try:\n",
    "            call = total_port.index(call_port)\n",
    "        except:\n",
    "            print(pc,len(routes_ind),call_port)\n",
    "            raise\n",
    "        route.append(call)\n",
    "    routes_ind.append((wk,legs,tuple(pc),tuple(route)))\n",
    "    ind += 1\n",
    "\n",
    "len(routes_ind),cnt,routes_ind[3][:4]\n",
    "# [size,legs,pc(locode),leg2,....]"
   ]
  },
  {
   "cell_type": "markdown",
   "metadata": {},
   "source": [
    "## Iterator"
   ]
  },
  {
   "cell_type": "code",
   "execution_count": 48,
   "metadata": {},
   "outputs": [
    {
     "data": {
      "text/plain": [
       "(68, 75, 75, 75, tuple, tuple, list, list)"
      ]
     },
     "execution_count": 48,
     "metadata": {},
     "output_type": "execute_result"
    }
   ],
   "source": [
    "# port_capacity = \n",
    "_interest_port  = len(interest_port)\n",
    "_total_port     = len(total_port)\n",
    "_ports          = len(ports)\n",
    "_port_country   = len(port_country)\n",
    "\n",
    "_interest_port,_total_port,_ports,_port_country,type(interest_port),type(total_port),type(ports),type(port_country)"
   ]
  },
  {
   "cell_type": "code",
   "execution_count": 49,
   "metadata": {},
   "outputs": [
    {
     "data": {
      "text/plain": [
       "(552, 17, 17, 7, 24, dict, tuple, dict, tuple, tuple)"
      ]
     },
     "execution_count": 49,
     "metadata": {},
     "output_type": "execute_result"
    }
   ],
   "source": [
    "# econ demand\n",
    "_demands        = len(demands)\n",
    "_int_cod        = len(int_cod)# 3 Digit\n",
    "_int_country    = len(int_country)  # 2 Digit\n",
    "_regions_cod    = len(regions_cod)\n",
    "_economics      = len(economics)\n",
    "\n",
    "_demands,_int_cod,_int_country,_regions_cod,_economics,type(demands),type(int_cod),type(int_country),type(regions_cod),type(economics)"
   ]
  },
  {
   "cell_type": "code",
   "execution_count": 50,
   "metadata": {},
   "outputs": [
    {
     "data": {
      "text/plain": [
       "(431, 4, list, list)"
      ]
     },
     "execution_count": 50,
     "metadata": {},
     "output_type": "execute_result"
    }
   ],
   "source": [
    "# route preparing\n",
    "routes_ind\n",
    "routes_vec\n",
    "_routes = len(routes_ind)\n",
    "\n",
    "# Vessel \n",
    "_vtypes = len(vtypes)\n",
    "_routes ,_vtypes,type(routes_ind),type(vtypes)"
   ]
  },
  {
   "cell_type": "code",
   "execution_count": 66,
   "metadata": {},
   "outputs": [
    {
     "data": {
      "text/plain": [
       "[('BGD', 0, 'BDCGP'),\n",
       " ('CHN', 1, 'CNDCB'),\n",
       " ('CHN', 2, 'CNYTG'),\n",
       " ('CHN', 3, 'CNQZH'),\n",
       " ('CHN', 4, 'CNFOC'),\n",
       " ('CHN', 5, 'CNLYG'),\n",
       " ('CHN', 6, 'CNDLC'),\n",
       " ('CHN', 7, 'CNTXG'),\n",
       " ('CHN', 8, 'CNNSA'),\n",
       " ('CHN', 9, 'CNXMG'),\n",
       " ('CHN', 10, 'CNSHK'),\n",
       " ('CHN', 11, 'CNQDG'),\n",
       " ('CHN', 12, 'CNYTN'),\n",
       " ('CHN', 13, 'CNNBG'),\n",
       " ('CHN', 14, 'CNSHG'),\n",
       " ('HKG', 15, 'HKHKG'),\n",
       " ('IDN', 16, 'IDSRG'),\n",
       " ('IDN', 17, 'IDSUB'),\n",
       " ('IDN', 18, 'IDJKT'),\n",
       " ('IND', 19, 'INTUT'),\n",
       " ('IND', 20, 'INCCU'),\n",
       " ('IND', 21, 'INDMQ'),\n",
       " ('IND', 22, 'INCOK'),\n",
       " ('IND', 23, 'INVTZ'),\n",
       " ('IND', 24, 'INMRM'),\n",
       " ('IND', 25, 'INHZA'),\n",
       " ('IND', 26, 'INMAA'),\n",
       " ('IND', 27, 'INPAV'),\n",
       " ('IND', 28, 'INMUN'),\n",
       " ('IND', 29, 'INNSA'),\n",
       " ('JPN', 30, 'JPMOJ'),\n",
       " ('JPN', 31, 'JPHKT'),\n",
       " ('JPN', 32, 'JPYKK'),\n",
       " ('JPN', 33, 'JPSMZ'),\n",
       " ('JPN', 34, 'JPOSA'),\n",
       " ('JPN', 35, 'JPNGO'),\n",
       " ('JPN', 36, 'JPUKB'),\n",
       " ('JPN', 37, 'JPTYO'),\n",
       " ('JPN', 38, 'JPYOK'),\n",
       " ('KHM', 39, 'KHKOS'),\n",
       " ('KOR', 40, 'KRINC'),\n",
       " ('KOR', 41, 'KRUSN'),\n",
       " ('KOR', 42, 'KRKAN'),\n",
       " ('KOR', 43, 'KRPUS'),\n",
       " ('LKA', 44, 'LKCMB'),\n",
       " ('MMR', 45, 'MMRGN'),\n",
       " ('MYS', 46, 'MYBTU'),\n",
       " ('MYS', 47, 'MYPEN'),\n",
       " ('MYS', 48, 'MYJHB'),\n",
       " ('MYS', 49, 'MYTPP'),\n",
       " ('MYS', 50, 'MYPKG'),\n",
       " ('PHL', 51, 'PHCEB'),\n",
       " ('PHL', 52, 'PHSFS'),\n",
       " ('PHL', 53, 'PHBTG'),\n",
       " ('PHL', 54, 'PHDVO'),\n",
       " ('PHL', 55, 'PHMNL'),\n",
       " ('PAK', 56, 'PKBQM'),\n",
       " ('PAK', 57, 'PKKHI'),\n",
       " ('SGP', 58, 'SGSIN'),\n",
       " ('THA', 59, 'THSGZ'),\n",
       " ('THA', 60, 'THBKK'),\n",
       " ('THA', 61, 'THLCH'),\n",
       " ('OAS', 62, 'TWTXG'),\n",
       " ('OAS', 63, 'TWTPE'),\n",
       " ('OAS', 64, 'TWKEL'),\n",
       " ('OAS', 65, 'TWKHH'),\n",
       " ('VNM', 66, 'VNHPH'),\n",
       " ('VNM', 67, 'VNSGN'),\n",
       " ('AFR', 68, 'AFR'),\n",
       " ('EUR', 69, 'EUR'),\n",
       " ('ELT', 70, 'ELT'),\n",
       " ('WLT', 71, 'WLT'),\n",
       " ('MDE', 72, 'MDE'),\n",
       " ('NAM', 73, 'NAM'),\n",
       " ('OCE', 74, 'OCE')]"
      ]
     },
     "execution_count": 66,
     "metadata": {},
     "output_type": "execute_result"
    }
   ],
   "source": [
    "port_country"
   ]
  },
  {
   "cell_type": "code",
   "execution_count": 51,
   "metadata": {},
   "outputs": [
    {
     "data": {
      "text/plain": [
       "(84024, 84024, 1800, 1800)"
      ]
     },
     "execution_count": 51,
     "metadata": {},
     "output_type": "execute_result"
    }
   ],
   "source": [
    "rv =    [(r,v)        for r in range(_routes) for v in range(_vtypes)] \n",
    "rol =   [(r, o, l)    for r in range(_routes) for o in range(_economics) for l in range(routes_ind[r][1])]\n",
    "rolp =  [(r,o,l,routes_ind[r][3][l])    for r in range(_routes) for o in range(_economics) for l in range(routes_ind[r][1])]\n",
    "ope =   [(o,_p,economics.index(e))     for e,_p,p in port_country for o in range(_economics)]   \n",
    "pv =    [(p,v)        for p in range(_total_port) for v in range(_vtypes)]\n",
    "po =    [(p,o)        for p in range(_total_port) for o in range(_economics)]  \n",
    "#routes_ind[2]\n",
    "# po[32]\n",
    "len(rolp),len(rol),len(po),len(ope)"
   ]
  },
  {
   "cell_type": "markdown",
   "metadata": {},
   "source": [
    "# Setup Model"
   ]
  },
  {
   "cell_type": "code",
   "execution_count": 52,
   "metadata": {},
   "outputs": [
    {
     "name": "stdout",
     "output_type": "stream",
     "text": [
      "* system is: Windows 64bit\n",
      "* Python version 3.8.5, located at: C:\\ProgramData\\Anaconda3\\python.exe\n",
      "* docplex is present, version is 2.18.200\n",
      "* CPLEX library is present, version is 20.1.0.0, located at: C:\\ProgramData\\Anaconda3\\lib\\site-packages\n",
      "* pandas is present, version is 1.1.3\n"
     ]
    }
   ],
   "source": [
    "env = Environment()\n",
    "env.print_information()\n",
    "mdl = Model(\"Container_network\")"
   ]
  },
  {
   "cell_type": "markdown",
   "metadata": {},
   "source": [
    "## Decision Variable"
   ]
  },
  {
   "cell_type": "code",
   "execution_count": 53,
   "metadata": {},
   "outputs": [],
   "source": [
    "\n",
    "# Vessel in route (Ves=>)\n",
    "ves_deploy = mdl.integer_var_dict(rv, ub=5, name=\"ves_deploy\") # Maximum 7 day/weeks call\n",
    "\n",
    "# # Load, Unload, and Carried\n",
    "load = mdl.integer_var_dict(rolp,name=\"load\")\n",
    "unload = mdl.integer_var_dict(rolp, name=\"unload\")\n",
    "carried = mdl.integer_var_dict(rolp, name=\"carried\")\n",
    "\n",
    "            # # print(v,o,r[0],r[])\n",
    "# Import,Export\n",
    "imp = mdl.integer_var_dict(ope,name=\"imp\")\n",
    "exp = mdl.integer_var_dict(ope,name=\"exp\")\n",
    "trade = mdl.integer_var_dict(ope,name=\"trade\")"
   ]
  },
  {
   "cell_type": "code",
   "execution_count": 61,
   "metadata": {},
   "outputs": [
    {
     "data": {
      "text/plain": [
       "((0, 0, 12), (0, 1, 0, 44))"
      ]
     },
     "execution_count": 61,
     "metadata": {},
     "output_type": "execute_result"
    }
   ],
   "source": [
    "ope[0],rolp[3] #"
   ]
  },
  {
   "cell_type": "markdown",
   "metadata": {},
   "source": [
    "## Cal Var\n"
   ]
  },
  {
   "cell_type": "code",
   "execution_count": 55,
   "metadata": {},
   "outputs": [
    {
     "data": {
      "text/plain": [
       "75"
      ]
     },
     "execution_count": 55,
     "metadata": {},
     "output_type": "execute_result"
    }
   ],
   "source": [
    "route_cap =  mdl.integer_var_list(range(_routes),name=\"route_cap\")\n",
    "port_thrp =  mdl.integer_var_list(range(_total_port),name=\"port_thrp\")\n",
    "# port_load =  mdl.integer_var_dict(po,name=\"port_load\")\n",
    "# port_unload = mdl.integer_var_dict(po,name=\"port_unload\")\n",
    "# port_trans  = mdl.integer_var_dict(po,name=\"trans\") \n",
    "port_load =  mdl.integer_var_dict(ope,name=\"port_load\")\n",
    "port_unload = mdl.integer_var_dict(ope,name=\"port_unload\")\n",
    "port_trans  = mdl.integer_var_dict(ope,name=\"trans\") \n",
    "port_calls =  mdl.integer_var_dict(pv,name=\"port_calls\")\n",
    "\n",
    "len(port_thrp )\n",
    "\n",
    "# mdl.add_constraint(\n",
    "#                 mdl.sum((price_prod_econ[f,p] * Trade_demand[f,t,p]* cont_conv[p] ) for p in products) \n",
    "#                 == load_from_to[f,t]\n",
    "#             ) "
   ]
  },
  {
   "cell_type": "markdown",
   "metadata": {},
   "source": [
    "## Constraint"
   ]
  },
  {
   "cell_type": "markdown",
   "metadata": {},
   "source": [
    "### C1 Capacity of each route"
   ]
  },
  {
   "cell_type": "code",
   "execution_count": 56,
   "metadata": {},
   "outputs": [],
   "source": [
    "for r in range(_routes):\n",
    "    mdl.add_constraint(\n",
    "            ## deploy * size \n",
    "            mdl.sum((ves_deploy[(r,v)]*vtypes[v].teu) for v in range(_vtypes)) \n",
    "            == route_cap[r],f\"Cap route {r}\"\n",
    "        ) "
   ]
  },
  {
   "cell_type": "code",
   "execution_count": null,
   "metadata": {},
   "outputs": [],
   "source": [
    "r"
   ]
  },
  {
   "cell_type": "markdown",
   "metadata": {},
   "source": [
    "### C2 Vessel Availability (Vessel deploy according to weekly service)\n",
    "### C3 Port Total Call (by types)"
   ]
  },
  {
   "cell_type": "code",
   "execution_count": 57,
   "metadata": {},
   "outputs": [],
   "source": [
    "for v in range(_vtypes):\n",
    "    mdl.add_constraint(\n",
    "            ## deploy * size \n",
    "            mdl.sum((ves_deploy[(r,v)]*routes_ind[r][0]) for r in range(_routes)) \n",
    "            <= vtypes[v].quantity,f\"Availability type {v}\"\n",
    "        )\n",
    "    for _p,p in enumerate(total_port): \n",
    "        mdl.add_constraint( mdl.sum(ves_deploy[(r,v)] for r in range(_routes) \n",
    "            for l in range(1,routes_ind[r][1])  if routes_ind[r][2][l]==p ) # Use 1 to reduce end duplicate \n",
    "            ==port_calls[(_p,v)]),f\"Total Call port {p}, type {v}\""
   ]
  },
  {
   "cell_type": "markdown",
   "metadata": {},
   "source": [
    "### C4 Carried less than vessel capacity\n",
    "### C5 Port Flow (vessel) Continuity (per each berthing) \n",
    "### C6 Circular Route (PC[0] ==PC[-1])"
   ]
  },
  {
   "cell_type": "code",
   "execution_count": 58,
   "metadata": {},
   "outputs": [],
   "source": [
    "for _rol in rolp :\n",
    "    r,o,l,p = _rol\n",
    "    mdl.add_constraint( \n",
    "        ## z < route_cap\n",
    "        carried[_rol] <= route_cap[r],f\"Cap & Carried  {r},{o},{l}\"\n",
    "    )\n",
    "    if l==routes_ind[r][1]-1:     # Skip last portcall since is identical with first portcall see C5\n",
    "        p0 = routes_ind[r][2]\n",
    "        mdl.add_constraint(carried[(r,o,0,p0)] == carried[_rol],f\"Circ Carried  {r},{o},{l},{p}\")\n",
    "        mdl.add_constraint(load[(r,o,0,p0)] == load[_rol]      ,f\"Circ Load  {r},{o},{l},{p}\")\n",
    "        mdl.add_constraint(unload[(r,o,0,p0)] == unload[_rol]  ,f\"Circ unload  {r},{o},{l},{p}\")\n",
    "        continue\n",
    "    _p = routes_ind[r][3][l+1]\n",
    "    mdl.add_constraint(carried[(r,o,l+1,_p)] == carried[_rol] + load[_rol] - unload[_rol],f\"R Continuity {r},{o},{l}\")\n",
    "\n",
    "    "
   ]
  },
  {
   "cell_type": "markdown",
   "metadata": {},
   "source": [
    "### C7 Port Load, Unload, No internal trade, & Throughput\n",
    "TH = load + unload\n",
    "For port in e can only load cargoes from e"
   ]
  },
  {
   "cell_type": "code",
   "execution_count": 27,
   "metadata": {},
   "outputs": [],
   "source": [
    "\n",
    "for _o,_p,_e in ope:\n",
    "        # Port load\n",
    "    mdl.add_constraint( mdl.sum(load[(r,o,l,p)] \n",
    "                            for r,o,l,p in rolp if p==_p and o==_o and l!=0) \n",
    "                        == port_load[(_o,_p,_e)],\n",
    "                        f\"Port Load  {_p},{_o}\")\n",
    "\n",
    "    # Port unload\n",
    "    mdl.add_constraint( mdl.sum(unload[(r,_o,l,p)]  \n",
    "                            for r,o,l,p in rolp if p==_p and o==_o and l!=0) \n",
    "                        == port_unload[(_o,_p,_e)],\n",
    "                        f\"Port Unload {_p},{_o},{_e}\")\n",
    "    # if _o == _e:\n",
    "    #     # Port unload\n",
    "    #     mdl.add_constraint( port_unload[(_p,_o)] == 0,\n",
    "    #                             f\"Port Unload Fix=0 {_p},{_o}\")\n",
    "\n",
    "\n",
    "for _p,p in enumerate(total_port):\n",
    "# Port Throughput\n",
    "    mdl.add_constraint( mdl.sum(load[(r,o,l,p_)] for r,o,l,p_ in rolp if p_==_p and l!=0)\n",
    "                        + mdl.sum(unload[(r,o,l,p_)] for r,o,l,p_ in rolp if p_==_p and l!=0)\n",
    "                        ==port_thrp[_p],f\"Port Throughput {p}\")\n",
    "\n",
    "    "
   ]
  },
  {
   "cell_type": "code",
   "execution_count": 60,
   "metadata": {},
   "outputs": [
    {
     "data": {
      "text/plain": [
       "[(9, 23, 1, 0),\n",
       " (16, 23, 1, 0),\n",
       " (33, 23, 2, 0),\n",
       " (35, 23, 1, 0),\n",
       " (37, 23, 2, 0),\n",
       " (42, 23, 1, 0),\n",
       " (47, 23, 1, 0),\n",
       " (151, 23, 2, 0),\n",
       " (373, 23, 9, 0)]"
      ]
     },
     "execution_count": 60,
     "metadata": {},
     "output_type": "execute_result"
    }
   ],
   "source": [
    "\n",
    "_p = 0\n",
    "[(r,o,l,p) for r,o,l,p in rolp if p==_p and o==_o and l!=0]"
   ]
  },
  {
   "cell_type": "markdown",
   "metadata": {},
   "source": [
    "### C8 Berth Draft Limitation"
   ]
  },
  {
   "cell_type": "code",
   "execution_count": 29,
   "metadata": {},
   "outputs": [],
   "source": [
    "for v in range(_vtypes):\n",
    "    _v = _vtypes - v -1\n",
    "    for _p,p in enumerate(total_port) :\n",
    "        mdl.add_constraint( mdl.sum(port_calls[(_p,v_)] for v_ in range(_v,_vtypes))\n",
    "                        == mdl.sum((port_calls[(_p,v_)] * vtypes[v_].length) for v_ in range(_v,_vtypes))\n",
    "                        ,f\"Berth Limitation port {p} type {v}\")\n",
    "\n"
   ]
  },
  {
   "cell_type": "markdown",
   "metadata": {},
   "source": [
    "### C9 Trade for each country\n",
    "### C10 Demand Satisfied (Only in interested Area)\n",
    "### C11 No internal trade"
   ]
  },
  {
   "cell_type": "code",
   "execution_count": 30,
   "metadata": {},
   "outputs": [],
   "source": [
    "for _f,f in enumerate(economics):           # @ Economy f\n",
    "    fports = [(_p,p) for c,_p,p in port_country if c == f]\n",
    "    for _t,t in enumerate(economics):       # Partner\n",
    "        if (f in regions_cod and t in regions_cod) :\n",
    "            # External frame relaxed \n",
    "            continue\n",
    "        if (f==t):  # Export Case\n",
    "            mdl.add_constraints([trade[(_t,_p,_f)] == port_load[(_t,_p,_f)] for _p,p in fports])\n",
    "            \n",
    "            # if  f in regions_cod: # External Case  No tranship\n",
    "            #     mdl.add_constraints([trade[(_t,_p,_f)] == port_unload[(_t,_p,_f)] for _p,p in fports],\n",
    "            #                  [f\"EXT Imp = unload for {p}\" for _p,p in fports])\n",
    "        else:       # Import Case\n",
    "            # Import = Unload - load\n",
    "            mdl.add_constraints(trade[(_t,_p,_f)] == \n",
    "                                port_unload[(_t,_p,_f)]- port_load[(_t,_p,_f)] for _p,p in fports )\n",
    "            # Sum import = demand\n",
    "            mdl.add_constraint(mdl.sum(trade[(_t,_p,_f)] for _p,p in fports)\n",
    "                            == demands[(t,f)],\n",
    "                            f\"Demand  from {t} satisfy for {f}\")\n",
    "\n",
    "        # Tran = Unload + load - import\n",
    "        mdl.add_constraints(port_trans [(_t,_p,_f)] == port_unload[(_t,_p,_f)] + port_load[(_t,_p,_f)]\n",
    "                            - trade[(_t,_p,_f)] for _p,p in fports )\n",
    "\n",
    "        # ## Sum every port in f (demand satisfied)\n",
    "        # mdl.add_constraint(mdl.sum(imp[(o,_p,e)] for o,_p,e in ope if o==_t and e == f)\n",
    "        #                     == demands[(t,f)],\n",
    "        #                     f\"Demand (in) satisfy for {f},{t}\")\n",
    "        \n",
    "            # else:\n",
    "            # Sum every port in f (demand relaxed satisfied)\n",
    "            #     mdl.add_constraint(mdl.sum(trade[(_t,_p,_f)] for o,_p,e in ope if o==_t and e == f)\n",
    "            #                     <= demands[(t,f)],\n",
    "            #                     f\"Demand (in) satisfy for {f},{t}\")\n",
    "\n",
    "            "
   ]
  },
  {
   "cell_type": "markdown",
   "metadata": {},
   "source": [
    "## Cost Calculation"
   ]
  },
  {
   "cell_type": "code",
   "execution_count": 31,
   "metadata": {},
   "outputs": [],
   "source": [
    "# Vessel deploy cost\n",
    "# ** Assign cost for external \n",
    "ves_deploy_cost = mdl.sum(ves_deploy[(r,v)] * vtypes[v].deploy_cost for r,v in rv)\n",
    "\n",
    "# Load & unload cost\n",
    "# ** Adjust cost for external \n",
    "handling_cost = mdl.sum(port_thrp[_p] * ports[_p][-2] for _p in range(_total_port))\n",
    "\n",
    "# Transhipment cost\n",
    "handling_cost = mdl.sum(port_trans [(o,_p,e)] * ports[_p][-1] for o,_p,e in ope)\n",
    "\n",
    "# Port Call cost"
   ]
  },
  {
   "cell_type": "code",
   "execution_count": 32,
   "metadata": {},
   "outputs": [
    {
     "name": "stdout",
     "output_type": "stream",
     "text": [
      "Model: Container_network\n",
      " - number of variables: 265402\n",
      "   - binary=0, integer=265402, continuous=0\n",
      " - number of constraints: 197458\n",
      "   - linear=197458\n",
      " - parameters: defaults\n",
      " - objective: minimize\n",
      " - problem type is: MILP\n"
     ]
    }
   ],
   "source": [
    "mdl.minimize(handling_cost + ves_deploy_cost +handling_cost)\n",
    "mdl.print_information()\n",
    "# mdl.parameters.mip.tolerances.mipgap = 10"
   ]
  },
  {
   "cell_type": "code",
   "execution_count": 33,
   "metadata": {},
   "outputs": [
    {
     "name": "stdout",
     "output_type": "stream",
     "text": [
      "Version identifier: 20.1.0.0 | 2020-11-10 | 9bedb6d68\n",
      "CPXPARAM_Read_DataCheck                          1\n",
      "CPXPARAM_RandomSeed                              202001241\n",
      "Infeasibility row 'Port Unload 0,0,12':  0  = 22685.\n",
      "Presolve time = 0.42 sec. (463.17 ticks)\n",
      "\n",
      "Root node processing (before b&c):\n",
      "  Real time             =    0.45 sec. (490.20 ticks)\n",
      "Parallel b&c, 8 threads:\n",
      "  Real time             =    0.00 sec. (0.00 ticks)\n",
      "  Sync time (average)   =    0.00 sec.\n",
      "  Wait time (average)   =    0.00 sec.\n",
      "                          ------------\n",
      "Total (root+branch&cut) =    0.45 sec. (490.20 ticks)\n",
      "* model is infeasible\n"
     ]
    }
   ],
   "source": [
    "s = mdl.solve(log_output=True)\n",
    "if s is not None:\n",
    "    mdl.report()\n",
    "else:\n",
    "    print(\"* model is infeasible\")"
   ]
  },
  {
   "cell_type": "code",
   "execution_count": 375,
   "metadata": {},
   "outputs": [],
   "source": [
    "mdl.print_information()"
   ]
  },
  {
   "cell_type": "code",
   "execution_count": 313,
   "metadata": {},
   "outputs": [
    {
     "name": "stdout",
     "output_type": "stream",
     "text": [
      "0 7 0 2 74\n"
     ]
    },
    {
     "ename": "IndexError",
     "evalue": "list index out of range",
     "output_type": "error",
     "traceback": [
      "\u001b[1;31m---------------------------------------------------------------------------\u001b[0m",
      "\u001b[1;31mIndexError\u001b[0m                                Traceback (most recent call last)",
      "\u001b[1;32m<ipython-input-313-9afd9a468415>\u001b[0m in \u001b[0;36m<module>\u001b[1;34m\u001b[0m\n\u001b[0;32m      3\u001b[0m         \u001b[1;32mtry\u001b[0m\u001b[1;33m:\u001b[0m\u001b[1;33m\u001b[0m\u001b[1;33m\u001b[0m\u001b[0m\n\u001b[0;32m      4\u001b[0m             \u001b[1;32mif\u001b[0m \u001b[0ml\u001b[0m \u001b[1;33m!=\u001b[0m\u001b[1;36m0\u001b[0m\u001b[1;33m:\u001b[0m\u001b[1;33m\u001b[0m\u001b[1;33m\u001b[0m\u001b[0m\n\u001b[1;32m----> 5\u001b[1;33m                 \u001b[0mx\u001b[0m \u001b[1;33m=\u001b[0m \u001b[0mves_deploy\u001b[0m\u001b[1;33m[\u001b[0m\u001b[1;33m(\u001b[0m\u001b[0mr\u001b[0m\u001b[1;33m,\u001b[0m\u001b[0mv\u001b[0m\u001b[1;33m)\u001b[0m\u001b[1;33m]\u001b[0m \u001b[1;33m*\u001b[0m \u001b[0mports\u001b[0m\u001b[1;33m[\u001b[0m\u001b[0mp\u001b[0m\u001b[1;33m]\u001b[0m\u001b[1;33m[\u001b[0m\u001b[1;36m5\u001b[0m\u001b[1;33m+\u001b[0m\u001b[0mv\u001b[0m\u001b[1;33m]\u001b[0m\u001b[1;33m\u001b[0m\u001b[1;33m\u001b[0m\u001b[0m\n\u001b[0m\u001b[0;32m      6\u001b[0m         \u001b[1;32mexcept\u001b[0m\u001b[1;33m:\u001b[0m\u001b[1;33m\u001b[0m\u001b[1;33m\u001b[0m\u001b[0m\n\u001b[0;32m      7\u001b[0m             \u001b[0mprint\u001b[0m\u001b[1;33m(\u001b[0m\u001b[0mv\u001b[0m\u001b[1;33m,\u001b[0m\u001b[0mr\u001b[0m\u001b[1;33m,\u001b[0m\u001b[0mo\u001b[0m\u001b[1;33m,\u001b[0m\u001b[0ml\u001b[0m\u001b[1;33m,\u001b[0m\u001b[0mp\u001b[0m\u001b[1;33m)\u001b[0m\u001b[1;33m\u001b[0m\u001b[1;33m\u001b[0m\u001b[0m\n",
      "\u001b[1;31mIndexError\u001b[0m: list index out of range"
     ]
    }
   ],
   "source": [
    "for v in range(_vtypes) :\n",
    "    for r,o,l,p in rolp :\n",
    "        try:\n",
    "            if l !=0:\n",
    "                x = ves_deploy[(r,v)] * ports[p][5+v]\n",
    "        except:\n",
    "            print(v,r,o,l,p)\n",
    "            raise"
   ]
  },
  {
   "cell_type": "code",
   "execution_count": 314,
   "metadata": {},
   "outputs": [
    {
     "data": {
      "text/plain": [
       "(2, 3, ('OCE', 'SGSIN', 'OCE'), (74, 58, 74))"
      ]
     },
     "execution_count": 314,
     "metadata": {},
     "output_type": "execute_result"
    }
   ],
   "source": [
    "# mdl.add_constraint(\n",
    "#                 mdl.sum((price_prod_econ[f,p] * Trade_demand[f,t,p]* cont_conv[p] ) for p in products) \n",
    "#                 == load_from_to[f,t]\n",
    "#             ) \n",
    "routes_ind[7]"
   ]
  },
  {
   "cell_type": "markdown",
   "metadata": {},
   "source": []
  },
  {
   "cell_type": "code",
   "execution_count": null,
   "metadata": {},
   "outputs": [],
   "source": []
  },
  {
   "cell_type": "markdown",
   "metadata": {},
   "source": [
    "### CX Port Cap ?"
   ]
  },
  {
   "cell_type": "code",
   "execution_count": 141,
   "metadata": {},
   "outputs": [
    {
     "data": {
      "text/plain": [
       "(1632, 1632)"
      ]
     },
     "execution_count": 141,
     "metadata": {},
     "output_type": "execute_result"
    }
   ],
   "source": [
    "port_country\n",
    "ope = [(p[:2],p,e)for p in interest_port for e in economics]\n",
    "len(ope),_ports*_economics\n",
    "        \n"
   ]
  },
  {
   "cell_type": "markdown",
   "metadata": {},
   "source": [
    "## Objective & KPI"
   ]
  },
  {
   "cell_type": "code",
   "execution_count": 4,
   "metadata": {},
   "outputs": [
    {
     "ename": "NameError",
     "evalue": "name 'mdl' is not defined",
     "output_type": "error",
     "traceback": [
      "\u001b[1;31m---------------------------------------------------------------------------\u001b[0m",
      "\u001b[1;31mNameError\u001b[0m                                 Traceback (most recent call last)",
      "\u001b[1;32m<ipython-input-4-e5936913cc83>\u001b[0m in \u001b[0;36m<module>\u001b[1;34m\u001b[0m\n\u001b[0;32m      1\u001b[0m \u001b[1;31m# Load from port to route\u001b[0m\u001b[1;33m\u001b[0m\u001b[1;33m\u001b[0m\u001b[1;33m\u001b[0m\u001b[0m\n\u001b[1;32m----> 2\u001b[1;33m \u001b[0mload_route_fromto_orig\u001b[0m \u001b[1;33m=\u001b[0m \u001b[0mmdl\u001b[0m\u001b[1;33m.\u001b[0m\u001b[0minteger_var_matrix\u001b[0m\u001b[1;33m(\u001b[0m \u001b[0mkeys1\u001b[0m\u001b[1;33m=\u001b[0m\u001b[0mmatrix_region\u001b[0m\u001b[1;33m,\u001b[0m\u001b[0mkeys2\u001b[0m\u001b[1;33m=\u001b[0m\u001b[0mproducts\u001b[0m\u001b[1;33m,\u001b[0m \u001b[0mub\u001b[0m\u001b[1;33m=\u001b[0m\u001b[1;36m0.8\u001b[0m\u001b[1;33m,\u001b[0m \u001b[0mname\u001b[0m\u001b[1;33m=\u001b[0m\u001b[1;34m\"price_prod_econ\"\u001b[0m\u001b[1;33m)\u001b[0m\u001b[1;33m\u001b[0m\u001b[1;33m\u001b[0m\u001b[0m\n\u001b[0m\u001b[0;32m      3\u001b[0m \u001b[1;31m# Unload from route to port\u001b[0m\u001b[1;33m\u001b[0m\u001b[1;33m\u001b[0m\u001b[1;33m\u001b[0m\u001b[0m\n\u001b[0;32m      4\u001b[0m x = m.integer_var_dict((f, r, r['Leg'], d)\n\u001b[0;32m      5\u001b[0m                        \u001b[1;32mfor\u001b[0m \u001b[0mf\u001b[0m \u001b[1;32min\u001b[0m \u001b[0meconomics\u001b[0m\u001b[1;33m\u001b[0m\u001b[1;33m\u001b[0m\u001b[0m\n",
      "\u001b[1;31mNameError\u001b[0m: name 'mdl' is not defined"
     ]
    }
   ],
   "source": [
    "# Load from port to route\n",
    "cnt = 0\n",
    "for r in range(_routes):\n",
    "    for o in range(_economics):\n",
    "        for l in range(routes_ind[r][1]):\n",
    "            cnt +=1\n",
    "# Unload from route to port\n",
    "unload = mdl.integer_var_matrix( keys1=matrix_region,keys2=products, ub=0.8, name=\"price_prod_econ\")\n",
    "# Carried to next leg\n",
    "carried = mdl.integer_var_matrix( keys1=matrix_region,keys2=products, ub=0.8, name=\"price_prod_econ\")\n",
    "\n",
    "x = m.integer_var_dict((f, r, r['Leg'], d)\n",
    "                       for f in economics\n",
    "                       for r in routes\n",
    "                       for d in r['Call'])\n",
    "\n",
    "                       \n"
   ]
  },
  {
   "cell_type": "code",
   "execution_count": 56,
   "metadata": {},
   "outputs": [
    {
     "data": {
      "text/plain": [
       "(24, 435, 8.096551724137932)"
      ]
     },
     "execution_count": 56,
     "metadata": {},
     "output_type": "execute_result"
    }
   ],
   "source": [
    "len(economics),len(routes),3522/435"
   ]
  },
  {
   "cell_type": "code",
   "execution_count": 53,
   "metadata": {},
   "outputs": [
    {
     "name": "stdout",
     "output_type": "stream",
     "text": [
      "366\n"
     ]
    },
    {
     "data": {
      "text/plain": [
       "84528"
      ]
     },
     "execution_count": 53,
     "metadata": {},
     "output_type": "execute_result"
    }
   ],
   "source": [
    "vtypes = (0,1,2,3)\n",
    "cnt = 0\n",
    "sel = int(random.random() * len(routes) //1)    # 3522 total leg\n",
    "print(sel)\n",
    "for r in routes:\n",
    "    for o in economics:\n",
    "        for l in range(r[1]):\n",
    "            # print(v,o,r[0],r[])\n",
    "            cnt +=1\n",
    "cnt\n",
    "# 84528 = 3522 * "
   ]
  },
  {
   "cell_type": "code",
   "execution_count": 5,
   "metadata": {},
   "outputs": [],
   "source": [
    "routes = [{'Name':'A','Leg':5,'Call':['X','Y','Z']},{'Name':'B','Leg':7,'Call':['X','Y','X']},{'Name':'A','Leg':9,'Call':['Z','Y','Z']}]\n",
    "# [(i,j,p) for i in routes for j in i for p in i['Call']]"
   ]
  },
  {
   "cell_type": "code",
   "execution_count": null,
   "metadata": {},
   "outputs": [],
   "source": [
    "# Internal Teu Allocation (Economics to port\n",
    "for c in matrix_region for e in matrix_region for "
   ]
  },
  {
   "cell_type": "code",
   "execution_count": null,
   "metadata": {},
   "outputs": [],
   "source": [
    "# https://stackoverflow.com/questions/55821484/how-to-set-a-four-dimension-variable-in-docplex-with-python \n",
    "x = m.binary_var_dict((i, l, t, v, r)\n",
    "                       for i in types\n",
    "                       for l in locations\n",
    "                       for t in times\n",
    "                       for v in vehicles\n",
    "                       for r in routes)\n",
    "\n",
    "for i in types:\n",
    "    for l in locations:\n",
    "       for t in times:\n",
    "          for v in vehicles:\n",
    "             for r in routes:\n",
    "                print x[i, l, t, v, r]\n",
    "\n",
    "x = [[[[[m.binary_var('%d_%d_%d_%d_%d' % (i, l, t, v, r))\n",
    "        for r in routes]\n",
    "        for v in vehicles]\n",
    "    for t in times]\n",
    "    for l in locations]\n",
    "    for i in types]\n",
    "\n",
    "for i in types:\n",
    "for l in locations:\n",
    "    for t in times:\n",
    "        for v in vehicles:\n",
    "            for r in routes:\n",
    "            print x[i][l][t][v][r]"
   ]
  },
  {
   "cell_type": "code",
   "execution_count": null,
   "metadata": {},
   "outputs": [],
   "source": [
    "from docplex.mp.model import Model\n",
    "\n",
    "# Data\n",
    "\n",
    "r=range(1,3)\n",
    "\n",
    "i=[(a,b,c,d) for a in r for b in r for c in r for d in r]\n",
    "\n",
    "print(i)\n",
    "\n",
    "mdl = Model(name='model')\n",
    "\n",
    "#decision variables\n",
    "mdl.x=mdl.integer_var_dict(i,name=\"x\")\n",
    "\n",
    "# Constraint\n",
    "for it in i:\n",
    "    mdl.add_constraint(mdl.x[it] == it[0]+it[1]+it[2]+it[3], 'ct')\n",
    "\n",
    "mdl.solve()\n",
    "\n",
    "# Dislay solution\n",
    "for it in i:\n",
    "    print(\" x \",it,\" --> \",mdl.x[it].solution_value); "
   ]
  },
  {
   "cell_type": "markdown",
   "metadata": {},
   "source": [
    "# Model"
   ]
  },
  {
   "cell_type": "code",
   "execution_count": 144,
   "metadata": {},
   "outputs": [
    {
     "ename": "TypeError",
     "evalue": "read_settings() missing 1 required positional argument: 'self'",
     "output_type": "error",
     "traceback": [
      "\u001b[1;31m---------------------------------------------------------------------------\u001b[0m",
      "\u001b[1;31mTypeError\u001b[0m                                 Traceback (most recent call last)",
      "\u001b[1;32m<ipython-input-144-c97af4e29f2e>\u001b[0m in \u001b[0;36m<module>\u001b[1;34m\u001b[0m\n\u001b[1;32m----> 1\u001b[1;33m \u001b[0mdocplex\u001b[0m\u001b[1;33m.\u001b[0m\u001b[0mmp\u001b[0m\u001b[1;33m.\u001b[0m\u001b[0mcontext\u001b[0m\u001b[1;33m.\u001b[0m\u001b[0mContext\u001b[0m\u001b[1;33m.\u001b[0m\u001b[0mread_settings\u001b[0m\u001b[1;33m(\u001b[0m\u001b[1;33m)\u001b[0m\u001b[1;33m\u001b[0m\u001b[1;33m\u001b[0m\u001b[0m\n\u001b[0m",
      "\u001b[1;31mTypeError\u001b[0m: read_settings() missing 1 required positional argument: 'self'"
     ]
    }
   ],
   "source": [
    "docplex.mp.context.Context.read_settings()"
   ]
  },
  {
   "cell_type": "code",
   "execution_count": null,
   "metadata": {},
   "outputs": [],
   "source": [
    "def demand_model1(Trade_demand,R_TEU,cont_conv = containerized):\n",
    "    products = tuple([c for c in cont_conv.keys() if cont_conv[c]!=0 ])\n",
    "    global int_cod,matrix_region\n",
    "    mdl = Model(name='trade_to_teu_1')\n",
    "    \n",
    "    price_prod_econ = mdl.continuous_var_matrix( keys1=matrix_region,keys2=products, ub=0.8, name=\"price_prod_econ\") \n",
    "    # (TEU/k$)  : Less Value => Expensive Cargo\n",
    "    load_from_to =  mdl.continuous_var_matrix(keys1=matrix_region, keys2=matrix_region, name=\"load_from_to\")\n",
    "    load_total =  mdl.continuous_var_dict(keys=matrix_region, lb=10, ub = R_TEU, name=\"load_total\")\n",
    "\n",
    "    for f in matrix_region:\n",
    "        for t in matrix_region:\n",
    "            if f==t :\n",
    "                continue\n",
    "            mdl.add_constraint(\n",
    "                mdl.sum((price_prod_econ[f,p] * Trade_demand[f,t,p]* cont_conv[p] ) for p in products) \n",
    "                == load_from_to[f,t]\n",
    "            ) \n",
    "    for f in matrix_region:\n",
    "        mdl.add_constraint(\n",
    "            mdl.sum(load_from_to[f,t] for t in matrix_region if t!=f ) + mdl.sum(load_from_to[k,f] for k in matrix_region if k!=f)\n",
    "            == load_total[f] \n",
    "            ) \n",
    "    \n",
    "    total_err = mdl.sum((R_TEU[f] - load_total[f])**2 for f in int_cod)\n",
    "    mdl.minimize(total_err)\n",
    "    \n",
    "    sol = mdl.solve()\n",
    "    if sol is not None:\n",
    "        # mdl.print_information()\n",
    "        mdl.report()\n",
    "        price = mdl.solution.get_value_dict(price_prod_econ)\n",
    "        price_df = pd.DataFrame([{'Econ':k[0],'Product':k[1],'Price':v} for k,v in price.items()],columns = ['Econ','Product','Price'])\n",
    "        mid = price_df.groupby('Product').Price.describe()[['50%', 'mean','min','max']]\n",
    "        mid['Min_mid'] = mid[['50%', 'mean']].min(axis=1)\n",
    "        mid['Max_mid'] = mid[['50%', 'mean']].max(axis=1)\n",
    "        mid['Max_Uratio'] = mid['max']/mid['Max_mid'] \n",
    "        mid['Max_Lratio'] = mid['min']/mid['Max_mid'] \n",
    "        obj = sol.get_objective_value()\n",
    "        # print(f\"solution for a cost of {mdl.objective_value}\")\n",
    "        # print_information(model)\n",
    "        # print_solution(model)\n",
    "        return mid,obj\n",
    "    else:\n",
    "        print(\"* model is infeasible\")\n",
    "        return None\n",
    "\n",
    "\n",
    "def demand_model2(base_price,Trade_demand,R_TEU,cont_conv = containerized):\n",
    "    products = tuple([c for c in cont_conv.keys() if cont_conv[c]!=0 ])\n",
    "    global int_cod,matrix_region\n",
    "    mdl = Model(name='trade_to_teu_2')\n",
    "\n",
    "    load_from_to =  mdl.continuous_var_matrix(keys1=matrix_region, keys2=matrix_region, name=\"load_from_to\")\n",
    "    load_total =  mdl.continuous_var_dict(keys=matrix_region, lb=10,ub = R_TEU, name=\"load_total\")\n",
    "    range_prod_econ = mdl.continuous_var_matrix(keys1=matrix_region, keys2=products,lb=0.002,ub=5.0, name=\"range_prod_econ\")\n",
    "\n",
    "    for f in matrix_region:\n",
    "        for t in matrix_region:\n",
    "            if f==t :\n",
    "                continue\n",
    "            mdl.add_constraint(\n",
    "                mdl.sum((base_price[p]* range_prod_econ[f,p] * Trade_demand[f,t,p]* cont_conv[p] ) for p in products) \n",
    "                == load_from_to[f,t]\n",
    "            ) \n",
    "    for f in matrix_region:\n",
    "        mdl.add_constraint(\n",
    "            mdl.sum(load_from_to[f,t] for t in matrix_region if t!=f ) + mdl.sum(load_from_to[k,f] for k in matrix_region if k!=f)\n",
    "            == load_total[f] \n",
    "            ) \n",
    "    \n",
    "    total_err = mdl.sum((R_TEU[f] - load_total[f])**2 for f in int_cod)\n",
    "    mdl.minimize(total_err)\n",
    "    \n",
    "    sol = mdl.solve()\n",
    "    if sol is not None:\n",
    "        # mdl.print_information()\n",
    "        mdl.report()\n",
    "        load_matrix = mdl.solution.get_value_dict(load_from_to)\n",
    "        C_TEU = mdl.solution.get_value_dict(load_total)\n",
    "        price_range = mdl.solution.get_value_dict(range_prod_econ)\n",
    "        price_range_df = pd.DataFrame([{'Econ':k[0],'Product':k[1],'Price':v} for k,v in price_range.items()],columns = ['Econ','Product','Price'])\n",
    "        # print(sol.get_objective_value())\n",
    "        obj = sol.get_objective_value()\n",
    "        # print(f\"solution for a cost of {mdl.objective_value}\")\n",
    "        # print_information(model)\n",
    "        # print_solution(model)\n",
    "        return load_matrix,C_TEU,price_range_df,obj\n",
    "    else:\n",
    "        print(\"* model is infeasible\")\n",
    "        return None\n"
   ]
  },
  {
   "cell_type": "code",
   "execution_count": null,
   "metadata": {},
   "outputs": [],
   "source": []
  },
  {
   "cell_type": "markdown",
   "metadata": {},
   "source": [
    "# Misc"
   ]
  },
  {
   "cell_type": "code",
   "execution_count": 51,
   "metadata": {},
   "outputs": [
    {
     "data": {
      "text/html": [
       "<div>\n",
       "<style scoped>\n",
       "    .dataframe tbody tr th:only-of-type {\n",
       "        vertical-align: middle;\n",
       "    }\n",
       "\n",
       "    .dataframe tbody tr th {\n",
       "        vertical-align: top;\n",
       "    }\n",
       "\n",
       "    .dataframe thead th {\n",
       "        text-align: right;\n",
       "    }\n",
       "</style>\n",
       "<table border=\"1\" class=\"dataframe\">\n",
       "  <thead>\n",
       "    <tr style=\"text-align: right;\">\n",
       "      <th></th>\n",
       "      <th>LOCODE</th>\n",
       "      <th>Country</th>\n",
       "      <th>Flow_in</th>\n",
       "      <th>Max_TEU</th>\n",
       "      <th>Min_TEU</th>\n",
       "      <th>UNLOCODE</th>\n",
       "      <th>Port_Name</th>\n",
       "      <th>draft0</th>\n",
       "      <th>draft1</th>\n",
       "      <th>draft2</th>\n",
       "      <th>draft3</th>\n",
       "      <th>Sum_len</th>\n",
       "      <th>draft0_r</th>\n",
       "      <th>draft1_r</th>\n",
       "      <th>draft2_r</th>\n",
       "      <th>draft3_r</th>\n",
       "      <th>Sum_len_r</th>\n",
       "    </tr>\n",
       "  </thead>\n",
       "  <tbody>\n",
       "    <tr>\n",
       "      <th>0</th>\n",
       "      <td>BDCGP</td>\n",
       "      <td>BD</td>\n",
       "      <td>1146693.0</td>\n",
       "      <td>2806</td>\n",
       "      <td>431</td>\n",
       "      <td>BDCGP</td>\n",
       "      <td>CHATTOGRAM</td>\n",
       "      <td>3124.0</td>\n",
       "      <td>0</td>\n",
       "      <td>0</td>\n",
       "      <td>0</td>\n",
       "      <td>3124.0</td>\n",
       "      <td>3060</td>\n",
       "      <td>0</td>\n",
       "      <td>0</td>\n",
       "      <td>0</td>\n",
       "      <td>3060</td>\n",
       "    </tr>\n",
       "    <tr>\n",
       "      <th>1</th>\n",
       "      <td>CNDCB</td>\n",
       "      <td>CN</td>\n",
       "      <td>208187.0</td>\n",
       "      <td>6931</td>\n",
       "      <td>2770</td>\n",
       "      <td>CNDCB</td>\n",
       "      <td>DA CHAN BAY</td>\n",
       "      <td>0.0</td>\n",
       "      <td>0</td>\n",
       "      <td>0</td>\n",
       "      <td>2430</td>\n",
       "      <td>2430.0</td>\n",
       "      <td>0</td>\n",
       "      <td>0</td>\n",
       "      <td>0</td>\n",
       "      <td>2340</td>\n",
       "      <td>2340</td>\n",
       "    </tr>\n",
       "    <tr>\n",
       "      <th>2</th>\n",
       "      <td>CNYTG</td>\n",
       "      <td>CN</td>\n",
       "      <td>217905.0</td>\n",
       "      <td>4253</td>\n",
       "      <td>542</td>\n",
       "      <td>CNYTG</td>\n",
       "      <td>YANTAI PT</td>\n",
       "      <td>237.0</td>\n",
       "      <td>0</td>\n",
       "      <td>1492</td>\n",
       "      <td>2876</td>\n",
       "      <td>4605.0</td>\n",
       "      <td>170</td>\n",
       "      <td>0</td>\n",
       "      <td>1340</td>\n",
       "      <td>2730</td>\n",
       "      <td>4240</td>\n",
       "    </tr>\n",
       "    <tr>\n",
       "      <th>3</th>\n",
       "      <td>CNQZH</td>\n",
       "      <td>CN</td>\n",
       "      <td>251114.0</td>\n",
       "      <td>6096</td>\n",
       "      <td>556</td>\n",
       "      <td>CNQZH</td>\n",
       "      <td>QINZHOU PT</td>\n",
       "      <td>0.0</td>\n",
       "      <td>0</td>\n",
       "      <td>0</td>\n",
       "      <td>1533</td>\n",
       "      <td>1533.0</td>\n",
       "      <td>0</td>\n",
       "      <td>0</td>\n",
       "      <td>0</td>\n",
       "      <td>1560</td>\n",
       "      <td>1560</td>\n",
       "    </tr>\n",
       "    <tr>\n",
       "      <th>4</th>\n",
       "      <td>CNFOC</td>\n",
       "      <td>CN</td>\n",
       "      <td>426504.0</td>\n",
       "      <td>16022</td>\n",
       "      <td>368</td>\n",
       "      <td>CNFOC</td>\n",
       "      <td>Fuzhou</td>\n",
       "      <td>300.0</td>\n",
       "      <td>1699</td>\n",
       "      <td>0</td>\n",
       "      <td>2034</td>\n",
       "      <td>4033.0</td>\n",
       "      <td>340</td>\n",
       "      <td>1650</td>\n",
       "      <td>0</td>\n",
       "      <td>1950</td>\n",
       "      <td>3940</td>\n",
       "    </tr>\n",
       "    <tr>\n",
       "      <th>...</th>\n",
       "      <td>...</td>\n",
       "      <td>...</td>\n",
       "      <td>...</td>\n",
       "      <td>...</td>\n",
       "      <td>...</td>\n",
       "      <td>...</td>\n",
       "      <td>...</td>\n",
       "      <td>...</td>\n",
       "      <td>...</td>\n",
       "      <td>...</td>\n",
       "      <td>...</td>\n",
       "      <td>...</td>\n",
       "      <td>...</td>\n",
       "      <td>...</td>\n",
       "      <td>...</td>\n",
       "      <td>...</td>\n",
       "      <td>...</td>\n",
       "    </tr>\n",
       "    <tr>\n",
       "      <th>63</th>\n",
       "      <td>TWTPE</td>\n",
       "      <td>TW</td>\n",
       "      <td>1718336.0</td>\n",
       "      <td>20190</td>\n",
       "      <td>610</td>\n",
       "      <td>TWTPE</td>\n",
       "      <td>TAIPEI</td>\n",
       "      <td>0.0</td>\n",
       "      <td>0</td>\n",
       "      <td>0</td>\n",
       "      <td>1377</td>\n",
       "      <td>1377.0</td>\n",
       "      <td>0</td>\n",
       "      <td>0</td>\n",
       "      <td>0</td>\n",
       "      <td>1560</td>\n",
       "      <td>1560</td>\n",
       "    </tr>\n",
       "    <tr>\n",
       "      <th>64</th>\n",
       "      <td>TWKEL</td>\n",
       "      <td>TW</td>\n",
       "      <td>1870217.0</td>\n",
       "      <td>10933</td>\n",
       "      <td>450</td>\n",
       "      <td>TWKEL</td>\n",
       "      <td>KEELUNG (CHILUNG)</td>\n",
       "      <td>3349.0</td>\n",
       "      <td>660</td>\n",
       "      <td>210</td>\n",
       "      <td>403</td>\n",
       "      <td>4622.0</td>\n",
       "      <td>3400</td>\n",
       "      <td>550</td>\n",
       "      <td>335</td>\n",
       "      <td>390</td>\n",
       "      <td>4675</td>\n",
       "    </tr>\n",
       "    <tr>\n",
       "      <th>65</th>\n",
       "      <td>TWKHH</td>\n",
       "      <td>TW</td>\n",
       "      <td>12887313.0</td>\n",
       "      <td>23964</td>\n",
       "      <td>180</td>\n",
       "      <td>TWKHH</td>\n",
       "      <td>KAOHSIUNG</td>\n",
       "      <td>1259.0</td>\n",
       "      <td>0</td>\n",
       "      <td>2878</td>\n",
       "      <td>2565</td>\n",
       "      <td>6702.0</td>\n",
       "      <td>1190</td>\n",
       "      <td>0</td>\n",
       "      <td>3015</td>\n",
       "      <td>2730</td>\n",
       "      <td>6935</td>\n",
       "    </tr>\n",
       "    <tr>\n",
       "      <th>66</th>\n",
       "      <td>VNHPH</td>\n",
       "      <td>VN</td>\n",
       "      <td>1963571.0</td>\n",
       "      <td>12726</td>\n",
       "      <td>357</td>\n",
       "      <td>VNHPH</td>\n",
       "      <td>HAIPHONG</td>\n",
       "      <td>7084.0</td>\n",
       "      <td>450</td>\n",
       "      <td>0</td>\n",
       "      <td>750</td>\n",
       "      <td>8284.0</td>\n",
       "      <td>7140</td>\n",
       "      <td>550</td>\n",
       "      <td>0</td>\n",
       "      <td>780</td>\n",
       "      <td>8470</td>\n",
       "    </tr>\n",
       "    <tr>\n",
       "      <th>67</th>\n",
       "      <td>VNSGN</td>\n",
       "      <td>VN</td>\n",
       "      <td>7353779.0</td>\n",
       "      <td>18995</td>\n",
       "      <td>404</td>\n",
       "      <td>VNSGN</td>\n",
       "      <td>HO CHI MINH CITY</td>\n",
       "      <td>5736.0</td>\n",
       "      <td>1182</td>\n",
       "      <td>1458</td>\n",
       "      <td>0</td>\n",
       "      <td>8376.0</td>\n",
       "      <td>5780</td>\n",
       "      <td>1100</td>\n",
       "      <td>1340</td>\n",
       "      <td>0</td>\n",
       "      <td>8220</td>\n",
       "    </tr>\n",
       "  </tbody>\n",
       "</table>\n",
       "<p>68 rows × 17 columns</p>\n",
       "</div>"
      ],
      "text/plain": [
       "   LOCODE Country     Flow_in  Max_TEU  Min_TEU UNLOCODE           Port_Name  \\\n",
       "0   BDCGP      BD   1146693.0     2806      431    BDCGP         CHATTOGRAM    \n",
       "1   CNDCB      CN    208187.0     6931     2770    CNDCB        DA CHAN BAY    \n",
       "2   CNYTG      CN    217905.0     4253      542    CNYTG          YANTAI PT    \n",
       "3   CNQZH      CN    251114.0     6096      556    CNQZH         QINZHOU PT    \n",
       "4   CNFOC      CN    426504.0    16022      368    CNFOC              Fuzhou   \n",
       "..    ...     ...         ...      ...      ...      ...                 ...   \n",
       "63  TWTPE      TW   1718336.0    20190      610    TWTPE             TAIPEI    \n",
       "64  TWKEL      TW   1870217.0    10933      450    TWKEL  KEELUNG (CHILUNG)    \n",
       "65  TWKHH      TW  12887313.0    23964      180    TWKHH          KAOHSIUNG    \n",
       "66  VNHPH      VN   1963571.0    12726      357    VNHPH           HAIPHONG    \n",
       "67  VNSGN      VN   7353779.0    18995      404    VNSGN   HO CHI MINH CITY    \n",
       "\n",
       "    draft0  draft1  draft2  draft3  Sum_len  draft0_r  draft1_r  draft2_r  \\\n",
       "0   3124.0       0       0       0   3124.0      3060         0         0   \n",
       "1      0.0       0       0    2430   2430.0         0         0         0   \n",
       "2    237.0       0    1492    2876   4605.0       170         0      1340   \n",
       "3      0.0       0       0    1533   1533.0         0         0         0   \n",
       "4    300.0    1699       0    2034   4033.0       340      1650         0   \n",
       "..     ...     ...     ...     ...      ...       ...       ...       ...   \n",
       "63     0.0       0       0    1377   1377.0         0         0         0   \n",
       "64  3349.0     660     210     403   4622.0      3400       550       335   \n",
       "65  1259.0       0    2878    2565   6702.0      1190         0      3015   \n",
       "66  7084.0     450       0     750   8284.0      7140       550         0   \n",
       "67  5736.0    1182    1458       0   8376.0      5780      1100      1340   \n",
       "\n",
       "    draft3_r  Sum_len_r  \n",
       "0          0       3060  \n",
       "1       2340       2340  \n",
       "2       2730       4240  \n",
       "3       1560       1560  \n",
       "4       1950       3940  \n",
       "..       ...        ...  \n",
       "63      1560       1560  \n",
       "64       390       4675  \n",
       "65      2730       6935  \n",
       "66       780       8470  \n",
       "67         0       8220  \n",
       "\n",
       "[68 rows x 17 columns]"
      ]
     },
     "execution_count": 51,
     "metadata": {},
     "output_type": "execute_result"
    }
   ],
   "source": [
    "# master_port.to_csv('ports_master.csv')\n",
    "# master_port = sel_port.merge(port_draft,on='LOCODE')\n",
    "master_port = pd.read_csv('ports_master.csv').iloc[:,1:]\n",
    "master_port"
   ]
  },
  {
   "cell_type": "code",
   "execution_count": 50,
   "metadata": {},
   "outputs": [
    {
     "data": {
      "text/html": [
       "<div>\n",
       "<style scoped>\n",
       "    .dataframe tbody tr th:only-of-type {\n",
       "        vertical-align: middle;\n",
       "    }\n",
       "\n",
       "    .dataframe tbody tr th {\n",
       "        vertical-align: top;\n",
       "    }\n",
       "\n",
       "    .dataframe thead th {\n",
       "        text-align: right;\n",
       "    }\n",
       "</style>\n",
       "<table border=\"1\" class=\"dataframe\">\n",
       "  <thead>\n",
       "    <tr style=\"text-align: right;\">\n",
       "      <th></th>\n",
       "      <th>LOCODE</th>\n",
       "      <th>Country</th>\n",
       "      <th>Flow_in</th>\n",
       "      <th>Max_TEU</th>\n",
       "      <th>Min_TEU</th>\n",
       "      <th>UNLOCODE</th>\n",
       "      <th>Port_Name</th>\n",
       "      <th>draft0</th>\n",
       "      <th>draft1</th>\n",
       "      <th>draft2</th>\n",
       "      <th>draft3</th>\n",
       "      <th>Sum_len</th>\n",
       "      <th>draft0_r</th>\n",
       "      <th>draft1_r</th>\n",
       "      <th>draft2_r</th>\n",
       "      <th>draft3_r</th>\n",
       "      <th>Sum_len_r</th>\n",
       "    </tr>\n",
       "  </thead>\n",
       "  <tbody>\n",
       "    <tr>\n",
       "      <th>46</th>\n",
       "      <td>MYBTU</td>\n",
       "      <td>MY</td>\n",
       "      <td>211721.0</td>\n",
       "      <td>2806</td>\n",
       "      <td>144</td>\n",
       "      <td>MYBTU</td>\n",
       "      <td>BINTULU, SARAWAK</td>\n",
       "      <td>514.0</td>\n",
       "      <td>0</td>\n",
       "      <td>450</td>\n",
       "      <td>0</td>\n",
       "      <td>964.0</td>\n",
       "      <td>510</td>\n",
       "      <td>0</td>\n",
       "      <td>335</td>\n",
       "      <td>0</td>\n",
       "      <td>845</td>\n",
       "    </tr>\n",
       "    <tr>\n",
       "      <th>47</th>\n",
       "      <td>MYJHB</td>\n",
       "      <td>MY</td>\n",
       "      <td>642648.0</td>\n",
       "      <td>9404</td>\n",
       "      <td>216</td>\n",
       "      <td>MYJHB</td>\n",
       "      <td>JOHOR BAHRU</td>\n",
       "      <td>0.0</td>\n",
       "      <td>708</td>\n",
       "      <td>0</td>\n",
       "      <td>0</td>\n",
       "      <td>708.0</td>\n",
       "      <td>0</td>\n",
       "      <td>825</td>\n",
       "      <td>0</td>\n",
       "      <td>0</td>\n",
       "      <td>825</td>\n",
       "    </tr>\n",
       "    <tr>\n",
       "      <th>48</th>\n",
       "      <td>MYPEN</td>\n",
       "      <td>MY</td>\n",
       "      <td>606905.0</td>\n",
       "      <td>9404</td>\n",
       "      <td>653</td>\n",
       "      <td>MYPEN</td>\n",
       "      <td>PENANG (GEORGETOWN)</td>\n",
       "      <td>1245.0</td>\n",
       "      <td>600</td>\n",
       "      <td>0</td>\n",
       "      <td>0</td>\n",
       "      <td>1845.0</td>\n",
       "      <td>1190</td>\n",
       "      <td>550</td>\n",
       "      <td>0</td>\n",
       "      <td>0</td>\n",
       "      <td>1740</td>\n",
       "    </tr>\n",
       "    <tr>\n",
       "      <th>49</th>\n",
       "      <td>MYPKG</td>\n",
       "      <td>MY</td>\n",
       "      <td>13626729.0</td>\n",
       "      <td>23112</td>\n",
       "      <td>144</td>\n",
       "      <td>MYPKG</td>\n",
       "      <td>PORT KLANG (PELABUHAN KLANG)</td>\n",
       "      <td>94.0</td>\n",
       "      <td>1137</td>\n",
       "      <td>2388</td>\n",
       "      <td>1697</td>\n",
       "      <td>5316.0</td>\n",
       "      <td>170</td>\n",
       "      <td>1100</td>\n",
       "      <td>2345</td>\n",
       "      <td>1560</td>\n",
       "      <td>5175</td>\n",
       "    </tr>\n",
       "    <tr>\n",
       "      <th>50</th>\n",
       "      <td>MYTPP</td>\n",
       "      <td>MY</td>\n",
       "      <td>10256935.0</td>\n",
       "      <td>23656</td>\n",
       "      <td>1005</td>\n",
       "      <td>MYTPP</td>\n",
       "      <td>TANJUNG PELEPAS</td>\n",
       "      <td>0.0</td>\n",
       "      <td>0</td>\n",
       "      <td>0</td>\n",
       "      <td>5040</td>\n",
       "      <td>5040.0</td>\n",
       "      <td>0</td>\n",
       "      <td>0</td>\n",
       "      <td>0</td>\n",
       "      <td>5070</td>\n",
       "      <td>5070</td>\n",
       "    </tr>\n",
       "  </tbody>\n",
       "</table>\n",
       "</div>"
      ],
      "text/plain": [
       "   LOCODE Country     Flow_in  Max_TEU  Min_TEU UNLOCODE  \\\n",
       "46  MYBTU      MY    211721.0     2806      144    MYBTU   \n",
       "47  MYJHB      MY    642648.0     9404      216    MYJHB   \n",
       "48  MYPEN      MY    606905.0     9404      653    MYPEN   \n",
       "49  MYPKG      MY  13626729.0    23112      144    MYPKG   \n",
       "50  MYTPP      MY  10256935.0    23656     1005    MYTPP   \n",
       "\n",
       "                        Port_Name  draft0  draft1  draft2  draft3  Sum_len  \\\n",
       "46              BINTULU, SARAWAK    514.0       0     450       0    964.0   \n",
       "47                   JOHOR BAHRU      0.0     708       0       0    708.0   \n",
       "48           PENANG (GEORGETOWN)   1245.0     600       0       0   1845.0   \n",
       "49  PORT KLANG (PELABUHAN KLANG)     94.0    1137    2388    1697   5316.0   \n",
       "50               TANJUNG PELEPAS      0.0       0       0    5040   5040.0   \n",
       "\n",
       "    draft0_r  draft1_r  draft2_r  draft3_r  Sum_len_r  \n",
       "46       510         0       335         0        845  \n",
       "47         0       825         0         0        825  \n",
       "48      1190       550         0         0       1740  \n",
       "49       170      1100      2345      1560       5175  \n",
       "50         0         0         0      5070       5070  "
      ]
     },
     "execution_count": 50,
     "metadata": {},
     "output_type": "execute_result"
    }
   ],
   "source": [
    "master_port[master_port.Country =='MY']"
   ]
  },
  {
   "cell_type": "code",
   "execution_count": 39,
   "metadata": {},
   "outputs": [],
   "source": [
    "# Round berth lengh\n",
    "def berth_round(ber,ves):\n",
    "    return ves*round(ber/ves)\n",
    "#  170 275 335 390\n",
    "master_port['draft0_r'] = master_port.draft0.apply(lambda x: berth_round(x,170))\n",
    "master_port['draft1_r'] = master_port.draft1.apply(lambda x: berth_round(x,275))\n",
    "master_port['draft2_r'] = master_port.draft2.apply(lambda x: berth_round(x,335))\n",
    "master_port['draft3_r'] = master_port.draft3.apply(lambda x: berth_round(x,390))\n",
    "# Cumulative (Large berth can accomodate smaller vessel)\n",
    "# master_port['draft3_rc'] = master_port.draft3_r\n",
    "# master_port['draft2_rc'] = master_port.draft2_r +  master_port.draft3_rc\n",
    "# master_port['draft1_rc'] = master_port.draft1_r +  master_port.draft2_rc\n",
    "# master_port['draft0_rc'] = master_port.draft0_r +  master_port.draft1_rc\n"
   ]
  },
  {
   "cell_type": "code",
   "execution_count": 41,
   "metadata": {},
   "outputs": [
    {
     "data": {
      "text/html": [
       "<div>\n",
       "<style scoped>\n",
       "    .dataframe tbody tr th:only-of-type {\n",
       "        vertical-align: middle;\n",
       "    }\n",
       "\n",
       "    .dataframe tbody tr th {\n",
       "        vertical-align: top;\n",
       "    }\n",
       "\n",
       "    .dataframe thead th {\n",
       "        text-align: right;\n",
       "    }\n",
       "</style>\n",
       "<table border=\"1\" class=\"dataframe\">\n",
       "  <thead>\n",
       "    <tr style=\"text-align: right;\">\n",
       "      <th></th>\n",
       "      <th>LOCODE</th>\n",
       "      <th>Sum_len</th>\n",
       "      <th>Sum_len_r</th>\n",
       "      <th>Sum_len_rc</th>\n",
       "    </tr>\n",
       "  </thead>\n",
       "  <tbody>\n",
       "    <tr>\n",
       "      <th>58</th>\n",
       "      <td>SGSIN</td>\n",
       "      <td>20239.0</td>\n",
       "      <td>20235</td>\n",
       "      <td>20235</td>\n",
       "    </tr>\n",
       "    <tr>\n",
       "      <th>9</th>\n",
       "      <td>CNSHG</td>\n",
       "      <td>16391.0</td>\n",
       "      <td>16130</td>\n",
       "      <td>16130</td>\n",
       "    </tr>\n",
       "    <tr>\n",
       "      <th>42</th>\n",
       "      <td>KRPUS</td>\n",
       "      <td>14515.0</td>\n",
       "      <td>14250</td>\n",
       "      <td>14250</td>\n",
       "    </tr>\n",
       "    <tr>\n",
       "      <th>6</th>\n",
       "      <td>CNNSA</td>\n",
       "      <td>12939.0</td>\n",
       "      <td>12985</td>\n",
       "      <td>12985</td>\n",
       "    </tr>\n",
       "    <tr>\n",
       "      <th>7</th>\n",
       "      <td>CNQDG</td>\n",
       "      <td>10201.0</td>\n",
       "      <td>10145</td>\n",
       "      <td>10145</td>\n",
       "    </tr>\n",
       "    <tr>\n",
       "      <th>5</th>\n",
       "      <td>CNNBG</td>\n",
       "      <td>9500.0</td>\n",
       "      <td>9360</td>\n",
       "      <td>9360</td>\n",
       "    </tr>\n",
       "    <tr>\n",
       "      <th>15</th>\n",
       "      <td>HKHKG</td>\n",
       "      <td>8980.0</td>\n",
       "      <td>9135</td>\n",
       "      <td>9135</td>\n",
       "    </tr>\n",
       "    <tr>\n",
       "      <th>12</th>\n",
       "      <td>CNXMG</td>\n",
       "      <td>8620.0</td>\n",
       "      <td>8590</td>\n",
       "      <td>8590</td>\n",
       "    </tr>\n",
       "    <tr>\n",
       "      <th>67</th>\n",
       "      <td>VNSGN</td>\n",
       "      <td>8376.0</td>\n",
       "      <td>8220</td>\n",
       "      <td>8220</td>\n",
       "    </tr>\n",
       "    <tr>\n",
       "      <th>16</th>\n",
       "      <td>IDJKT</td>\n",
       "      <td>8335.0</td>\n",
       "      <td>8530</td>\n",
       "      <td>8530</td>\n",
       "    </tr>\n",
       "    <tr>\n",
       "      <th>66</th>\n",
       "      <td>VNHPH</td>\n",
       "      <td>8284.0</td>\n",
       "      <td>8470</td>\n",
       "      <td>8470</td>\n",
       "    </tr>\n",
       "    <tr>\n",
       "      <th>11</th>\n",
       "      <td>CNTXG</td>\n",
       "      <td>8140.0</td>\n",
       "      <td>8285</td>\n",
       "      <td>8285</td>\n",
       "    </tr>\n",
       "    <tr>\n",
       "      <th>14</th>\n",
       "      <td>CNYTN</td>\n",
       "      <td>7687.0</td>\n",
       "      <td>7580</td>\n",
       "      <td>7580</td>\n",
       "    </tr>\n",
       "    <tr>\n",
       "      <th>10</th>\n",
       "      <td>CNSHK</td>\n",
       "      <td>7067.0</td>\n",
       "      <td>6675</td>\n",
       "      <td>6675</td>\n",
       "    </tr>\n",
       "  </tbody>\n",
       "</table>\n",
       "</div>"
      ],
      "text/plain": [
       "   LOCODE  Sum_len  Sum_len_r  Sum_len_rc\n",
       "58  SGSIN  20239.0      20235       20235\n",
       "9   CNSHG  16391.0      16130       16130\n",
       "42  KRPUS  14515.0      14250       14250\n",
       "6   CNNSA  12939.0      12985       12985\n",
       "7   CNQDG  10201.0      10145       10145\n",
       "5   CNNBG   9500.0       9360        9360\n",
       "15  HKHKG   8980.0       9135        9135\n",
       "12  CNXMG   8620.0       8590        8590\n",
       "67  VNSGN   8376.0       8220        8220\n",
       "16  IDJKT   8335.0       8530        8530\n",
       "66  VNHPH   8284.0       8470        8470\n",
       "11  CNTXG   8140.0       8285        8285\n",
       "14  CNYTN   7687.0       7580        7580\n",
       "10  CNSHK   7067.0       6675        6675"
      ]
     },
     "execution_count": 41,
     "metadata": {},
     "output_type": "execute_result"
    }
   ],
   "source": [
    "# Remove selected port \n",
    "# list(zip(master_port.LOCODE,master_port.draft0 + master_port.draft1 + master_port.draft2 + master_port.draft3))\n",
    "master_port['Sum_len_r'] = master_port.draft0_r + master_port.draft1_r + master_port.draft2_r + master_port.draft3_r\n",
    "master_port['Sum_len_rc'] = master_port.draft0_r + master_port.draft1_r + master_port.draft2_r + master_port.draft3_r\n",
    "master_port[['LOCODE','Sum_len','Sum_len_r','Sum_len_rc']].sort_values(by='Sum_len',ascending=False).head(14)"
   ]
  },
  {
   "cell_type": "code",
   "execution_count": 22,
   "metadata": {},
   "outputs": [],
   "source": [
    "master_port.to_csv('ports_master.csv')\n",
    "int_country "
   ]
  },
  {
   "cell_type": "code",
   "execution_count": 24,
   "metadata": {},
   "outputs": [],
   "source": [
    "# Fill in real througput for topport\n",
    "\n",
    "cnt = 0\n",
    "# OPE : original of cargoes, port, economics of port\n",
    "# PO : port, original of cargoes\n",
    "for _f,f in enumerate(economics):\n",
    "    fports = [(_p,p) for c,_p,p in port_country if c == f]\n",
    "    # print(f,fports,len(fports))\n",
    "    for _t,t in enumerate(economics):\n",
    "        if (f==t) or (f in regions_cod and t in regions_cod):\n",
    "            cnt += 1\n",
    "            continue\n",
    "        ## Each port in f\n",
    "        for _p,p in fports:\n",
    "            mdl.add_constraint(imp[(_t,_p,f)]<= \n",
    "                mdl.sum(port_unload[(p_,o)] for p_,o in po if p == p_ and o!=_f),\n",
    "                \"Import @ {p},{f} for {t} product\")         # Import from t to f\n",
    "            mdl.add_constraint(exp[(_t,_p,f)]<= \n",
    "                mdl.sum(port_load[(p_,o)] for p_,o in po if p == p_ and o==_f),\n",
    "                f\"Export @ {p},{f} for {t} product\")        # Export from f to t\n",
    "\n",
    "        if f in int_cod:\n",
    "        ## Sum every port in f (demand satisfied)\n",
    "            mdl.add_constraint(mdl.sum(imp[(o,_p,e)] for o,_p,e in ope if o==_t and e == f)\n",
    "                                == demands[(t,f)],\n",
    "                                f\"Demand (in) satisfy for {f},{t}\")\n",
    "            mdl.add_constraint(mdl.sum(exp[(o,_p,e)] for o,_p,e in ope if o==_f and e == f)\n",
    "                                == demands[(f,t)],\n",
    "                                f\"Demand (in) satisfy for {f},{t}\")\n",
    "        else:\n",
    "            ## Sum every port in f (demand relaxed satisfied)\n",
    "            mdl.add_constraint(mdl.sum(imp[(o,_p,e)] for o,_p,e in ope if o==_t and e == f)\n",
    "                                <= demands[(t,f)],\n",
    "                                f\"Demand (in) satisfy for {f},{t}\")\n",
    "            mdl.add_constraint(mdl.sum(exp[(o,_p,e)] for o,_p,e in ope if o==_f and e == f)\n",
    "                                <= demands[(f,t)],\n",
    "                                f\"Demand (in) satisfy for {f},{t}\")"
   ]
  },
  {
   "cell_type": "code",
   "execution_count": null,
   "metadata": {},
   "outputs": [],
   "source": [
    "country = pd.read_csv('..//country.csv',na_filter = False).iloc[:,1:]\n",
    "# country\n"
   ]
  },
  {
   "cell_type": "code",
   "execution_count": null,
   "metadata": {},
   "outputs": [],
   "source": [
    "cou_reg = pd.Series(country.Economics.values,index=country.LOCODE).dropna().to_dict()\n",
    "cou_reg[''] = ''\n",
    "cou_reg['TW'] = 'INT'\n",
    "econ_zone = dict(zip(country.LOCODE,country.Economics))\n",
    "len((dict.fromkeys(econ_zone.values())))\n",
    "# country[['Country_Name','Country_ISO3','Country_Code','Economics']]\n",
    "econ_zone['TW'] = 'OAS'"
   ]
  }
 ],
 "metadata": {
  "interpreter": {
   "hash": "b3ba2566441a7c06988d0923437866b63cedc61552a5af99d1f4fb67d367b25f"
  },
  "kernelspec": {
   "display_name": "Python 3.8.5 64-bit ('base': conda)",
   "language": "python",
   "name": "python3"
  },
  "language_info": {
   "codemirror_mode": {
    "name": "ipython",
    "version": 3
   },
   "file_extension": ".py",
   "mimetype": "text/x-python",
   "name": "python",
   "nbconvert_exporter": "python",
   "pygments_lexer": "ipython3",
   "version": "3.8.5"
  },
  "orig_nbformat": 4
 },
 "nbformat": 4,
 "nbformat_minor": 2
}
